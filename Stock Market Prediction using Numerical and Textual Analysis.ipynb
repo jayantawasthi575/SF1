{
 "cells": [
  {
   "cell_type": "code",
   "execution_count": 1,
   "metadata": {},
   "outputs": [],
   "source": [
    "import pandas as pd\n",
    "stock=pd.read_csv(\"st.csv\")\n",
    "news=pd.read_csv(\"news.csv\")"
   ]
  },
  {
   "cell_type": "code",
   "execution_count": 2,
   "metadata": {},
   "outputs": [
    {
     "data": {
      "text/html": [
       "<div>\n",
       "<style scoped>\n",
       "    .dataframe tbody tr th:only-of-type {\n",
       "        vertical-align: middle;\n",
       "    }\n",
       "\n",
       "    .dataframe tbody tr th {\n",
       "        vertical-align: top;\n",
       "    }\n",
       "\n",
       "    .dataframe thead th {\n",
       "        text-align: right;\n",
       "    }\n",
       "</style>\n",
       "<table border=\"1\" class=\"dataframe\">\n",
       "  <thead>\n",
       "    <tr style=\"text-align: right;\">\n",
       "      <th></th>\n",
       "      <th>Date</th>\n",
       "      <th>Open</th>\n",
       "      <th>High</th>\n",
       "      <th>Low</th>\n",
       "      <th>Close</th>\n",
       "      <th>Adj Close</th>\n",
       "      <th>Volume</th>\n",
       "    </tr>\n",
       "  </thead>\n",
       "  <tbody>\n",
       "    <tr>\n",
       "      <td>0</td>\n",
       "      <td>2001-07-12</td>\n",
       "      <td>3390.340088</td>\n",
       "      <td>3459.370117</td>\n",
       "      <td>3384.739990</td>\n",
       "      <td>3452.750000</td>\n",
       "      <td>3452.750000</td>\n",
       "      <td>0.0</td>\n",
       "    </tr>\n",
       "    <tr>\n",
       "      <td>1</td>\n",
       "      <td>2001-07-13</td>\n",
       "      <td>3470.939941</td>\n",
       "      <td>3513.790039</td>\n",
       "      <td>3438.030029</td>\n",
       "      <td>3453.989990</td>\n",
       "      <td>3453.989990</td>\n",
       "      <td>0.0</td>\n",
       "    </tr>\n",
       "    <tr>\n",
       "      <td>2</td>\n",
       "      <td>2001-07-16</td>\n",
       "      <td>3453.629883</td>\n",
       "      <td>3478.110107</td>\n",
       "      <td>3427.820068</td>\n",
       "      <td>3434.830078</td>\n",
       "      <td>3434.830078</td>\n",
       "      <td>0.0</td>\n",
       "    </tr>\n",
       "    <tr>\n",
       "      <td>3</td>\n",
       "      <td>2001-07-17</td>\n",
       "      <td>3414.060059</td>\n",
       "      <td>3440.290039</td>\n",
       "      <td>3397.649902</td>\n",
       "      <td>3431.929932</td>\n",
       "      <td>3431.929932</td>\n",
       "      <td>0.0</td>\n",
       "    </tr>\n",
       "    <tr>\n",
       "      <td>4</td>\n",
       "      <td>2001-07-18</td>\n",
       "      <td>3434.939941</td>\n",
       "      <td>3446.179932</td>\n",
       "      <td>3377.580078</td>\n",
       "      <td>3383.409912</td>\n",
       "      <td>3383.409912</td>\n",
       "      <td>0.0</td>\n",
       "    </tr>\n",
       "  </tbody>\n",
       "</table>\n",
       "</div>"
      ],
      "text/plain": [
       "         Date         Open         High          Low        Close  \\\n",
       "0  2001-07-12  3390.340088  3459.370117  3384.739990  3452.750000   \n",
       "1  2001-07-13  3470.939941  3513.790039  3438.030029  3453.989990   \n",
       "2  2001-07-16  3453.629883  3478.110107  3427.820068  3434.830078   \n",
       "3  2001-07-17  3414.060059  3440.290039  3397.649902  3431.929932   \n",
       "4  2001-07-18  3434.939941  3446.179932  3377.580078  3383.409912   \n",
       "\n",
       "     Adj Close  Volume  \n",
       "0  3452.750000     0.0  \n",
       "1  3453.989990     0.0  \n",
       "2  3434.830078     0.0  \n",
       "3  3431.929932     0.0  \n",
       "4  3383.409912     0.0  "
      ]
     },
     "execution_count": 2,
     "metadata": {},
     "output_type": "execute_result"
    }
   ],
   "source": [
    "stock.head()"
   ]
  },
  {
   "cell_type": "code",
   "execution_count": 3,
   "metadata": {},
   "outputs": [
    {
     "data": {
      "text/html": [
       "<div>\n",
       "<style scoped>\n",
       "    .dataframe tbody tr th:only-of-type {\n",
       "        vertical-align: middle;\n",
       "    }\n",
       "\n",
       "    .dataframe tbody tr th {\n",
       "        vertical-align: top;\n",
       "    }\n",
       "\n",
       "    .dataframe thead th {\n",
       "        text-align: right;\n",
       "    }\n",
       "</style>\n",
       "<table border=\"1\" class=\"dataframe\">\n",
       "  <thead>\n",
       "    <tr style=\"text-align: right;\">\n",
       "      <th></th>\n",
       "      <th>publish_date</th>\n",
       "      <th>headline_category</th>\n",
       "      <th>headline_text</th>\n",
       "    </tr>\n",
       "  </thead>\n",
       "  <tbody>\n",
       "    <tr>\n",
       "      <td>0</td>\n",
       "      <td>20010101</td>\n",
       "      <td>sports.wwe</td>\n",
       "      <td>win over cena satisfying but defeating underta...</td>\n",
       "    </tr>\n",
       "    <tr>\n",
       "      <td>1</td>\n",
       "      <td>20010102</td>\n",
       "      <td>unknown</td>\n",
       "      <td>Status quo will not be disturbed at Ayodhya; s...</td>\n",
       "    </tr>\n",
       "    <tr>\n",
       "      <td>2</td>\n",
       "      <td>20010102</td>\n",
       "      <td>unknown</td>\n",
       "      <td>Fissures in Hurriyat over Pak visit</td>\n",
       "    </tr>\n",
       "    <tr>\n",
       "      <td>3</td>\n",
       "      <td>20010102</td>\n",
       "      <td>unknown</td>\n",
       "      <td>America's unwanted heading for India?</td>\n",
       "    </tr>\n",
       "    <tr>\n",
       "      <td>4</td>\n",
       "      <td>20010102</td>\n",
       "      <td>unknown</td>\n",
       "      <td>For bigwigs; it is destination Goa</td>\n",
       "    </tr>\n",
       "  </tbody>\n",
       "</table>\n",
       "</div>"
      ],
      "text/plain": [
       "   publish_date headline_category  \\\n",
       "0      20010101        sports.wwe   \n",
       "1      20010102           unknown   \n",
       "2      20010102           unknown   \n",
       "3      20010102           unknown   \n",
       "4      20010102           unknown   \n",
       "\n",
       "                                       headline_text  \n",
       "0  win over cena satisfying but defeating underta...  \n",
       "1  Status quo will not be disturbed at Ayodhya; s...  \n",
       "2                Fissures in Hurriyat over Pak visit  \n",
       "3              America's unwanted heading for India?  \n",
       "4                 For bigwigs; it is destination Goa  "
      ]
     },
     "execution_count": 3,
     "metadata": {},
     "output_type": "execute_result"
    }
   ],
   "source": [
    "news.head()"
   ]
  },
  {
   "cell_type": "code",
   "execution_count": 4,
   "metadata": {},
   "outputs": [],
   "source": [
    "news[\"publish_date\"]=news[\"publish_date\"].astype(str)"
   ]
  },
  {
   "cell_type": "code",
   "execution_count": 5,
   "metadata": {},
   "outputs": [],
   "source": [
    "news[\"publish_date\"]=pd.to_datetime(news[\"publish_date\"],infer_datetime_format=True)"
   ]
  },
  {
   "cell_type": "code",
   "execution_count": 6,
   "metadata": {},
   "outputs": [
    {
     "name": "stdout",
     "output_type": "stream",
     "text": [
      "<class 'pandas.core.frame.DataFrame'>\n",
      "RangeIndex: 3297172 entries, 0 to 3297171\n",
      "Data columns (total 3 columns):\n",
      "publish_date         datetime64[ns]\n",
      "headline_category    object\n",
      "headline_text        object\n",
      "dtypes: datetime64[ns](1), object(2)\n",
      "memory usage: 75.5+ MB\n"
     ]
    }
   ],
   "source": [
    "news.info()"
   ]
  },
  {
   "cell_type": "code",
   "execution_count": 7,
   "metadata": {},
   "outputs": [
    {
     "data": {
      "text/plain": [
       "india                      285619\n",
       "unknown                    207732\n",
       "city.mumbai                132649\n",
       "city.delhi                 124658\n",
       "business.india-business    115246\n",
       "                            ...  \n",
       "actresses                       7\n",
       "sports.headline3                7\n",
       "did-you-know                    6\n",
       "sports.headline6                3\n",
       "party-manifestos                2\n",
       "Name: headline_category, Length: 1016, dtype: int64"
      ]
     },
     "execution_count": 7,
     "metadata": {},
     "output_type": "execute_result"
    }
   ],
   "source": [
    "news[\"headline_category\"].value_counts()"
   ]
  },
  {
   "cell_type": "code",
   "execution_count": 8,
   "metadata": {},
   "outputs": [],
   "source": [
    "t=news.loc[news[\"headline_category\"]==\"business.india-business\"]"
   ]
  },
  {
   "cell_type": "code",
   "execution_count": 9,
   "metadata": {},
   "outputs": [
    {
     "name": "stdout",
     "output_type": "stream",
     "text": [
      "<class 'pandas.core.frame.DataFrame'>\n",
      "Int64Index: 115246 entries, 276 to 3297124\n",
      "Data columns (total 3 columns):\n",
      "publish_date         115246 non-null datetime64[ns]\n",
      "headline_category    115246 non-null object\n",
      "headline_text        115246 non-null object\n",
      "dtypes: datetime64[ns](1), object(2)\n",
      "memory usage: 3.5+ MB\n"
     ]
    }
   ],
   "source": [
    "t.info()"
   ]
  },
  {
   "cell_type": "code",
   "execution_count": 10,
   "metadata": {},
   "outputs": [
    {
     "name": "stderr",
     "output_type": "stream",
     "text": [
      "E:\\Anaconda3\\lib\\site-packages\\pandas\\core\\frame.py:4102: SettingWithCopyWarning: \n",
      "A value is trying to be set on a copy of a slice from a DataFrame\n",
      "\n",
      "See the caveats in the documentation: http://pandas.pydata.org/pandas-docs/stable/user_guide/indexing.html#returning-a-view-versus-a-copy\n",
      "  errors=errors,\n"
     ]
    }
   ],
   "source": [
    "t.drop([\"headline_category\"],axis=1,inplace=True)"
   ]
  },
  {
   "cell_type": "code",
   "execution_count": 11,
   "metadata": {},
   "outputs": [
    {
     "data": {
      "text/html": [
       "<div>\n",
       "<style scoped>\n",
       "    .dataframe tbody tr th:only-of-type {\n",
       "        vertical-align: middle;\n",
       "    }\n",
       "\n",
       "    .dataframe tbody tr th {\n",
       "        vertical-align: top;\n",
       "    }\n",
       "\n",
       "    .dataframe thead th {\n",
       "        text-align: right;\n",
       "    }\n",
       "</style>\n",
       "<table border=\"1\" class=\"dataframe\">\n",
       "  <thead>\n",
       "    <tr style=\"text-align: right;\">\n",
       "      <th></th>\n",
       "      <th>publish_date</th>\n",
       "      <th>headline_text</th>\n",
       "    </tr>\n",
       "  </thead>\n",
       "  <tbody>\n",
       "    <tr>\n",
       "      <td>276</td>\n",
       "      <td>2001-01-04</td>\n",
       "      <td>Car dealers caught in Bihar sales tax ruling</td>\n",
       "    </tr>\n",
       "    <tr>\n",
       "      <td>4500</td>\n",
       "      <td>2001-05-22</td>\n",
       "      <td>Re-negotiation best: Deshmukh; lenders' SOS to...</td>\n",
       "    </tr>\n",
       "    <tr>\n",
       "      <td>4567</td>\n",
       "      <td>2001-05-22</td>\n",
       "      <td>Samsung says hello to cellular unit in India</td>\n",
       "    </tr>\n",
       "    <tr>\n",
       "      <td>4574</td>\n",
       "      <td>2001-05-22</td>\n",
       "      <td>Govt lifts port-linked curbs on imports</td>\n",
       "    </tr>\n",
       "    <tr>\n",
       "      <td>4587</td>\n",
       "      <td>2001-05-22</td>\n",
       "      <td>RIL plans to mop up to Rs 1;000cr</td>\n",
       "    </tr>\n",
       "  </tbody>\n",
       "</table>\n",
       "</div>"
      ],
      "text/plain": [
       "     publish_date                                      headline_text\n",
       "276    2001-01-04       Car dealers caught in Bihar sales tax ruling\n",
       "4500   2001-05-22  Re-negotiation best: Deshmukh; lenders' SOS to...\n",
       "4567   2001-05-22       Samsung says hello to cellular unit in India\n",
       "4574   2001-05-22            Govt lifts port-linked curbs on imports\n",
       "4587   2001-05-22                  RIL plans to mop up to Rs 1;000cr"
      ]
     },
     "execution_count": 11,
     "metadata": {},
     "output_type": "execute_result"
    }
   ],
   "source": [
    "t.head()"
   ]
  },
  {
   "cell_type": "code",
   "execution_count": 12,
   "metadata": {},
   "outputs": [],
   "source": [
    "tt=pd.DataFrame(t)"
   ]
  },
  {
   "cell_type": "code",
   "execution_count": 13,
   "metadata": {},
   "outputs": [],
   "source": [
    "tt.columns=[\"DATE\",\"Headline\"]"
   ]
  },
  {
   "cell_type": "code",
   "execution_count": 14,
   "metadata": {},
   "outputs": [],
   "source": [
    "tt=tt.set_index(['DATE'])"
   ]
  },
  {
   "cell_type": "code",
   "execution_count": 15,
   "metadata": {},
   "outputs": [
    {
     "data": {
      "text/html": [
       "<div>\n",
       "<style scoped>\n",
       "    .dataframe tbody tr th:only-of-type {\n",
       "        vertical-align: middle;\n",
       "    }\n",
       "\n",
       "    .dataframe tbody tr th {\n",
       "        vertical-align: top;\n",
       "    }\n",
       "\n",
       "    .dataframe thead th {\n",
       "        text-align: right;\n",
       "    }\n",
       "</style>\n",
       "<table border=\"1\" class=\"dataframe\">\n",
       "  <thead>\n",
       "    <tr style=\"text-align: right;\">\n",
       "      <th></th>\n",
       "      <th>Headline</th>\n",
       "    </tr>\n",
       "    <tr>\n",
       "      <th>DATE</th>\n",
       "      <th></th>\n",
       "    </tr>\n",
       "  </thead>\n",
       "  <tbody>\n",
       "    <tr>\n",
       "      <td>2001-01-04</td>\n",
       "      <td>Car dealers caught in Bihar sales tax ruling</td>\n",
       "    </tr>\n",
       "    <tr>\n",
       "      <td>2001-05-22</td>\n",
       "      <td>Re-negotiation best: Deshmukh; lenders' SOS to...</td>\n",
       "    </tr>\n",
       "    <tr>\n",
       "      <td>2001-05-22</td>\n",
       "      <td>Samsung says hello to cellular unit in India</td>\n",
       "    </tr>\n",
       "    <tr>\n",
       "      <td>2001-05-22</td>\n",
       "      <td>Govt lifts port-linked curbs on imports</td>\n",
       "    </tr>\n",
       "    <tr>\n",
       "      <td>2001-05-22</td>\n",
       "      <td>RIL plans to mop up to Rs 1;000cr</td>\n",
       "    </tr>\n",
       "  </tbody>\n",
       "</table>\n",
       "</div>"
      ],
      "text/plain": [
       "                                                     Headline\n",
       "DATE                                                         \n",
       "2001-01-04       Car dealers caught in Bihar sales tax ruling\n",
       "2001-05-22  Re-negotiation best: Deshmukh; lenders' SOS to...\n",
       "2001-05-22       Samsung says hello to cellular unit in India\n",
       "2001-05-22            Govt lifts port-linked curbs on imports\n",
       "2001-05-22                  RIL plans to mop up to Rs 1;000cr"
      ]
     },
     "execution_count": 15,
     "metadata": {},
     "output_type": "execute_result"
    }
   ],
   "source": [
    "tt.head()"
   ]
  },
  {
   "cell_type": "code",
   "execution_count": 16,
   "metadata": {},
   "outputs": [
    {
     "data": {
      "text/html": [
       "<div>\n",
       "<style scoped>\n",
       "    .dataframe tbody tr th:only-of-type {\n",
       "        vertical-align: middle;\n",
       "    }\n",
       "\n",
       "    .dataframe tbody tr th {\n",
       "        vertical-align: top;\n",
       "    }\n",
       "\n",
       "    .dataframe thead th {\n",
       "        text-align: right;\n",
       "    }\n",
       "</style>\n",
       "<table border=\"1\" class=\"dataframe\">\n",
       "  <thead>\n",
       "    <tr style=\"text-align: right;\">\n",
       "      <th></th>\n",
       "      <th>Headline</th>\n",
       "    </tr>\n",
       "    <tr>\n",
       "      <th>DATE</th>\n",
       "      <th></th>\n",
       "    </tr>\n",
       "  </thead>\n",
       "  <tbody>\n",
       "    <tr>\n",
       "      <td>2020-06-30</td>\n",
       "      <td>HDFC Bank looks to raise up to Rs 50;000 crore</td>\n",
       "    </tr>\n",
       "    <tr>\n",
       "      <td>2020-06-30</td>\n",
       "      <td>19% of MSMEs eligible for govt guarantee in hi...</td>\n",
       "    </tr>\n",
       "    <tr>\n",
       "      <td>2020-06-30</td>\n",
       "      <td>'Legends on Unacademy' to be on Times Now; ET Now</td>\n",
       "    </tr>\n",
       "    <tr>\n",
       "      <td>2020-06-30</td>\n",
       "      <td>Key Covid-19 drugs to be hit by customs checks...</td>\n",
       "    </tr>\n",
       "    <tr>\n",
       "      <td>2020-06-30</td>\n",
       "      <td>Top ministers discuss 'ban' on Chinese 5G equi...</td>\n",
       "    </tr>\n",
       "  </tbody>\n",
       "</table>\n",
       "</div>"
      ],
      "text/plain": [
       "                                                     Headline\n",
       "DATE                                                         \n",
       "2020-06-30     HDFC Bank looks to raise up to Rs 50;000 crore\n",
       "2020-06-30  19% of MSMEs eligible for govt guarantee in hi...\n",
       "2020-06-30  'Legends on Unacademy' to be on Times Now; ET Now\n",
       "2020-06-30  Key Covid-19 drugs to be hit by customs checks...\n",
       "2020-06-30  Top ministers discuss 'ban' on Chinese 5G equi..."
      ]
     },
     "execution_count": 16,
     "metadata": {},
     "output_type": "execute_result"
    }
   ],
   "source": [
    "tt.tail()"
   ]
  },
  {
   "cell_type": "code",
   "execution_count": 17,
   "metadata": {},
   "outputs": [],
   "source": [
    "tt=tt.groupby(tt.index).sum()"
   ]
  },
  {
   "cell_type": "code",
   "execution_count": 18,
   "metadata": {},
   "outputs": [
    {
     "data": {
      "text/plain": [
       "\"Re-negotiation best: Deshmukh; lenders' SOS to CentreSamsung says hello to cellular unit in IndiaGovt lifts port-linked curbs on importsRIL plans to mop up to Rs 1;000crEicher crashes into the red; to cut 200 jobsIndo Rama posts Rs18cr netJet; Sahara to wait & watch\""
      ]
     },
     "execution_count": 18,
     "metadata": {},
     "output_type": "execute_result"
    }
   ],
   "source": [
    "tt[\"Headline\"].iloc[1]"
   ]
  },
  {
   "cell_type": "code",
   "execution_count": 19,
   "metadata": {},
   "outputs": [
    {
     "data": {
      "text/html": [
       "<div>\n",
       "<style scoped>\n",
       "    .dataframe tbody tr th:only-of-type {\n",
       "        vertical-align: middle;\n",
       "    }\n",
       "\n",
       "    .dataframe tbody tr th {\n",
       "        vertical-align: top;\n",
       "    }\n",
       "\n",
       "    .dataframe thead th {\n",
       "        text-align: right;\n",
       "    }\n",
       "</style>\n",
       "<table border=\"1\" class=\"dataframe\">\n",
       "  <thead>\n",
       "    <tr style=\"text-align: right;\">\n",
       "      <th></th>\n",
       "      <th>Headline</th>\n",
       "    </tr>\n",
       "    <tr>\n",
       "      <th>DATE</th>\n",
       "      <th></th>\n",
       "    </tr>\n",
       "  </thead>\n",
       "  <tbody>\n",
       "    <tr>\n",
       "      <td>2001-01-04</td>\n",
       "      <td>Car dealers caught in Bihar sales tax ruling</td>\n",
       "    </tr>\n",
       "    <tr>\n",
       "      <td>2001-05-22</td>\n",
       "      <td>Re-negotiation best: Deshmukh; lenders' SOS to...</td>\n",
       "    </tr>\n",
       "    <tr>\n",
       "      <td>2001-05-28</td>\n",
       "      <td>Auto body drives in new classification normsAr...</td>\n",
       "    </tr>\n",
       "    <tr>\n",
       "      <td>2001-05-29</td>\n",
       "      <td>Ashok Leyland to cut jobs; divisions'Fixing of...</td>\n",
       "    </tr>\n",
       "    <tr>\n",
       "      <td>2001-05-30</td>\n",
       "      <td>Beware; the snoopware is watching you!IA dives...</td>\n",
       "    </tr>\n",
       "  </tbody>\n",
       "</table>\n",
       "</div>"
      ],
      "text/plain": [
       "                                                     Headline\n",
       "DATE                                                         \n",
       "2001-01-04       Car dealers caught in Bihar sales tax ruling\n",
       "2001-05-22  Re-negotiation best: Deshmukh; lenders' SOS to...\n",
       "2001-05-28  Auto body drives in new classification normsAr...\n",
       "2001-05-29  Ashok Leyland to cut jobs; divisions'Fixing of...\n",
       "2001-05-30  Beware; the snoopware is watching you!IA dives..."
      ]
     },
     "execution_count": 19,
     "metadata": {},
     "output_type": "execute_result"
    }
   ],
   "source": [
    "tt.head()"
   ]
  },
  {
   "cell_type": "code",
   "execution_count": 20,
   "metadata": {},
   "outputs": [
    {
     "data": {
      "text/plain": [
       "6863"
      ]
     },
     "execution_count": 20,
     "metadata": {},
     "output_type": "execute_result"
    }
   ],
   "source": [
    "len(tt)"
   ]
  },
  {
   "cell_type": "code",
   "execution_count": 21,
   "metadata": {},
   "outputs": [],
   "source": [
    "import datetime"
   ]
  },
  {
   "cell_type": "code",
   "execution_count": 22,
   "metadata": {},
   "outputs": [],
   "source": [
    "tt = tt[tt.index.date > datetime.date(2001,7,11)]"
   ]
  },
  {
   "cell_type": "code",
   "execution_count": 23,
   "metadata": {},
   "outputs": [
    {
     "data": {
      "text/html": [
       "<div>\n",
       "<style scoped>\n",
       "    .dataframe tbody tr th:only-of-type {\n",
       "        vertical-align: middle;\n",
       "    }\n",
       "\n",
       "    .dataframe tbody tr th {\n",
       "        vertical-align: top;\n",
       "    }\n",
       "\n",
       "    .dataframe thead th {\n",
       "        text-align: right;\n",
       "    }\n",
       "</style>\n",
       "<table border=\"1\" class=\"dataframe\">\n",
       "  <thead>\n",
       "    <tr style=\"text-align: right;\">\n",
       "      <th></th>\n",
       "      <th>Headline</th>\n",
       "    </tr>\n",
       "    <tr>\n",
       "      <th>DATE</th>\n",
       "      <th></th>\n",
       "    </tr>\n",
       "  </thead>\n",
       "  <tbody>\n",
       "    <tr>\n",
       "      <td>2001-07-12</td>\n",
       "      <td>Bharti Cellular reduces airtime tariff for 'Ma...</td>\n",
       "    </tr>\n",
       "    <tr>\n",
       "      <td>2001-07-13</td>\n",
       "      <td>Dupont on expansion drive in IndiaEssel sells ...</td>\n",
       "    </tr>\n",
       "    <tr>\n",
       "      <td>2001-07-14</td>\n",
       "      <td>Wilful defaulters should be sent to jail: Sinh...</td>\n",
       "    </tr>\n",
       "    <tr>\n",
       "      <td>2001-07-15</td>\n",
       "      <td>Indo-Myanmar border trade decliningMilitancy r...</td>\n",
       "    </tr>\n",
       "    <tr>\n",
       "      <td>2001-07-16</td>\n",
       "      <td>Rs 28 cr Citigroup funding for DakshFIIs net b...</td>\n",
       "    </tr>\n",
       "    <tr>\n",
       "      <td>2001-07-17</td>\n",
       "      <td>TELCO among top 10 losersRupee gains against $...</td>\n",
       "    </tr>\n",
       "    <tr>\n",
       "      <td>2001-07-18</td>\n",
       "      <td>Relief for investors with 3;000+ units soonCoc...</td>\n",
       "    </tr>\n",
       "    <tr>\n",
       "      <td>2001-07-19</td>\n",
       "      <td>Bids for 4th cellular slot receivedHyundai Son...</td>\n",
       "    </tr>\n",
       "    <tr>\n",
       "      <td>2001-07-20</td>\n",
       "      <td>Govt may raise cess on petrol; dieselRBI favou...</td>\n",
       "    </tr>\n",
       "    <tr>\n",
       "      <td>2001-07-21</td>\n",
       "      <td>ITC net up 21% at Rs 301 crore in Q1Forex rese...</td>\n",
       "    </tr>\n",
       "    <tr>\n",
       "      <td>2001-07-22</td>\n",
       "      <td>Rising fuel costs dent A-I's bottomlineYashwan...</td>\n",
       "    </tr>\n",
       "    <tr>\n",
       "      <td>2001-07-23</td>\n",
       "      <td>SEBI will raise issue of brokers funding with ...</td>\n",
       "    </tr>\n",
       "    <tr>\n",
       "      <td>2001-07-24</td>\n",
       "      <td>SEBI suspends ace stock broker Nikhil ShahActi...</td>\n",
       "    </tr>\n",
       "    <tr>\n",
       "      <td>2001-07-25</td>\n",
       "      <td>Indian tea exports hit by Iran banTelco losses...</td>\n",
       "    </tr>\n",
       "    <tr>\n",
       "      <td>2001-07-26</td>\n",
       "      <td>Dunlop sees exodus of executives in last 7 mon...</td>\n",
       "    </tr>\n",
       "    <tr>\n",
       "      <td>2001-07-27</td>\n",
       "      <td>Canada 3000 to begin Mumbai-Toronto flightBeer...</td>\n",
       "    </tr>\n",
       "    <tr>\n",
       "      <td>2001-07-28</td>\n",
       "      <td>litre diesel by Rs 1 21Taxing times are here a...</td>\n",
       "    </tr>\n",
       "    <tr>\n",
       "      <td>2001-07-29</td>\n",
       "      <td>IPA moots open production of critical patented...</td>\n",
       "    </tr>\n",
       "    <tr>\n",
       "      <td>2001-07-30</td>\n",
       "      <td>Next Godbole panel meeting may be cancelledCon...</td>\n",
       "    </tr>\n",
       "    <tr>\n",
       "      <td>2001-07-31</td>\n",
       "      <td>Reshuffle to give professional touch to ITDC: ...</td>\n",
       "    </tr>\n",
       "  </tbody>\n",
       "</table>\n",
       "</div>"
      ],
      "text/plain": [
       "                                                     Headline\n",
       "DATE                                                         \n",
       "2001-07-12  Bharti Cellular reduces airtime tariff for 'Ma...\n",
       "2001-07-13  Dupont on expansion drive in IndiaEssel sells ...\n",
       "2001-07-14  Wilful defaulters should be sent to jail: Sinh...\n",
       "2001-07-15  Indo-Myanmar border trade decliningMilitancy r...\n",
       "2001-07-16  Rs 28 cr Citigroup funding for DakshFIIs net b...\n",
       "2001-07-17  TELCO among top 10 losersRupee gains against $...\n",
       "2001-07-18  Relief for investors with 3;000+ units soonCoc...\n",
       "2001-07-19  Bids for 4th cellular slot receivedHyundai Son...\n",
       "2001-07-20  Govt may raise cess on petrol; dieselRBI favou...\n",
       "2001-07-21  ITC net up 21% at Rs 301 crore in Q1Forex rese...\n",
       "2001-07-22  Rising fuel costs dent A-I's bottomlineYashwan...\n",
       "2001-07-23  SEBI will raise issue of brokers funding with ...\n",
       "2001-07-24  SEBI suspends ace stock broker Nikhil ShahActi...\n",
       "2001-07-25  Indian tea exports hit by Iran banTelco losses...\n",
       "2001-07-26  Dunlop sees exodus of executives in last 7 mon...\n",
       "2001-07-27  Canada 3000 to begin Mumbai-Toronto flightBeer...\n",
       "2001-07-28  litre diesel by Rs 1 21Taxing times are here a...\n",
       "2001-07-29  IPA moots open production of critical patented...\n",
       "2001-07-30  Next Godbole panel meeting may be cancelledCon...\n",
       "2001-07-31  Reshuffle to give professional touch to ITDC: ..."
      ]
     },
     "execution_count": 23,
     "metadata": {},
     "output_type": "execute_result"
    }
   ],
   "source": [
    "tt.iloc[:20]"
   ]
  },
  {
   "cell_type": "code",
   "execution_count": 24,
   "metadata": {},
   "outputs": [
    {
     "data": {
      "text/plain": [
       "6845"
      ]
     },
     "execution_count": 24,
     "metadata": {},
     "output_type": "execute_result"
    }
   ],
   "source": [
    "len(tt)"
   ]
  },
  {
   "cell_type": "code",
   "execution_count": 25,
   "metadata": {},
   "outputs": [
    {
     "data": {
      "text/html": [
       "<div>\n",
       "<style scoped>\n",
       "    .dataframe tbody tr th:only-of-type {\n",
       "        vertical-align: middle;\n",
       "    }\n",
       "\n",
       "    .dataframe tbody tr th {\n",
       "        vertical-align: top;\n",
       "    }\n",
       "\n",
       "    .dataframe thead th {\n",
       "        text-align: right;\n",
       "    }\n",
       "</style>\n",
       "<table border=\"1\" class=\"dataframe\">\n",
       "  <thead>\n",
       "    <tr style=\"text-align: right;\">\n",
       "      <th></th>\n",
       "      <th>Headline</th>\n",
       "    </tr>\n",
       "    <tr>\n",
       "      <th>DATE</th>\n",
       "      <th></th>\n",
       "    </tr>\n",
       "  </thead>\n",
       "  <tbody>\n",
       "    <tr>\n",
       "      <td>2020-06-26</td>\n",
       "      <td>Preferential offers get more pricing options f...</td>\n",
       "    </tr>\n",
       "    <tr>\n",
       "      <td>2020-06-27</td>\n",
       "      <td>'Ashok Leyland independent biz; won't be impac...</td>\n",
       "    </tr>\n",
       "    <tr>\n",
       "      <td>2020-06-28</td>\n",
       "      <td>Ordinance to let RBI revive banks without mora...</td>\n",
       "    </tr>\n",
       "    <tr>\n",
       "      <td>2020-06-29</td>\n",
       "      <td>Techtonic Review: The OnePlus 8 and OnePlus 8 ...</td>\n",
       "    </tr>\n",
       "    <tr>\n",
       "      <td>2020-06-30</td>\n",
       "      <td>Solar plan to make Leh self-reliant hanging fi...</td>\n",
       "    </tr>\n",
       "  </tbody>\n",
       "</table>\n",
       "</div>"
      ],
      "text/plain": [
       "                                                     Headline\n",
       "DATE                                                         \n",
       "2020-06-26  Preferential offers get more pricing options f...\n",
       "2020-06-27  'Ashok Leyland independent biz; won't be impac...\n",
       "2020-06-28  Ordinance to let RBI revive banks without mora...\n",
       "2020-06-29  Techtonic Review: The OnePlus 8 and OnePlus 8 ...\n",
       "2020-06-30  Solar plan to make Leh self-reliant hanging fi..."
      ]
     },
     "execution_count": 25,
     "metadata": {},
     "output_type": "execute_result"
    }
   ],
   "source": [
    "tt.tail()"
   ]
  },
  {
   "cell_type": "code",
   "execution_count": 26,
   "metadata": {},
   "outputs": [
    {
     "data": {
      "text/plain": [
       "\"Solar plan to make Leh self-reliant hanging fire over free powerTata Steel hit by Rs 1;236 crore loss in Q4Nivea to review its products; marketing amid movement against racismHDFC Bank looks to raise up to Rs 50;000 crore19% of MSMEs eligible for govt guarantee in high-risk category'Legends on Unacademy' to be on Times Now; ET NowKey Covid-19 drugs to be hit by customs checks at portsTop ministers discuss 'ban' on Chinese 5G equipment\""
      ]
     },
     "execution_count": 26,
     "metadata": {},
     "output_type": "execute_result"
    }
   ],
   "source": [
    "tt[\"Headline\"].iloc[6844]"
   ]
  },
  {
   "cell_type": "code",
   "execution_count": 27,
   "metadata": {},
   "outputs": [
    {
     "data": {
      "text/html": [
       "<div>\n",
       "<style scoped>\n",
       "    .dataframe tbody tr th:only-of-type {\n",
       "        vertical-align: middle;\n",
       "    }\n",
       "\n",
       "    .dataframe tbody tr th {\n",
       "        vertical-align: top;\n",
       "    }\n",
       "\n",
       "    .dataframe thead th {\n",
       "        text-align: right;\n",
       "    }\n",
       "</style>\n",
       "<table border=\"1\" class=\"dataframe\">\n",
       "  <thead>\n",
       "    <tr style=\"text-align: right;\">\n",
       "      <th></th>\n",
       "      <th>Date</th>\n",
       "      <th>Open</th>\n",
       "      <th>High</th>\n",
       "      <th>Low</th>\n",
       "      <th>Close</th>\n",
       "      <th>Adj Close</th>\n",
       "      <th>Volume</th>\n",
       "    </tr>\n",
       "  </thead>\n",
       "  <tbody>\n",
       "    <tr>\n",
       "      <td>0</td>\n",
       "      <td>2001-07-12</td>\n",
       "      <td>3390.340088</td>\n",
       "      <td>3459.370117</td>\n",
       "      <td>3384.739990</td>\n",
       "      <td>3452.750000</td>\n",
       "      <td>3452.750000</td>\n",
       "      <td>0.0</td>\n",
       "    </tr>\n",
       "    <tr>\n",
       "      <td>1</td>\n",
       "      <td>2001-07-13</td>\n",
       "      <td>3470.939941</td>\n",
       "      <td>3513.790039</td>\n",
       "      <td>3438.030029</td>\n",
       "      <td>3453.989990</td>\n",
       "      <td>3453.989990</td>\n",
       "      <td>0.0</td>\n",
       "    </tr>\n",
       "    <tr>\n",
       "      <td>2</td>\n",
       "      <td>2001-07-16</td>\n",
       "      <td>3453.629883</td>\n",
       "      <td>3478.110107</td>\n",
       "      <td>3427.820068</td>\n",
       "      <td>3434.830078</td>\n",
       "      <td>3434.830078</td>\n",
       "      <td>0.0</td>\n",
       "    </tr>\n",
       "    <tr>\n",
       "      <td>3</td>\n",
       "      <td>2001-07-17</td>\n",
       "      <td>3414.060059</td>\n",
       "      <td>3440.290039</td>\n",
       "      <td>3397.649902</td>\n",
       "      <td>3431.929932</td>\n",
       "      <td>3431.929932</td>\n",
       "      <td>0.0</td>\n",
       "    </tr>\n",
       "    <tr>\n",
       "      <td>4</td>\n",
       "      <td>2001-07-18</td>\n",
       "      <td>3434.939941</td>\n",
       "      <td>3446.179932</td>\n",
       "      <td>3377.580078</td>\n",
       "      <td>3383.409912</td>\n",
       "      <td>3383.409912</td>\n",
       "      <td>0.0</td>\n",
       "    </tr>\n",
       "  </tbody>\n",
       "</table>\n",
       "</div>"
      ],
      "text/plain": [
       "         Date         Open         High          Low        Close  \\\n",
       "0  2001-07-12  3390.340088  3459.370117  3384.739990  3452.750000   \n",
       "1  2001-07-13  3470.939941  3513.790039  3438.030029  3453.989990   \n",
       "2  2001-07-16  3453.629883  3478.110107  3427.820068  3434.830078   \n",
       "3  2001-07-17  3414.060059  3440.290039  3397.649902  3431.929932   \n",
       "4  2001-07-18  3434.939941  3446.179932  3377.580078  3383.409912   \n",
       "\n",
       "     Adj Close  Volume  \n",
       "0  3452.750000     0.0  \n",
       "1  3453.989990     0.0  \n",
       "2  3434.830078     0.0  \n",
       "3  3431.929932     0.0  \n",
       "4  3383.409912     0.0  "
      ]
     },
     "execution_count": 27,
     "metadata": {},
     "output_type": "execute_result"
    }
   ],
   "source": [
    "stock.head()"
   ]
  },
  {
   "cell_type": "code",
   "execution_count": 28,
   "metadata": {},
   "outputs": [
    {
     "data": {
      "text/plain": [
       "4731"
      ]
     },
     "execution_count": 28,
     "metadata": {},
     "output_type": "execute_result"
    }
   ],
   "source": [
    "len(stock)"
   ]
  },
  {
   "cell_type": "code",
   "execution_count": 29,
   "metadata": {},
   "outputs": [
    {
     "data": {
      "text/html": [
       "<div>\n",
       "<style scoped>\n",
       "    .dataframe tbody tr th:only-of-type {\n",
       "        vertical-align: middle;\n",
       "    }\n",
       "\n",
       "    .dataframe tbody tr th {\n",
       "        vertical-align: top;\n",
       "    }\n",
       "\n",
       "    .dataframe thead th {\n",
       "        text-align: right;\n",
       "    }\n",
       "</style>\n",
       "<table border=\"1\" class=\"dataframe\">\n",
       "  <thead>\n",
       "    <tr style=\"text-align: right;\">\n",
       "      <th></th>\n",
       "      <th>Date</th>\n",
       "      <th>Open</th>\n",
       "      <th>High</th>\n",
       "      <th>Low</th>\n",
       "      <th>Close</th>\n",
       "      <th>Adj Close</th>\n",
       "      <th>Volume</th>\n",
       "    </tr>\n",
       "  </thead>\n",
       "  <tbody>\n",
       "    <tr>\n",
       "      <td>0</td>\n",
       "      <td>2001-07-12</td>\n",
       "      <td>3390.340088</td>\n",
       "      <td>3459.370117</td>\n",
       "      <td>3384.739990</td>\n",
       "      <td>3452.750000</td>\n",
       "      <td>3452.750000</td>\n",
       "      <td>0.0</td>\n",
       "    </tr>\n",
       "    <tr>\n",
       "      <td>1</td>\n",
       "      <td>2001-07-13</td>\n",
       "      <td>3470.939941</td>\n",
       "      <td>3513.790039</td>\n",
       "      <td>3438.030029</td>\n",
       "      <td>3453.989990</td>\n",
       "      <td>3453.989990</td>\n",
       "      <td>0.0</td>\n",
       "    </tr>\n",
       "    <tr>\n",
       "      <td>2</td>\n",
       "      <td>2001-07-16</td>\n",
       "      <td>3453.629883</td>\n",
       "      <td>3478.110107</td>\n",
       "      <td>3427.820068</td>\n",
       "      <td>3434.830078</td>\n",
       "      <td>3434.830078</td>\n",
       "      <td>0.0</td>\n",
       "    </tr>\n",
       "    <tr>\n",
       "      <td>3</td>\n",
       "      <td>2001-07-17</td>\n",
       "      <td>3414.060059</td>\n",
       "      <td>3440.290039</td>\n",
       "      <td>3397.649902</td>\n",
       "      <td>3431.929932</td>\n",
       "      <td>3431.929932</td>\n",
       "      <td>0.0</td>\n",
       "    </tr>\n",
       "    <tr>\n",
       "      <td>4</td>\n",
       "      <td>2001-07-18</td>\n",
       "      <td>3434.939941</td>\n",
       "      <td>3446.179932</td>\n",
       "      <td>3377.580078</td>\n",
       "      <td>3383.409912</td>\n",
       "      <td>3383.409912</td>\n",
       "      <td>0.0</td>\n",
       "    </tr>\n",
       "    <tr>\n",
       "      <td>5</td>\n",
       "      <td>2001-07-19</td>\n",
       "      <td>3372.919922</td>\n",
       "      <td>3380.270020</td>\n",
       "      <td>3352.120117</td>\n",
       "      <td>3370.929932</td>\n",
       "      <td>3370.929932</td>\n",
       "      <td>0.0</td>\n",
       "    </tr>\n",
       "    <tr>\n",
       "      <td>6</td>\n",
       "      <td>2001-07-20</td>\n",
       "      <td>3375.820068</td>\n",
       "      <td>3389.489990</td>\n",
       "      <td>3331.419922</td>\n",
       "      <td>3340.750000</td>\n",
       "      <td>3340.750000</td>\n",
       "      <td>0.0</td>\n",
       "    </tr>\n",
       "    <tr>\n",
       "      <td>7</td>\n",
       "      <td>2001-07-23</td>\n",
       "      <td>3340.889893</td>\n",
       "      <td>3340.889893</td>\n",
       "      <td>3310.949951</td>\n",
       "      <td>3330.979980</td>\n",
       "      <td>3330.979980</td>\n",
       "      <td>0.0</td>\n",
       "    </tr>\n",
       "    <tr>\n",
       "      <td>8</td>\n",
       "      <td>2001-07-24</td>\n",
       "      <td>3326.840088</td>\n",
       "      <td>3340.909912</td>\n",
       "      <td>3306.169922</td>\n",
       "      <td>3335.080078</td>\n",
       "      <td>3335.080078</td>\n",
       "      <td>0.0</td>\n",
       "    </tr>\n",
       "    <tr>\n",
       "      <td>9</td>\n",
       "      <td>2001-07-25</td>\n",
       "      <td>3307.159912</td>\n",
       "      <td>3338.219971</td>\n",
       "      <td>3296.429932</td>\n",
       "      <td>3301.969971</td>\n",
       "      <td>3301.969971</td>\n",
       "      <td>0.0</td>\n",
       "    </tr>\n",
       "    <tr>\n",
       "      <td>10</td>\n",
       "      <td>2001-07-26</td>\n",
       "      <td>3298.639893</td>\n",
       "      <td>3318.600098</td>\n",
       "      <td>3254.280029</td>\n",
       "      <td>3259.030029</td>\n",
       "      <td>3259.030029</td>\n",
       "      <td>0.0</td>\n",
       "    </tr>\n",
       "    <tr>\n",
       "      <td>11</td>\n",
       "      <td>2001-07-27</td>\n",
       "      <td>3260.040039</td>\n",
       "      <td>3278.850098</td>\n",
       "      <td>3241.659912</td>\n",
       "      <td>3251.530029</td>\n",
       "      <td>3251.530029</td>\n",
       "      <td>0.0</td>\n",
       "    </tr>\n",
       "    <tr>\n",
       "      <td>12</td>\n",
       "      <td>2001-07-30</td>\n",
       "      <td>3255.919922</td>\n",
       "      <td>3289.459961</td>\n",
       "      <td>3249.459961</td>\n",
       "      <td>3285.889893</td>\n",
       "      <td>3285.889893</td>\n",
       "      <td>0.0</td>\n",
       "    </tr>\n",
       "    <tr>\n",
       "      <td>13</td>\n",
       "      <td>2001-07-31</td>\n",
       "      <td>3288.860107</td>\n",
       "      <td>3335.669922</td>\n",
       "      <td>3255.979980</td>\n",
       "      <td>3329.280029</td>\n",
       "      <td>3329.280029</td>\n",
       "      <td>0.0</td>\n",
       "    </tr>\n",
       "    <tr>\n",
       "      <td>14</td>\n",
       "      <td>2001-08-01</td>\n",
       "      <td>3335.000000</td>\n",
       "      <td>3346.209961</td>\n",
       "      <td>3276.719971</td>\n",
       "      <td>3284.169922</td>\n",
       "      <td>3284.169922</td>\n",
       "      <td>0.0</td>\n",
       "    </tr>\n",
       "    <tr>\n",
       "      <td>15</td>\n",
       "      <td>2001-08-02</td>\n",
       "      <td>3293.830078</td>\n",
       "      <td>3310.860107</td>\n",
       "      <td>3278.540039</td>\n",
       "      <td>3298.780029</td>\n",
       "      <td>3298.780029</td>\n",
       "      <td>0.0</td>\n",
       "    </tr>\n",
       "    <tr>\n",
       "      <td>16</td>\n",
       "      <td>2001-08-03</td>\n",
       "      <td>3300.020020</td>\n",
       "      <td>3337.790039</td>\n",
       "      <td>3300.020020</td>\n",
       "      <td>3325.379883</td>\n",
       "      <td>3325.379883</td>\n",
       "      <td>0.0</td>\n",
       "    </tr>\n",
       "    <tr>\n",
       "      <td>17</td>\n",
       "      <td>2001-08-06</td>\n",
       "      <td>3323.360107</td>\n",
       "      <td>3356.340088</td>\n",
       "      <td>3322.439941</td>\n",
       "      <td>3329.949951</td>\n",
       "      <td>3329.949951</td>\n",
       "      <td>0.0</td>\n",
       "    </tr>\n",
       "    <tr>\n",
       "      <td>18</td>\n",
       "      <td>2001-08-07</td>\n",
       "      <td>3322.810059</td>\n",
       "      <td>3345.979980</td>\n",
       "      <td>3317.439941</td>\n",
       "      <td>3319.669922</td>\n",
       "      <td>3319.669922</td>\n",
       "      <td>0.0</td>\n",
       "    </tr>\n",
       "    <tr>\n",
       "      <td>19</td>\n",
       "      <td>2001-08-08</td>\n",
       "      <td>3317.510010</td>\n",
       "      <td>3321.179932</td>\n",
       "      <td>3294.189941</td>\n",
       "      <td>3302.320068</td>\n",
       "      <td>3302.320068</td>\n",
       "      <td>0.0</td>\n",
       "    </tr>\n",
       "    <tr>\n",
       "      <td>20</td>\n",
       "      <td>2001-08-09</td>\n",
       "      <td>3290.860107</td>\n",
       "      <td>3324.959961</td>\n",
       "      <td>3279.620117</td>\n",
       "      <td>3319.610107</td>\n",
       "      <td>3319.610107</td>\n",
       "      <td>0.0</td>\n",
       "    </tr>\n",
       "    <tr>\n",
       "      <td>21</td>\n",
       "      <td>2001-08-10</td>\n",
       "      <td>3312.500000</td>\n",
       "      <td>3335.709961</td>\n",
       "      <td>3308.760010</td>\n",
       "      <td>3316.209961</td>\n",
       "      <td>3316.209961</td>\n",
       "      <td>0.0</td>\n",
       "    </tr>\n",
       "    <tr>\n",
       "      <td>22</td>\n",
       "      <td>2001-08-13</td>\n",
       "      <td>3321.189941</td>\n",
       "      <td>3332.280029</td>\n",
       "      <td>3283.439941</td>\n",
       "      <td>3287.620117</td>\n",
       "      <td>3287.620117</td>\n",
       "      <td>0.0</td>\n",
       "    </tr>\n",
       "    <tr>\n",
       "      <td>23</td>\n",
       "      <td>2001-08-14</td>\n",
       "      <td>3290.580078</td>\n",
       "      <td>3336.469971</td>\n",
       "      <td>3290.580078</td>\n",
       "      <td>3331.889893</td>\n",
       "      <td>3331.889893</td>\n",
       "      <td>0.0</td>\n",
       "    </tr>\n",
       "    <tr>\n",
       "      <td>24</td>\n",
       "      <td>2001-08-15</td>\n",
       "      <td>NaN</td>\n",
       "      <td>NaN</td>\n",
       "      <td>NaN</td>\n",
       "      <td>NaN</td>\n",
       "      <td>NaN</td>\n",
       "      <td>NaN</td>\n",
       "    </tr>\n",
       "    <tr>\n",
       "      <td>25</td>\n",
       "      <td>2001-08-16</td>\n",
       "      <td>3326.239990</td>\n",
       "      <td>3357.070068</td>\n",
       "      <td>3321.739990</td>\n",
       "      <td>3337.909912</td>\n",
       "      <td>3337.909912</td>\n",
       "      <td>0.0</td>\n",
       "    </tr>\n",
       "    <tr>\n",
       "      <td>26</td>\n",
       "      <td>2001-08-17</td>\n",
       "      <td>3341.949951</td>\n",
       "      <td>3359.070068</td>\n",
       "      <td>3293.830078</td>\n",
       "      <td>3296.709961</td>\n",
       "      <td>3296.709961</td>\n",
       "      <td>0.0</td>\n",
       "    </tr>\n",
       "    <tr>\n",
       "      <td>27</td>\n",
       "      <td>2001-08-20</td>\n",
       "      <td>3287.689941</td>\n",
       "      <td>3290.239990</td>\n",
       "      <td>3271.540039</td>\n",
       "      <td>3278.919922</td>\n",
       "      <td>3278.919922</td>\n",
       "      <td>0.0</td>\n",
       "    </tr>\n",
       "    <tr>\n",
       "      <td>28</td>\n",
       "      <td>2001-08-21</td>\n",
       "      <td>3286.129883</td>\n",
       "      <td>3310.530029</td>\n",
       "      <td>3286.129883</td>\n",
       "      <td>3297.429932</td>\n",
       "      <td>3297.429932</td>\n",
       "      <td>0.0</td>\n",
       "    </tr>\n",
       "    <tr>\n",
       "      <td>29</td>\n",
       "      <td>2001-08-22</td>\n",
       "      <td>NaN</td>\n",
       "      <td>NaN</td>\n",
       "      <td>NaN</td>\n",
       "      <td>NaN</td>\n",
       "      <td>NaN</td>\n",
       "      <td>NaN</td>\n",
       "    </tr>\n",
       "    <tr>\n",
       "      <td>30</td>\n",
       "      <td>2001-08-23</td>\n",
       "      <td>3307.290039</td>\n",
       "      <td>3316.330078</td>\n",
       "      <td>3292.659912</td>\n",
       "      <td>3308.790039</td>\n",
       "      <td>3308.790039</td>\n",
       "      <td>0.0</td>\n",
       "    </tr>\n",
       "    <tr>\n",
       "      <td>31</td>\n",
       "      <td>2001-08-24</td>\n",
       "      <td>3302.219971</td>\n",
       "      <td>3308.899902</td>\n",
       "      <td>3287.580078</td>\n",
       "      <td>3305.510010</td>\n",
       "      <td>3305.510010</td>\n",
       "      <td>0.0</td>\n",
       "    </tr>\n",
       "    <tr>\n",
       "      <td>32</td>\n",
       "      <td>2001-08-27</td>\n",
       "      <td>3318.439941</td>\n",
       "      <td>3337.939941</td>\n",
       "      <td>3310.290039</td>\n",
       "      <td>3318.320068</td>\n",
       "      <td>3318.320068</td>\n",
       "      <td>0.0</td>\n",
       "    </tr>\n",
       "    <tr>\n",
       "      <td>33</td>\n",
       "      <td>2001-08-28</td>\n",
       "      <td>3318.649902</td>\n",
       "      <td>3333.169922</td>\n",
       "      <td>3308.350098</td>\n",
       "      <td>3313.070068</td>\n",
       "      <td>3313.070068</td>\n",
       "      <td>0.0</td>\n",
       "    </tr>\n",
       "    <tr>\n",
       "      <td>34</td>\n",
       "      <td>2001-08-29</td>\n",
       "      <td>3282.300049</td>\n",
       "      <td>3327.669922</td>\n",
       "      <td>3282.300049</td>\n",
       "      <td>3300.620117</td>\n",
       "      <td>3300.620117</td>\n",
       "      <td>0.0</td>\n",
       "    </tr>\n",
       "    <tr>\n",
       "      <td>35</td>\n",
       "      <td>2001-08-30</td>\n",
       "      <td>3296.780029</td>\n",
       "      <td>3305.979980</td>\n",
       "      <td>3281.169922</td>\n",
       "      <td>3286.870117</td>\n",
       "      <td>3286.870117</td>\n",
       "      <td>0.0</td>\n",
       "    </tr>\n",
       "    <tr>\n",
       "      <td>36</td>\n",
       "      <td>2001-08-31</td>\n",
       "      <td>3282.389893</td>\n",
       "      <td>3282.389893</td>\n",
       "      <td>3241.120117</td>\n",
       "      <td>3244.949951</td>\n",
       "      <td>3244.949951</td>\n",
       "      <td>0.0</td>\n",
       "    </tr>\n",
       "    <tr>\n",
       "      <td>37</td>\n",
       "      <td>2001-09-03</td>\n",
       "      <td>3245.709961</td>\n",
       "      <td>3267.929932</td>\n",
       "      <td>3222.750000</td>\n",
       "      <td>3227.120117</td>\n",
       "      <td>3227.120117</td>\n",
       "      <td>0.0</td>\n",
       "    </tr>\n",
       "    <tr>\n",
       "      <td>38</td>\n",
       "      <td>2001-09-04</td>\n",
       "      <td>3227.860107</td>\n",
       "      <td>3246.760010</td>\n",
       "      <td>3209.840088</td>\n",
       "      <td>3231.600098</td>\n",
       "      <td>3231.600098</td>\n",
       "      <td>0.0</td>\n",
       "    </tr>\n",
       "    <tr>\n",
       "      <td>39</td>\n",
       "      <td>2001-09-05</td>\n",
       "      <td>3232.879883</td>\n",
       "      <td>3245.989990</td>\n",
       "      <td>3218.040039</td>\n",
       "      <td>3228.600098</td>\n",
       "      <td>3228.600098</td>\n",
       "      <td>0.0</td>\n",
       "    </tr>\n",
       "    <tr>\n",
       "      <td>40</td>\n",
       "      <td>2001-09-06</td>\n",
       "      <td>3219.840088</td>\n",
       "      <td>3233.489990</td>\n",
       "      <td>3187.659912</td>\n",
       "      <td>3202.550049</td>\n",
       "      <td>3202.550049</td>\n",
       "      <td>0.0</td>\n",
       "    </tr>\n",
       "    <tr>\n",
       "      <td>41</td>\n",
       "      <td>2001-09-07</td>\n",
       "      <td>3196.409912</td>\n",
       "      <td>3203.540039</td>\n",
       "      <td>3166.969971</td>\n",
       "      <td>3198.399902</td>\n",
       "      <td>3198.399902</td>\n",
       "      <td>0.0</td>\n",
       "    </tr>\n",
       "    <tr>\n",
       "      <td>42</td>\n",
       "      <td>2001-09-10</td>\n",
       "      <td>3224.899902</td>\n",
       "      <td>3224.899902</td>\n",
       "      <td>3180.850098</td>\n",
       "      <td>3183.629883</td>\n",
       "      <td>3183.629883</td>\n",
       "      <td>0.0</td>\n",
       "    </tr>\n",
       "    <tr>\n",
       "      <td>43</td>\n",
       "      <td>2001-09-11</td>\n",
       "      <td>3189.090088</td>\n",
       "      <td>3198.810059</td>\n",
       "      <td>3141.570068</td>\n",
       "      <td>3150.399902</td>\n",
       "      <td>3150.399902</td>\n",
       "      <td>0.0</td>\n",
       "    </tr>\n",
       "    <tr>\n",
       "      <td>44</td>\n",
       "      <td>2001-09-12</td>\n",
       "      <td>3030.290039</td>\n",
       "      <td>3046.219971</td>\n",
       "      <td>2954.350098</td>\n",
       "      <td>3032.709961</td>\n",
       "      <td>3032.709961</td>\n",
       "      <td>0.0</td>\n",
       "    </tr>\n",
       "    <tr>\n",
       "      <td>45</td>\n",
       "      <td>2001-09-13</td>\n",
       "      <td>3038.879883</td>\n",
       "      <td>3068.489990</td>\n",
       "      <td>2982.159912</td>\n",
       "      <td>2987.500000</td>\n",
       "      <td>2987.500000</td>\n",
       "      <td>0.0</td>\n",
       "    </tr>\n",
       "    <tr>\n",
       "      <td>46</td>\n",
       "      <td>2001-09-14</td>\n",
       "      <td>2986.860107</td>\n",
       "      <td>2986.860107</td>\n",
       "      <td>2770.239990</td>\n",
       "      <td>2830.120117</td>\n",
       "      <td>2830.120117</td>\n",
       "      <td>0.0</td>\n",
       "    </tr>\n",
       "    <tr>\n",
       "      <td>47</td>\n",
       "      <td>2001-09-17</td>\n",
       "      <td>2758.159912</td>\n",
       "      <td>2758.159912</td>\n",
       "      <td>2640.580078</td>\n",
       "      <td>2680.979980</td>\n",
       "      <td>2680.979980</td>\n",
       "      <td>0.0</td>\n",
       "    </tr>\n",
       "    <tr>\n",
       "      <td>48</td>\n",
       "      <td>2001-09-18</td>\n",
       "      <td>2680.040039</td>\n",
       "      <td>2814.070068</td>\n",
       "      <td>2680.040039</td>\n",
       "      <td>2782.469971</td>\n",
       "      <td>2782.469971</td>\n",
       "      <td>0.0</td>\n",
       "    </tr>\n",
       "    <tr>\n",
       "      <td>49</td>\n",
       "      <td>2001-09-19</td>\n",
       "      <td>2785.370117</td>\n",
       "      <td>2817.479980</td>\n",
       "      <td>2785.370117</td>\n",
       "      <td>2804.159912</td>\n",
       "      <td>2804.159912</td>\n",
       "      <td>0.0</td>\n",
       "    </tr>\n",
       "  </tbody>\n",
       "</table>\n",
       "</div>"
      ],
      "text/plain": [
       "          Date         Open         High          Low        Close  \\\n",
       "0   2001-07-12  3390.340088  3459.370117  3384.739990  3452.750000   \n",
       "1   2001-07-13  3470.939941  3513.790039  3438.030029  3453.989990   \n",
       "2   2001-07-16  3453.629883  3478.110107  3427.820068  3434.830078   \n",
       "3   2001-07-17  3414.060059  3440.290039  3397.649902  3431.929932   \n",
       "4   2001-07-18  3434.939941  3446.179932  3377.580078  3383.409912   \n",
       "5   2001-07-19  3372.919922  3380.270020  3352.120117  3370.929932   \n",
       "6   2001-07-20  3375.820068  3389.489990  3331.419922  3340.750000   \n",
       "7   2001-07-23  3340.889893  3340.889893  3310.949951  3330.979980   \n",
       "8   2001-07-24  3326.840088  3340.909912  3306.169922  3335.080078   \n",
       "9   2001-07-25  3307.159912  3338.219971  3296.429932  3301.969971   \n",
       "10  2001-07-26  3298.639893  3318.600098  3254.280029  3259.030029   \n",
       "11  2001-07-27  3260.040039  3278.850098  3241.659912  3251.530029   \n",
       "12  2001-07-30  3255.919922  3289.459961  3249.459961  3285.889893   \n",
       "13  2001-07-31  3288.860107  3335.669922  3255.979980  3329.280029   \n",
       "14  2001-08-01  3335.000000  3346.209961  3276.719971  3284.169922   \n",
       "15  2001-08-02  3293.830078  3310.860107  3278.540039  3298.780029   \n",
       "16  2001-08-03  3300.020020  3337.790039  3300.020020  3325.379883   \n",
       "17  2001-08-06  3323.360107  3356.340088  3322.439941  3329.949951   \n",
       "18  2001-08-07  3322.810059  3345.979980  3317.439941  3319.669922   \n",
       "19  2001-08-08  3317.510010  3321.179932  3294.189941  3302.320068   \n",
       "20  2001-08-09  3290.860107  3324.959961  3279.620117  3319.610107   \n",
       "21  2001-08-10  3312.500000  3335.709961  3308.760010  3316.209961   \n",
       "22  2001-08-13  3321.189941  3332.280029  3283.439941  3287.620117   \n",
       "23  2001-08-14  3290.580078  3336.469971  3290.580078  3331.889893   \n",
       "24  2001-08-15          NaN          NaN          NaN          NaN   \n",
       "25  2001-08-16  3326.239990  3357.070068  3321.739990  3337.909912   \n",
       "26  2001-08-17  3341.949951  3359.070068  3293.830078  3296.709961   \n",
       "27  2001-08-20  3287.689941  3290.239990  3271.540039  3278.919922   \n",
       "28  2001-08-21  3286.129883  3310.530029  3286.129883  3297.429932   \n",
       "29  2001-08-22          NaN          NaN          NaN          NaN   \n",
       "30  2001-08-23  3307.290039  3316.330078  3292.659912  3308.790039   \n",
       "31  2001-08-24  3302.219971  3308.899902  3287.580078  3305.510010   \n",
       "32  2001-08-27  3318.439941  3337.939941  3310.290039  3318.320068   \n",
       "33  2001-08-28  3318.649902  3333.169922  3308.350098  3313.070068   \n",
       "34  2001-08-29  3282.300049  3327.669922  3282.300049  3300.620117   \n",
       "35  2001-08-30  3296.780029  3305.979980  3281.169922  3286.870117   \n",
       "36  2001-08-31  3282.389893  3282.389893  3241.120117  3244.949951   \n",
       "37  2001-09-03  3245.709961  3267.929932  3222.750000  3227.120117   \n",
       "38  2001-09-04  3227.860107  3246.760010  3209.840088  3231.600098   \n",
       "39  2001-09-05  3232.879883  3245.989990  3218.040039  3228.600098   \n",
       "40  2001-09-06  3219.840088  3233.489990  3187.659912  3202.550049   \n",
       "41  2001-09-07  3196.409912  3203.540039  3166.969971  3198.399902   \n",
       "42  2001-09-10  3224.899902  3224.899902  3180.850098  3183.629883   \n",
       "43  2001-09-11  3189.090088  3198.810059  3141.570068  3150.399902   \n",
       "44  2001-09-12  3030.290039  3046.219971  2954.350098  3032.709961   \n",
       "45  2001-09-13  3038.879883  3068.489990  2982.159912  2987.500000   \n",
       "46  2001-09-14  2986.860107  2986.860107  2770.239990  2830.120117   \n",
       "47  2001-09-17  2758.159912  2758.159912  2640.580078  2680.979980   \n",
       "48  2001-09-18  2680.040039  2814.070068  2680.040039  2782.469971   \n",
       "49  2001-09-19  2785.370117  2817.479980  2785.370117  2804.159912   \n",
       "\n",
       "      Adj Close  Volume  \n",
       "0   3452.750000     0.0  \n",
       "1   3453.989990     0.0  \n",
       "2   3434.830078     0.0  \n",
       "3   3431.929932     0.0  \n",
       "4   3383.409912     0.0  \n",
       "5   3370.929932     0.0  \n",
       "6   3340.750000     0.0  \n",
       "7   3330.979980     0.0  \n",
       "8   3335.080078     0.0  \n",
       "9   3301.969971     0.0  \n",
       "10  3259.030029     0.0  \n",
       "11  3251.530029     0.0  \n",
       "12  3285.889893     0.0  \n",
       "13  3329.280029     0.0  \n",
       "14  3284.169922     0.0  \n",
       "15  3298.780029     0.0  \n",
       "16  3325.379883     0.0  \n",
       "17  3329.949951     0.0  \n",
       "18  3319.669922     0.0  \n",
       "19  3302.320068     0.0  \n",
       "20  3319.610107     0.0  \n",
       "21  3316.209961     0.0  \n",
       "22  3287.620117     0.0  \n",
       "23  3331.889893     0.0  \n",
       "24          NaN     NaN  \n",
       "25  3337.909912     0.0  \n",
       "26  3296.709961     0.0  \n",
       "27  3278.919922     0.0  \n",
       "28  3297.429932     0.0  \n",
       "29          NaN     NaN  \n",
       "30  3308.790039     0.0  \n",
       "31  3305.510010     0.0  \n",
       "32  3318.320068     0.0  \n",
       "33  3313.070068     0.0  \n",
       "34  3300.620117     0.0  \n",
       "35  3286.870117     0.0  \n",
       "36  3244.949951     0.0  \n",
       "37  3227.120117     0.0  \n",
       "38  3231.600098     0.0  \n",
       "39  3228.600098     0.0  \n",
       "40  3202.550049     0.0  \n",
       "41  3198.399902     0.0  \n",
       "42  3183.629883     0.0  \n",
       "43  3150.399902     0.0  \n",
       "44  3032.709961     0.0  \n",
       "45  2987.500000     0.0  \n",
       "46  2830.120117     0.0  \n",
       "47  2680.979980     0.0  \n",
       "48  2782.469971     0.0  \n",
       "49  2804.159912     0.0  "
      ]
     },
     "execution_count": 29,
     "metadata": {},
     "output_type": "execute_result"
    }
   ],
   "source": [
    "stock[:50]"
   ]
  },
  {
   "cell_type": "code",
   "execution_count": 30,
   "metadata": {},
   "outputs": [
    {
     "name": "stdout",
     "output_type": "stream",
     "text": [
      "<class 'pandas.core.frame.DataFrame'>\n",
      "RangeIndex: 4731 entries, 0 to 4730\n",
      "Data columns (total 7 columns):\n",
      "Date         4731 non-null object\n",
      "Open         4662 non-null float64\n",
      "High         4662 non-null float64\n",
      "Low          4662 non-null float64\n",
      "Close        4662 non-null float64\n",
      "Adj Close    4662 non-null float64\n",
      "Volume       4662 non-null float64\n",
      "dtypes: float64(6), object(1)\n",
      "memory usage: 258.9+ KB\n"
     ]
    }
   ],
   "source": [
    "stock.info()"
   ]
  },
  {
   "cell_type": "code",
   "execution_count": 31,
   "metadata": {},
   "outputs": [],
   "source": [
    "stock.fillna(method='ffill',inplace=True)"
   ]
  },
  {
   "cell_type": "code",
   "execution_count": 32,
   "metadata": {},
   "outputs": [],
   "source": [
    "stock[\"Date\"]=pd.to_datetime(stock[\"Date\"],infer_datetime_format=True)"
   ]
  },
  {
   "cell_type": "code",
   "execution_count": 33,
   "metadata": {},
   "outputs": [],
   "source": [
    "stock=stock.set_index(['Date'])"
   ]
  },
  {
   "cell_type": "code",
   "execution_count": 34,
   "metadata": {},
   "outputs": [
    {
     "data": {
      "text/html": [
       "<div>\n",
       "<style scoped>\n",
       "    .dataframe tbody tr th:only-of-type {\n",
       "        vertical-align: middle;\n",
       "    }\n",
       "\n",
       "    .dataframe tbody tr th {\n",
       "        vertical-align: top;\n",
       "    }\n",
       "\n",
       "    .dataframe thead th {\n",
       "        text-align: right;\n",
       "    }\n",
       "</style>\n",
       "<table border=\"1\" class=\"dataframe\">\n",
       "  <thead>\n",
       "    <tr style=\"text-align: right;\">\n",
       "      <th></th>\n",
       "      <th>Open</th>\n",
       "      <th>High</th>\n",
       "      <th>Low</th>\n",
       "      <th>Close</th>\n",
       "      <th>Adj Close</th>\n",
       "      <th>Volume</th>\n",
       "    </tr>\n",
       "    <tr>\n",
       "      <th>Date</th>\n",
       "      <th></th>\n",
       "      <th></th>\n",
       "      <th></th>\n",
       "      <th></th>\n",
       "      <th></th>\n",
       "      <th></th>\n",
       "    </tr>\n",
       "  </thead>\n",
       "  <tbody>\n",
       "    <tr>\n",
       "      <td>2001-07-12</td>\n",
       "      <td>3390.340088</td>\n",
       "      <td>3459.370117</td>\n",
       "      <td>3384.739990</td>\n",
       "      <td>3452.750000</td>\n",
       "      <td>3452.750000</td>\n",
       "      <td>0.0</td>\n",
       "    </tr>\n",
       "    <tr>\n",
       "      <td>2001-07-13</td>\n",
       "      <td>3470.939941</td>\n",
       "      <td>3513.790039</td>\n",
       "      <td>3438.030029</td>\n",
       "      <td>3453.989990</td>\n",
       "      <td>3453.989990</td>\n",
       "      <td>0.0</td>\n",
       "    </tr>\n",
       "    <tr>\n",
       "      <td>2001-07-16</td>\n",
       "      <td>3453.629883</td>\n",
       "      <td>3478.110107</td>\n",
       "      <td>3427.820068</td>\n",
       "      <td>3434.830078</td>\n",
       "      <td>3434.830078</td>\n",
       "      <td>0.0</td>\n",
       "    </tr>\n",
       "    <tr>\n",
       "      <td>2001-07-17</td>\n",
       "      <td>3414.060059</td>\n",
       "      <td>3440.290039</td>\n",
       "      <td>3397.649902</td>\n",
       "      <td>3431.929932</td>\n",
       "      <td>3431.929932</td>\n",
       "      <td>0.0</td>\n",
       "    </tr>\n",
       "    <tr>\n",
       "      <td>2001-07-18</td>\n",
       "      <td>3434.939941</td>\n",
       "      <td>3446.179932</td>\n",
       "      <td>3377.580078</td>\n",
       "      <td>3383.409912</td>\n",
       "      <td>3383.409912</td>\n",
       "      <td>0.0</td>\n",
       "    </tr>\n",
       "  </tbody>\n",
       "</table>\n",
       "</div>"
      ],
      "text/plain": [
       "                   Open         High          Low        Close    Adj Close  \\\n",
       "Date                                                                          \n",
       "2001-07-12  3390.340088  3459.370117  3384.739990  3452.750000  3452.750000   \n",
       "2001-07-13  3470.939941  3513.790039  3438.030029  3453.989990  3453.989990   \n",
       "2001-07-16  3453.629883  3478.110107  3427.820068  3434.830078  3434.830078   \n",
       "2001-07-17  3414.060059  3440.290039  3397.649902  3431.929932  3431.929932   \n",
       "2001-07-18  3434.939941  3446.179932  3377.580078  3383.409912  3383.409912   \n",
       "\n",
       "            Volume  \n",
       "Date                \n",
       "2001-07-12     0.0  \n",
       "2001-07-13     0.0  \n",
       "2001-07-16     0.0  \n",
       "2001-07-17     0.0  \n",
       "2001-07-18     0.0  "
      ]
     },
     "execution_count": 34,
     "metadata": {},
     "output_type": "execute_result"
    }
   ],
   "source": [
    "stock.head()"
   ]
  },
  {
   "cell_type": "code",
   "execution_count": 35,
   "metadata": {},
   "outputs": [
    {
     "data": {
      "text/html": [
       "<div>\n",
       "<style scoped>\n",
       "    .dataframe tbody tr th:only-of-type {\n",
       "        vertical-align: middle;\n",
       "    }\n",
       "\n",
       "    .dataframe tbody tr th {\n",
       "        vertical-align: top;\n",
       "    }\n",
       "\n",
       "    .dataframe thead th {\n",
       "        text-align: right;\n",
       "    }\n",
       "</style>\n",
       "<table border=\"1\" class=\"dataframe\">\n",
       "  <thead>\n",
       "    <tr style=\"text-align: right;\">\n",
       "      <th></th>\n",
       "      <th>Headline</th>\n",
       "    </tr>\n",
       "    <tr>\n",
       "      <th>DATE</th>\n",
       "      <th></th>\n",
       "    </tr>\n",
       "  </thead>\n",
       "  <tbody>\n",
       "    <tr>\n",
       "      <td>2001-07-12</td>\n",
       "      <td>Bharti Cellular reduces airtime tariff for 'Ma...</td>\n",
       "    </tr>\n",
       "    <tr>\n",
       "      <td>2001-07-13</td>\n",
       "      <td>Dupont on expansion drive in IndiaEssel sells ...</td>\n",
       "    </tr>\n",
       "    <tr>\n",
       "      <td>2001-07-14</td>\n",
       "      <td>Wilful defaulters should be sent to jail: Sinh...</td>\n",
       "    </tr>\n",
       "    <tr>\n",
       "      <td>2001-07-15</td>\n",
       "      <td>Indo-Myanmar border trade decliningMilitancy r...</td>\n",
       "    </tr>\n",
       "    <tr>\n",
       "      <td>2001-07-16</td>\n",
       "      <td>Rs 28 cr Citigroup funding for DakshFIIs net b...</td>\n",
       "    </tr>\n",
       "  </tbody>\n",
       "</table>\n",
       "</div>"
      ],
      "text/plain": [
       "                                                     Headline\n",
       "DATE                                                         \n",
       "2001-07-12  Bharti Cellular reduces airtime tariff for 'Ma...\n",
       "2001-07-13  Dupont on expansion drive in IndiaEssel sells ...\n",
       "2001-07-14  Wilful defaulters should be sent to jail: Sinh...\n",
       "2001-07-15  Indo-Myanmar border trade decliningMilitancy r...\n",
       "2001-07-16  Rs 28 cr Citigroup funding for DakshFIIs net b..."
      ]
     },
     "execution_count": 35,
     "metadata": {},
     "output_type": "execute_result"
    }
   ],
   "source": [
    "tt.head()"
   ]
  },
  {
   "cell_type": "code",
   "execution_count": 36,
   "metadata": {},
   "outputs": [],
   "source": [
    "news=pd.DataFrame(tt)"
   ]
  },
  {
   "cell_type": "code",
   "execution_count": 37,
   "metadata": {},
   "outputs": [
    {
     "data": {
      "text/html": [
       "<div>\n",
       "<style scoped>\n",
       "    .dataframe tbody tr th:only-of-type {\n",
       "        vertical-align: middle;\n",
       "    }\n",
       "\n",
       "    .dataframe tbody tr th {\n",
       "        vertical-align: top;\n",
       "    }\n",
       "\n",
       "    .dataframe thead th {\n",
       "        text-align: right;\n",
       "    }\n",
       "</style>\n",
       "<table border=\"1\" class=\"dataframe\">\n",
       "  <thead>\n",
       "    <tr style=\"text-align: right;\">\n",
       "      <th></th>\n",
       "      <th>Headline</th>\n",
       "    </tr>\n",
       "    <tr>\n",
       "      <th>DATE</th>\n",
       "      <th></th>\n",
       "    </tr>\n",
       "  </thead>\n",
       "  <tbody>\n",
       "    <tr>\n",
       "      <td>2001-07-12</td>\n",
       "      <td>Bharti Cellular reduces airtime tariff for 'Ma...</td>\n",
       "    </tr>\n",
       "    <tr>\n",
       "      <td>2001-07-13</td>\n",
       "      <td>Dupont on expansion drive in IndiaEssel sells ...</td>\n",
       "    </tr>\n",
       "    <tr>\n",
       "      <td>2001-07-14</td>\n",
       "      <td>Wilful defaulters should be sent to jail: Sinh...</td>\n",
       "    </tr>\n",
       "    <tr>\n",
       "      <td>2001-07-15</td>\n",
       "      <td>Indo-Myanmar border trade decliningMilitancy r...</td>\n",
       "    </tr>\n",
       "    <tr>\n",
       "      <td>2001-07-16</td>\n",
       "      <td>Rs 28 cr Citigroup funding for DakshFIIs net b...</td>\n",
       "    </tr>\n",
       "  </tbody>\n",
       "</table>\n",
       "</div>"
      ],
      "text/plain": [
       "                                                     Headline\n",
       "DATE                                                         \n",
       "2001-07-12  Bharti Cellular reduces airtime tariff for 'Ma...\n",
       "2001-07-13  Dupont on expansion drive in IndiaEssel sells ...\n",
       "2001-07-14  Wilful defaulters should be sent to jail: Sinh...\n",
       "2001-07-15  Indo-Myanmar border trade decliningMilitancy r...\n",
       "2001-07-16  Rs 28 cr Citigroup funding for DakshFIIs net b..."
      ]
     },
     "execution_count": 37,
     "metadata": {},
     "output_type": "execute_result"
    }
   ],
   "source": [
    "news.head()"
   ]
  },
  {
   "cell_type": "code",
   "execution_count": 11,
   "metadata": {
    "execution": {
     "iopub.execute_input": "2020-10-16T10:18:16.755688Z",
     "iopub.status.busy": "2020-10-16T10:18:16.754583Z",
     "iopub.status.idle": "2020-10-16T10:18:16.758020Z",
     "shell.execute_reply": "2020-10-16T10:18:16.757305Z"
    },
    "papermill": {
     "duration": 0.087053,
     "end_time": "2020-10-16T10:18:16.758142",
     "exception": false,
     "start_time": "2020-10-16T10:18:16.671089",
     "status": "completed"
    },
    "tags": []
   },
   "outputs": [],
   "source": [
    "stock[\"Date\"]=pd.to_datetime(stock[\"Date\"],infer_datetime_format=True)"
   ]
  },
  {
   "cell_type": "code",
   "execution_count": 12,
   "metadata": {
    "execution": {
     "iopub.execute_input": "2020-10-16T10:18:16.910314Z",
     "iopub.status.busy": "2020-10-16T10:18:16.909457Z",
     "iopub.status.idle": "2020-10-16T10:18:16.913408Z",
     "shell.execute_reply": "2020-10-16T10:18:16.912874Z"
    },
    "papermill": {
     "duration": 0.079519,
     "end_time": "2020-10-16T10:18:16.913527",
     "exception": false,
     "start_time": "2020-10-16T10:18:16.834008",
     "status": "completed"
    },
    "tags": []
   },
   "outputs": [],
   "source": [
    "stock=stock.set_index(['Date'])"
   ]
  },
  {
   "cell_type": "code",
   "execution_count": 13,
   "metadata": {
    "execution": {
     "iopub.execute_input": "2020-10-16T10:18:17.063046Z",
     "iopub.status.busy": "2020-10-16T10:18:17.062074Z",
     "iopub.status.idle": "2020-10-16T10:18:17.065564Z",
     "shell.execute_reply": "2020-10-16T10:18:17.065022Z"
    },
    "papermill": {
     "duration": 0.080685,
     "end_time": "2020-10-16T10:18:17.065675",
     "exception": false,
     "start_time": "2020-10-16T10:18:16.984990",
     "status": "completed"
    },
    "tags": []
   },
   "outputs": [],
   "source": [
    "stock.fillna(method='ffill',inplace=True)"
   ]
  },
  {
   "cell_type": "code",
   "execution_count": 14,
   "metadata": {
    "execution": {
     "iopub.execute_input": "2020-10-16T10:18:17.220397Z",
     "iopub.status.busy": "2020-10-16T10:18:17.219428Z",
     "iopub.status.idle": "2020-10-16T10:18:17.222386Z",
     "shell.execute_reply": "2020-10-16T10:18:17.221827Z"
    },
    "papermill": {
     "duration": 0.084568,
     "end_time": "2020-10-16T10:18:17.222480",
     "exception": false,
     "start_time": "2020-10-16T10:18:17.137912",
     "status": "completed"
    },
    "tags": []
   },
   "outputs": [],
   "source": [
    "stock=stock[['Close','Open', 'High', 'Low','Adj Close','Volume']]"
   ]
  },
  {
   "cell_type": "code",
   "execution_count": 15,
   "metadata": {
    "execution": {
     "iopub.execute_input": "2020-10-16T10:18:17.385283Z",
     "iopub.status.busy": "2020-10-16T10:18:17.384413Z",
     "iopub.status.idle": "2020-10-16T10:18:17.410127Z",
     "shell.execute_reply": "2020-10-16T10:18:17.409186Z"
    },
    "papermill": {
     "duration": 0.117105,
     "end_time": "2020-10-16T10:18:17.410243",
     "exception": false,
     "start_time": "2020-10-16T10:18:17.293138",
     "status": "completed"
    },
    "tags": []
   },
   "outputs": [],
   "source": [
    "tttt=pd.concat([news,stock], 1).dropna()\n"
   ]
  },
  {
   "cell_type": "code",
   "execution_count": 16,
   "metadata": {
    "execution": {
     "iopub.execute_input": "2020-10-16T10:18:17.579774Z",
     "iopub.status.busy": "2020-10-16T10:18:17.578583Z",
     "iopub.status.idle": "2020-10-16T10:18:17.582806Z",
     "shell.execute_reply": "2020-10-16T10:18:17.583438Z"
    },
    "papermill": {
     "duration": 0.099629,
     "end_time": "2020-10-16T10:18:17.583596",
     "exception": false,
     "start_time": "2020-10-16T10:18:17.483967",
     "status": "completed"
    },
    "tags": []
   },
   "outputs": [
    {
     "data": {
      "text/html": [
       "<div>\n",
       "<style scoped>\n",
       "    .dataframe tbody tr th:only-of-type {\n",
       "        vertical-align: middle;\n",
       "    }\n",
       "\n",
       "    .dataframe tbody tr th {\n",
       "        vertical-align: top;\n",
       "    }\n",
       "\n",
       "    .dataframe thead th {\n",
       "        text-align: right;\n",
       "    }\n",
       "</style>\n",
       "<table border=\"1\" class=\"dataframe\">\n",
       "  <thead>\n",
       "    <tr style=\"text-align: right;\">\n",
       "      <th></th>\n",
       "      <th>Headline</th>\n",
       "      <th>Close</th>\n",
       "      <th>Open</th>\n",
       "      <th>High</th>\n",
       "      <th>Low</th>\n",
       "      <th>Adj Close</th>\n",
       "      <th>Volume</th>\n",
       "    </tr>\n",
       "  </thead>\n",
       "  <tbody>\n",
       "    <tr>\n",
       "      <th>2001-07-12</th>\n",
       "      <td>Bharti Cellular reduces airtime tariff for 'Ma...</td>\n",
       "      <td>3452.750000</td>\n",
       "      <td>3390.340088</td>\n",
       "      <td>3459.370117</td>\n",
       "      <td>3384.739990</td>\n",
       "      <td>3452.750000</td>\n",
       "      <td>0.0</td>\n",
       "    </tr>\n",
       "    <tr>\n",
       "      <th>2001-07-13</th>\n",
       "      <td>Dupont on expansion drive in IndiaEssel sells ...</td>\n",
       "      <td>3453.989990</td>\n",
       "      <td>3470.939941</td>\n",
       "      <td>3513.790039</td>\n",
       "      <td>3438.030029</td>\n",
       "      <td>3453.989990</td>\n",
       "      <td>0.0</td>\n",
       "    </tr>\n",
       "    <tr>\n",
       "      <th>2001-07-16</th>\n",
       "      <td>Rs 28 cr Citigroup funding for DakshFIIs net b...</td>\n",
       "      <td>3434.830078</td>\n",
       "      <td>3453.629883</td>\n",
       "      <td>3478.110107</td>\n",
       "      <td>3427.820068</td>\n",
       "      <td>3434.830078</td>\n",
       "      <td>0.0</td>\n",
       "    </tr>\n",
       "    <tr>\n",
       "      <th>2001-07-17</th>\n",
       "      <td>TELCO among top 10 losersRupee gains against $...</td>\n",
       "      <td>3431.929932</td>\n",
       "      <td>3414.060059</td>\n",
       "      <td>3440.290039</td>\n",
       "      <td>3397.649902</td>\n",
       "      <td>3431.929932</td>\n",
       "      <td>0.0</td>\n",
       "    </tr>\n",
       "    <tr>\n",
       "      <th>2001-07-18</th>\n",
       "      <td>Relief for investors with 3;000+ units soonCoc...</td>\n",
       "      <td>3383.409912</td>\n",
       "      <td>3434.939941</td>\n",
       "      <td>3446.179932</td>\n",
       "      <td>3377.580078</td>\n",
       "      <td>3383.409912</td>\n",
       "      <td>0.0</td>\n",
       "    </tr>\n",
       "    <tr>\n",
       "      <th>...</th>\n",
       "      <td>...</td>\n",
       "      <td>...</td>\n",
       "      <td>...</td>\n",
       "      <td>...</td>\n",
       "      <td>...</td>\n",
       "      <td>...</td>\n",
       "      <td>...</td>\n",
       "    </tr>\n",
       "    <tr>\n",
       "      <th>2020-06-23</th>\n",
       "      <td>N Chandrasekaran appointed on RBI board againY...</td>\n",
       "      <td>35430.429688</td>\n",
       "      <td>35015.730469</td>\n",
       "      <td>35482.160156</td>\n",
       "      <td>34843.691406</td>\n",
       "      <td>35430.429688</td>\n",
       "      <td>25200.0</td>\n",
       "    </tr>\n",
       "    <tr>\n",
       "      <th>2020-06-24</th>\n",
       "      <td>IT stocks shrug off H-1B jittersFinmin calls m...</td>\n",
       "      <td>34868.980469</td>\n",
       "      <td>35679.738281</td>\n",
       "      <td>35706.550781</td>\n",
       "      <td>34794.929688</td>\n",
       "      <td>34868.980469</td>\n",
       "      <td>26600.0</td>\n",
       "    </tr>\n",
       "    <tr>\n",
       "      <th>2020-06-25</th>\n",
       "      <td>Truck firms look for new export markets to sel...</td>\n",
       "      <td>34842.101563</td>\n",
       "      <td>34525.390625</td>\n",
       "      <td>35081.609375</td>\n",
       "      <td>34499.781250</td>\n",
       "      <td>34842.101563</td>\n",
       "      <td>24600.0</td>\n",
       "    </tr>\n",
       "    <tr>\n",
       "      <th>2020-06-26</th>\n",
       "      <td>Preferential offers get more pricing options f...</td>\n",
       "      <td>35171.269531</td>\n",
       "      <td>35144.781250</td>\n",
       "      <td>35254.878906</td>\n",
       "      <td>34910.339844</td>\n",
       "      <td>35171.269531</td>\n",
       "      <td>24800.0</td>\n",
       "    </tr>\n",
       "    <tr>\n",
       "      <th>2020-06-29</th>\n",
       "      <td>Techtonic Review: The OnePlus 8 and OnePlus 8 ...</td>\n",
       "      <td>34961.519531</td>\n",
       "      <td>34926.949219</td>\n",
       "      <td>35032.359375</td>\n",
       "      <td>34662.058594</td>\n",
       "      <td>34961.519531</td>\n",
       "      <td>18300.0</td>\n",
       "    </tr>\n",
       "  </tbody>\n",
       "</table>\n",
       "<p>4699 rows × 7 columns</p>\n",
       "</div>"
      ],
      "text/plain": [
       "                                                     Headline         Close  \\\n",
       "2001-07-12  Bharti Cellular reduces airtime tariff for 'Ma...   3452.750000   \n",
       "2001-07-13  Dupont on expansion drive in IndiaEssel sells ...   3453.989990   \n",
       "2001-07-16  Rs 28 cr Citigroup funding for DakshFIIs net b...   3434.830078   \n",
       "2001-07-17  TELCO among top 10 losersRupee gains against $...   3431.929932   \n",
       "2001-07-18  Relief for investors with 3;000+ units soonCoc...   3383.409912   \n",
       "...                                                       ...           ...   \n",
       "2020-06-23  N Chandrasekaran appointed on RBI board againY...  35430.429688   \n",
       "2020-06-24  IT stocks shrug off H-1B jittersFinmin calls m...  34868.980469   \n",
       "2020-06-25  Truck firms look for new export markets to sel...  34842.101563   \n",
       "2020-06-26  Preferential offers get more pricing options f...  35171.269531   \n",
       "2020-06-29  Techtonic Review: The OnePlus 8 and OnePlus 8 ...  34961.519531   \n",
       "\n",
       "                    Open          High           Low     Adj Close   Volume  \n",
       "2001-07-12   3390.340088   3459.370117   3384.739990   3452.750000      0.0  \n",
       "2001-07-13   3470.939941   3513.790039   3438.030029   3453.989990      0.0  \n",
       "2001-07-16   3453.629883   3478.110107   3427.820068   3434.830078      0.0  \n",
       "2001-07-17   3414.060059   3440.290039   3397.649902   3431.929932      0.0  \n",
       "2001-07-18   3434.939941   3446.179932   3377.580078   3383.409912      0.0  \n",
       "...                  ...           ...           ...           ...      ...  \n",
       "2020-06-23  35015.730469  35482.160156  34843.691406  35430.429688  25200.0  \n",
       "2020-06-24  35679.738281  35706.550781  34794.929688  34868.980469  26600.0  \n",
       "2020-06-25  34525.390625  35081.609375  34499.781250  34842.101563  24600.0  \n",
       "2020-06-26  35144.781250  35254.878906  34910.339844  35171.269531  24800.0  \n",
       "2020-06-29  34926.949219  35032.359375  34662.058594  34961.519531  18300.0  \n",
       "\n",
       "[4699 rows x 7 columns]"
      ]
     },
     "execution_count": 16,
     "metadata": {},
     "output_type": "execute_result"
    }
   ],
   "source": [
    "tttt"
   ]
  },
  {
   "cell_type": "code",
   "execution_count": 17,
   "metadata": {
    "execution": {
     "iopub.execute_input": "2020-10-16T10:18:17.752153Z",
     "iopub.status.busy": "2020-10-16T10:18:17.751019Z",
     "iopub.status.idle": "2020-10-16T10:18:17.754552Z",
     "shell.execute_reply": "2020-10-16T10:18:17.753913Z"
    },
    "papermill": {
     "duration": 0.089923,
     "end_time": "2020-10-16T10:18:17.754691",
     "exception": false,
     "start_time": "2020-10-16T10:18:17.664768",
     "status": "completed"
    },
    "tags": []
   },
   "outputs": [],
   "source": [
    "ttty=tttt.copy()"
   ]
  },
  {
   "cell_type": "code",
   "execution_count": 18,
   "metadata": {
    "execution": {
     "iopub.execute_input": "2020-10-16T10:18:17.916607Z",
     "iopub.status.busy": "2020-10-16T10:18:17.915912Z",
     "iopub.status.idle": "2020-10-16T10:18:17.920227Z",
     "shell.execute_reply": "2020-10-16T10:18:17.919622Z"
    },
    "papermill": {
     "duration": 0.084683,
     "end_time": "2020-10-16T10:18:17.920338",
     "exception": false,
     "start_time": "2020-10-16T10:18:17.835655",
     "status": "completed"
    },
    "tags": []
   },
   "outputs": [],
   "source": [
    "ttty.drop([\"Headline\"],axis=1,inplace=True)\n"
   ]
  },
  {
   "cell_type": "code",
   "execution_count": 19,
   "metadata": {
    "execution": {
     "iopub.execute_input": "2020-10-16T10:18:18.072181Z",
     "iopub.status.busy": "2020-10-16T10:18:18.071543Z",
     "iopub.status.idle": "2020-10-16T10:18:18.075755Z",
     "shell.execute_reply": "2020-10-16T10:18:18.075239Z"
    },
    "papermill": {
     "duration": 0.081472,
     "end_time": "2020-10-16T10:18:18.075864",
     "exception": false,
     "start_time": "2020-10-16T10:18:17.994392",
     "status": "completed"
    },
    "tags": []
   },
   "outputs": [],
   "source": [
    "stock=pd.DataFrame(ttty)"
   ]
  },
  {
   "cell_type": "code",
   "execution_count": 20,
   "metadata": {
    "execution": {
     "iopub.execute_input": "2020-10-16T10:18:18.232746Z",
     "iopub.status.busy": "2020-10-16T10:18:18.231762Z",
     "iopub.status.idle": "2020-10-16T10:18:18.234837Z",
     "shell.execute_reply": "2020-10-16T10:18:18.234184Z"
    },
    "papermill": {
     "duration": 0.08522,
     "end_time": "2020-10-16T10:18:18.234941",
     "exception": false,
     "start_time": "2020-10-16T10:18:18.149721",
     "status": "completed"
    },
    "tags": []
   },
   "outputs": [],
   "source": [
    "tttt.drop([\"Open\",\"High\",\"Low\",\"Adj Close\",\"Volume\"],axis=1,inplace=True)"
   ]
  },
  {
   "cell_type": "code",
   "execution_count": 21,
   "metadata": {
    "execution": {
     "iopub.execute_input": "2020-10-16T10:18:18.381825Z",
     "iopub.status.busy": "2020-10-16T10:18:18.380931Z",
     "iopub.status.idle": "2020-10-16T10:18:18.383219Z",
     "shell.execute_reply": "2020-10-16T10:18:18.383762Z"
    },
    "papermill": {
     "duration": 0.076856,
     "end_time": "2020-10-16T10:18:18.383886",
     "exception": false,
     "start_time": "2020-10-16T10:18:18.307030",
     "status": "completed"
    },
    "tags": []
   },
   "outputs": [],
   "source": [
    "news=pd.DataFrame(tttt)"
   ]
  },
  {
   "cell_type": "code",
   "execution_count": 22,
   "metadata": {
    "execution": {
     "iopub.execute_input": "2020-10-16T10:18:18.537419Z",
     "iopub.status.busy": "2020-10-16T10:18:18.536523Z",
     "iopub.status.idle": "2020-10-16T10:18:18.540283Z",
     "shell.execute_reply": "2020-10-16T10:18:18.540965Z"
    },
    "papermill": {
     "duration": 0.086195,
     "end_time": "2020-10-16T10:18:18.541120",
     "exception": false,
     "start_time": "2020-10-16T10:18:18.454925",
     "status": "completed"
    },
    "tags": []
   },
   "outputs": [
    {
     "data": {
      "text/html": [
       "<div>\n",
       "<style scoped>\n",
       "    .dataframe tbody tr th:only-of-type {\n",
       "        vertical-align: middle;\n",
       "    }\n",
       "\n",
       "    .dataframe tbody tr th {\n",
       "        vertical-align: top;\n",
       "    }\n",
       "\n",
       "    .dataframe thead th {\n",
       "        text-align: right;\n",
       "    }\n",
       "</style>\n",
       "<table border=\"1\" class=\"dataframe\">\n",
       "  <thead>\n",
       "    <tr style=\"text-align: right;\">\n",
       "      <th></th>\n",
       "      <th>Headline</th>\n",
       "      <th>Close</th>\n",
       "    </tr>\n",
       "  </thead>\n",
       "  <tbody>\n",
       "    <tr>\n",
       "      <th>2001-07-12</th>\n",
       "      <td>Bharti Cellular reduces airtime tariff for 'Ma...</td>\n",
       "      <td>3452.750000</td>\n",
       "    </tr>\n",
       "    <tr>\n",
       "      <th>2001-07-13</th>\n",
       "      <td>Dupont on expansion drive in IndiaEssel sells ...</td>\n",
       "      <td>3453.989990</td>\n",
       "    </tr>\n",
       "    <tr>\n",
       "      <th>2001-07-16</th>\n",
       "      <td>Rs 28 cr Citigroup funding for DakshFIIs net b...</td>\n",
       "      <td>3434.830078</td>\n",
       "    </tr>\n",
       "    <tr>\n",
       "      <th>2001-07-17</th>\n",
       "      <td>TELCO among top 10 losersRupee gains against $...</td>\n",
       "      <td>3431.929932</td>\n",
       "    </tr>\n",
       "    <tr>\n",
       "      <th>2001-07-18</th>\n",
       "      <td>Relief for investors with 3;000+ units soonCoc...</td>\n",
       "      <td>3383.409912</td>\n",
       "    </tr>\n",
       "  </tbody>\n",
       "</table>\n",
       "</div>"
      ],
      "text/plain": [
       "                                                     Headline        Close\n",
       "2001-07-12  Bharti Cellular reduces airtime tariff for 'Ma...  3452.750000\n",
       "2001-07-13  Dupont on expansion drive in IndiaEssel sells ...  3453.989990\n",
       "2001-07-16  Rs 28 cr Citigroup funding for DakshFIIs net b...  3434.830078\n",
       "2001-07-17  TELCO among top 10 losersRupee gains against $...  3431.929932\n",
       "2001-07-18  Relief for investors with 3;000+ units soonCoc...  3383.409912"
      ]
     },
     "execution_count": 22,
     "metadata": {},
     "output_type": "execute_result"
    }
   ],
   "source": [
    "news.head()"
   ]
  },
  {
   "cell_type": "code",
   "execution_count": 23,
   "metadata": {
    "execution": {
     "iopub.execute_input": "2020-10-16T10:18:18.711019Z",
     "iopub.status.busy": "2020-10-16T10:18:18.709941Z",
     "iopub.status.idle": "2020-10-16T10:18:18.714736Z",
     "shell.execute_reply": "2020-10-16T10:18:18.714130Z"
    },
    "papermill": {
     "duration": 0.093185,
     "end_time": "2020-10-16T10:18:18.714842",
     "exception": false,
     "start_time": "2020-10-16T10:18:18.621657",
     "status": "completed"
    },
    "tags": []
   },
   "outputs": [
    {
     "data": {
      "text/html": [
       "<div>\n",
       "<style scoped>\n",
       "    .dataframe tbody tr th:only-of-type {\n",
       "        vertical-align: middle;\n",
       "    }\n",
       "\n",
       "    .dataframe tbody tr th {\n",
       "        vertical-align: top;\n",
       "    }\n",
       "\n",
       "    .dataframe thead th {\n",
       "        text-align: right;\n",
       "    }\n",
       "</style>\n",
       "<table border=\"1\" class=\"dataframe\">\n",
       "  <thead>\n",
       "    <tr style=\"text-align: right;\">\n",
       "      <th></th>\n",
       "      <th>Close</th>\n",
       "      <th>Open</th>\n",
       "      <th>High</th>\n",
       "      <th>Low</th>\n",
       "      <th>Adj Close</th>\n",
       "      <th>Volume</th>\n",
       "    </tr>\n",
       "  </thead>\n",
       "  <tbody>\n",
       "    <tr>\n",
       "      <th>2001-07-12</th>\n",
       "      <td>3452.750000</td>\n",
       "      <td>3390.340088</td>\n",
       "      <td>3459.370117</td>\n",
       "      <td>3384.739990</td>\n",
       "      <td>3452.750000</td>\n",
       "      <td>0.0</td>\n",
       "    </tr>\n",
       "    <tr>\n",
       "      <th>2001-07-13</th>\n",
       "      <td>3453.989990</td>\n",
       "      <td>3470.939941</td>\n",
       "      <td>3513.790039</td>\n",
       "      <td>3438.030029</td>\n",
       "      <td>3453.989990</td>\n",
       "      <td>0.0</td>\n",
       "    </tr>\n",
       "    <tr>\n",
       "      <th>2001-07-16</th>\n",
       "      <td>3434.830078</td>\n",
       "      <td>3453.629883</td>\n",
       "      <td>3478.110107</td>\n",
       "      <td>3427.820068</td>\n",
       "      <td>3434.830078</td>\n",
       "      <td>0.0</td>\n",
       "    </tr>\n",
       "    <tr>\n",
       "      <th>2001-07-17</th>\n",
       "      <td>3431.929932</td>\n",
       "      <td>3414.060059</td>\n",
       "      <td>3440.290039</td>\n",
       "      <td>3397.649902</td>\n",
       "      <td>3431.929932</td>\n",
       "      <td>0.0</td>\n",
       "    </tr>\n",
       "    <tr>\n",
       "      <th>2001-07-18</th>\n",
       "      <td>3383.409912</td>\n",
       "      <td>3434.939941</td>\n",
       "      <td>3446.179932</td>\n",
       "      <td>3377.580078</td>\n",
       "      <td>3383.409912</td>\n",
       "      <td>0.0</td>\n",
       "    </tr>\n",
       "  </tbody>\n",
       "</table>\n",
       "</div>"
      ],
      "text/plain": [
       "                  Close         Open         High          Low    Adj Close  \\\n",
       "2001-07-12  3452.750000  3390.340088  3459.370117  3384.739990  3452.750000   \n",
       "2001-07-13  3453.989990  3470.939941  3513.790039  3438.030029  3453.989990   \n",
       "2001-07-16  3434.830078  3453.629883  3478.110107  3427.820068  3434.830078   \n",
       "2001-07-17  3431.929932  3414.060059  3440.290039  3397.649902  3431.929932   \n",
       "2001-07-18  3383.409912  3434.939941  3446.179932  3377.580078  3383.409912   \n",
       "\n",
       "            Volume  \n",
       "2001-07-12     0.0  \n",
       "2001-07-13     0.0  \n",
       "2001-07-16     0.0  \n",
       "2001-07-17     0.0  \n",
       "2001-07-18     0.0  "
      ]
     },
     "execution_count": 23,
     "metadata": {},
     "output_type": "execute_result"
    }
   ],
   "source": [
    "stock.head()"
   ]
  },
  {
   "cell_type": "code",
   "execution_count": 24,
   "metadata": {
    "execution": {
     "iopub.execute_input": "2020-10-16T10:18:18.874331Z",
     "iopub.status.busy": "2020-10-16T10:18:18.873437Z",
     "iopub.status.idle": "2020-10-16T10:18:18.879127Z",
     "shell.execute_reply": "2020-10-16T10:18:18.878398Z"
    },
    "papermill": {
     "duration": 0.084187,
     "end_time": "2020-10-16T10:18:18.879240",
     "exception": false,
     "start_time": "2020-10-16T10:18:18.795053",
     "status": "completed"
    },
    "tags": []
   },
   "outputs": [],
   "source": [
    "from matplotlib.pylab import rcParams\n",
    "rcParams['figure.figsize']=10,6"
   ]
  },
  {
   "cell_type": "code",
   "execution_count": 25,
   "metadata": {
    "execution": {
     "iopub.execute_input": "2020-10-16T10:18:19.032978Z",
     "iopub.status.busy": "2020-10-16T10:18:19.032211Z",
     "iopub.status.idle": "2020-10-16T10:18:19.380087Z",
     "shell.execute_reply": "2020-10-16T10:18:19.380897Z"
    },
    "papermill": {
     "duration": 0.428034,
     "end_time": "2020-10-16T10:18:19.381176",
     "exception": false,
     "start_time": "2020-10-16T10:18:18.953142",
     "status": "completed"
    },
    "tags": []
   },
   "outputs": [
    {
     "data": {
      "text/plain": [
       "Text(0.5, 0, 'open')"
      ]
     },
     "execution_count": 25,
     "metadata": {},
     "output_type": "execute_result"
    },
    {
     "data": {
      "image/png": "[encoded data removed]",
      "text/plain": [
       "<Figure size 720x432 with 1 Axes>"
      ]
     },
     "metadata": {
      "needs_background": "light"
     },
     "output_type": "display_data"
    }
   ],
   "source": [
    "stock[\"Open\"].plot()\n",
    "plt.xlabel(\"open\")"
   ]
  },
  {
   "cell_type": "code",
   "execution_count": 26,
   "metadata": {
    "execution": {
     "iopub.execute_input": "2020-10-16T10:18:19.654929Z",
     "iopub.status.busy": "2020-10-16T10:18:19.653860Z",
     "iopub.status.idle": "2020-10-16T10:18:19.960981Z",
     "shell.execute_reply": "2020-10-16T10:18:19.962404Z"
    },
    "papermill": {
     "duration": 0.449741,
     "end_time": "2020-10-16T10:18:19.962660",
     "exception": false,
     "start_time": "2020-10-16T10:18:19.512919",
     "status": "completed"
    },
    "tags": []
   },
   "outputs": [
    {
     "data": {
      "text/plain": [
       "Text(0.5, 0, 'High')"
      ]
     },
     "execution_count": 26,
     "metadata": {},
     "output_type": "execute_result"
    },
    {
     "data": {
      "image/png": "[encoded data removed]",
      "text/plain": [
       "<Figure size 720x432 with 1 Axes>"
      ]
     },
     "metadata": {
      "needs_background": "light"
     },
     "output_type": "display_data"
    }
   ],
   "source": [
    "stock[\"High\"].plot()\n",
    "plt.xlabel(\"High\")"
   ]
  },
  {
   "cell_type": "code",
   "execution_count": 27,
   "metadata": {
    "execution": {
     "iopub.execute_input": "2020-10-16T10:18:20.303701Z",
     "iopub.status.busy": "2020-10-16T10:18:20.302646Z",
     "iopub.status.idle": "2020-10-16T10:18:20.489158Z",
     "shell.execute_reply": "2020-10-16T10:18:20.490282Z"
    },
    "papermill": {
     "duration": 0.366024,
     "end_time": "2020-10-16T10:18:20.490454",
     "exception": false,
     "start_time": "2020-10-16T10:18:20.124430",
     "status": "completed"
    },
    "tags": []
   },
   "outputs": [
    {
     "data": {
      "text/plain": [
       "Text(0.5, 0, 'Low')"
      ]
     },
     "execution_count": 27,
     "metadata": {},
     "output_type": "execute_result"
    },
    {
     "data": {
      "image/png": "[encoded data removed]",
      "text/plain": [
       "<Figure size 720x432 with 1 Axes>"
      ]
     },
     "metadata": {
      "needs_background": "light"
     },
     "output_type": "display_data"
    }
   ],
   "source": [
    "stock[\"Low\"].plot()\n",
    "plt.xlabel(\"Low\")"
   ]
  },
  {
   "cell_type": "code",
   "execution_count": 28,
   "metadata": {
    "execution": {
     "iopub.execute_input": "2020-10-16T10:18:20.753392Z",
     "iopub.status.busy": "2020-10-16T10:18:20.744699Z",
     "iopub.status.idle": "2020-10-16T10:18:20.944304Z",
     "shell.execute_reply": "2020-10-16T10:18:20.944906Z"
    },
    "papermill": {
     "duration": 0.334937,
     "end_time": "2020-10-16T10:18:20.945076",
     "exception": false,
     "start_time": "2020-10-16T10:18:20.610139",
     "status": "completed"
    },
    "tags": []
   },
   "outputs": [
    {
     "data": {
      "text/plain": [
       "Text(0.5, 0, 'Close')"
      ]
     },
     "execution_count": 28,
     "metadata": {},
     "output_type": "execute_result"
    },
    {
     "data": {
      "image/png": "[encoded data removed]",
      "text/plain": [
       "<Figure size 720x432 with 1 Axes>"
      ]
     },
     "metadata": {
      "needs_background": "light"
     },
     "output_type": "display_data"
    }
   ],
   "source": [
    "stock[\"Close\"].plot()\n",
    "plt.xlabel(\"Close\")"
   ]
  },
  {
   "cell_type": "code",
   "execution_count": 29,
   "metadata": {
    "execution": {
     "iopub.execute_input": "2020-10-16T10:18:21.129226Z",
     "iopub.status.busy": "2020-10-16T10:18:21.127761Z",
     "iopub.status.idle": "2020-10-16T10:18:21.304999Z",
     "shell.execute_reply": "2020-10-16T10:18:21.305597Z"
    },
    "papermill": {
     "duration": 0.271625,
     "end_time": "2020-10-16T10:18:21.305762",
     "exception": false,
     "start_time": "2020-10-16T10:18:21.034137",
     "status": "completed"
    },
    "tags": []
   },
   "outputs": [
    {
     "data": {
      "text/plain": [
       "Text(0.5, 0, 'Volume')"
      ]
     },
     "execution_count": 29,
     "metadata": {},
     "output_type": "execute_result"
    },
    {
     "data": {
      "image/png": "[encoded data removed]",
      "text/plain": [
       "<Figure size 720x432 with 1 Axes>"
      ]
     },
     "metadata": {
      "needs_background": "light"
     },
     "output_type": "display_data"
    }
   ],
   "source": [
    "stock[\"Volume\"].plot()\n",
    "plt.xlabel(\"Volume\")"
   ]
  },
  {
   "cell_type": "code",
   "execution_count": 30,
   "metadata": {
    "execution": {
     "iopub.execute_input": "2020-10-16T10:18:21.481750Z",
     "iopub.status.busy": "2020-10-16T10:18:21.479948Z",
     "iopub.status.idle": "2020-10-16T10:18:21.482439Z",
     "shell.execute_reply": "2020-10-16T10:18:21.482941Z"
    },
    "papermill": {
     "duration": 0.087478,
     "end_time": "2020-10-16T10:18:21.483061",
     "exception": false,
     "start_time": "2020-10-16T10:18:21.395583",
     "status": "completed"
    },
    "tags": []
   },
   "outputs": [],
   "source": [
    "stock.drop([\"Adj Close\"],axis=1,inplace=True)"
   ]
  },
  {
   "cell_type": "code",
   "execution_count": 31,
   "metadata": {
    "execution": {
     "iopub.execute_input": "2020-10-16T10:18:21.658982Z",
     "iopub.status.busy": "2020-10-16T10:18:21.657579Z",
     "iopub.status.idle": "2020-10-16T10:18:21.662793Z",
     "shell.execute_reply": "2020-10-16T10:18:21.663297Z"
    },
    "papermill": {
     "duration": 0.100299,
     "end_time": "2020-10-16T10:18:21.663435",
     "exception": false,
     "start_time": "2020-10-16T10:18:21.563136",
     "status": "completed"
    },
    "tags": []
   },
   "outputs": [
    {
     "data": {
      "text/html": [
       "<div>\n",
       "<style scoped>\n",
       "    .dataframe tbody tr th:only-of-type {\n",
       "        vertical-align: middle;\n",
       "    }\n",
       "\n",
       "    .dataframe tbody tr th {\n",
       "        vertical-align: top;\n",
       "    }\n",
       "\n",
       "    .dataframe thead th {\n",
       "        text-align: right;\n",
       "    }\n",
       "</style>\n",
       "<table border=\"1\" class=\"dataframe\">\n",
       "  <thead>\n",
       "    <tr style=\"text-align: right;\">\n",
       "      <th></th>\n",
       "      <th>Close</th>\n",
       "      <th>Open</th>\n",
       "      <th>High</th>\n",
       "      <th>Low</th>\n",
       "      <th>Volume</th>\n",
       "    </tr>\n",
       "  </thead>\n",
       "  <tbody>\n",
       "    <tr>\n",
       "      <th>2001-07-12</th>\n",
       "      <td>3452.750000</td>\n",
       "      <td>3390.340088</td>\n",
       "      <td>3459.370117</td>\n",
       "      <td>3384.739990</td>\n",
       "      <td>0.0</td>\n",
       "    </tr>\n",
       "    <tr>\n",
       "      <th>2001-07-13</th>\n",
       "      <td>3453.989990</td>\n",
       "      <td>3470.939941</td>\n",
       "      <td>3513.790039</td>\n",
       "      <td>3438.030029</td>\n",
       "      <td>0.0</td>\n",
       "    </tr>\n",
       "    <tr>\n",
       "      <th>2001-07-16</th>\n",
       "      <td>3434.830078</td>\n",
       "      <td>3453.629883</td>\n",
       "      <td>3478.110107</td>\n",
       "      <td>3427.820068</td>\n",
       "      <td>0.0</td>\n",
       "    </tr>\n",
       "    <tr>\n",
       "      <th>2001-07-17</th>\n",
       "      <td>3431.929932</td>\n",
       "      <td>3414.060059</td>\n",
       "      <td>3440.290039</td>\n",
       "      <td>3397.649902</td>\n",
       "      <td>0.0</td>\n",
       "    </tr>\n",
       "    <tr>\n",
       "      <th>2001-07-18</th>\n",
       "      <td>3383.409912</td>\n",
       "      <td>3434.939941</td>\n",
       "      <td>3446.179932</td>\n",
       "      <td>3377.580078</td>\n",
       "      <td>0.0</td>\n",
       "    </tr>\n",
       "  </tbody>\n",
       "</table>\n",
       "</div>"
      ],
      "text/plain": [
       "                  Close         Open         High          Low  Volume\n",
       "2001-07-12  3452.750000  3390.340088  3459.370117  3384.739990     0.0\n",
       "2001-07-13  3453.989990  3470.939941  3513.790039  3438.030029     0.0\n",
       "2001-07-16  3434.830078  3453.629883  3478.110107  3427.820068     0.0\n",
       "2001-07-17  3431.929932  3414.060059  3440.290039  3397.649902     0.0\n",
       "2001-07-18  3383.409912  3434.939941  3446.179932  3377.580078     0.0"
      ]
     },
     "execution_count": 31,
     "metadata": {},
     "output_type": "execute_result"
    }
   ],
   "source": [
    "stock.head()"
   ]
  },
  {
   "cell_type": "code",
   "execution_count": 32,
   "metadata": {
    "execution": {
     "iopub.execute_input": "2020-10-16T10:18:21.846737Z",
     "iopub.status.busy": "2020-10-16T10:18:21.845767Z",
     "iopub.status.idle": "2020-10-16T10:18:22.668739Z",
     "shell.execute_reply": "2020-10-16T10:18:22.667824Z"
    },
    "papermill": {
     "duration": 0.910755,
     "end_time": "2020-10-16T10:18:22.668858",
     "exception": false,
     "start_time": "2020-10-16T10:18:21.758103",
     "status": "completed"
    },
    "tags": []
   },
   "outputs": [],
   "source": [
    "from sklearn.preprocessing import MinMaxScaler\n",
    "scale=MinMaxScaler()\n",
    "scale=scale.fit(stock)\n",
    "data=scale.transform(stock)"
   ]
  },
  {
   "cell_type": "code",
   "execution_count": 33,
   "metadata": {
    "execution": {
     "iopub.execute_input": "2020-10-16T10:18:22.854368Z",
     "iopub.status.busy": "2020-10-16T10:18:22.853542Z",
     "iopub.status.idle": "2020-10-16T10:18:22.857435Z",
     "shell.execute_reply": "2020-10-16T10:18:22.856894Z"
    },
    "papermill": {
     "duration": 0.102842,
     "end_time": "2020-10-16T10:18:22.857574",
     "exception": false,
     "start_time": "2020-10-16T10:18:22.754732",
     "status": "completed"
    },
    "tags": []
   },
   "outputs": [],
   "source": [
    "def sss(w):\n",
    "    t1,t2=w.shape\n",
    "    a=[]\n",
    "    t={}\n",
    "    for i in range(t2):\n",
    "        for j in range(t1):\n",
    "                a.append(w[j][i])\n",
    "        ss=pd.Series(a)\n",
    "        t.update({i:ss})\n",
    "        a=[]\n",
    "    k=[]\n",
    "    for i,j in t.items():\n",
    "        k.append(j)\n",
    "    ww=pd.concat(k,axis=1)\n",
    "    n=len(ww.columns)\n",
    "    for i in range(n):\n",
    "         ww[n+i]=ww[i].shift(-1)\n",
    "    return ww\n",
    "    "
   ]
  },
  {
   "cell_type": "code",
   "execution_count": 34,
   "metadata": {
    "execution": {
     "iopub.execute_input": "2020-10-16T10:18:23.056005Z",
     "iopub.status.busy": "2020-10-16T10:18:23.034030Z",
     "iopub.status.idle": "2020-10-16T10:18:23.062993Z",
     "shell.execute_reply": "2020-10-16T10:18:23.062414Z"
    },
    "papermill": {
     "duration": 0.121702,
     "end_time": "2020-10-16T10:18:23.063113",
     "exception": false,
     "start_time": "2020-10-16T10:18:22.941411",
     "status": "completed"
    },
    "tags": []
   },
   "outputs": [],
   "source": [
    "w=sss(data)"
   ]
  },
  {
   "cell_type": "code",
   "execution_count": 35,
   "metadata": {
    "execution": {
     "iopub.execute_input": "2020-10-16T10:18:23.291839Z",
     "iopub.status.busy": "2020-10-16T10:18:23.289647Z",
     "iopub.status.idle": "2020-10-16T10:18:23.297003Z",
     "shell.execute_reply": "2020-10-16T10:18:23.296322Z"
    },
    "papermill": {
     "duration": 0.10939,
     "end_time": "2020-10-16T10:18:23.297122",
     "exception": false,
     "start_time": "2020-10-16T10:18:23.187732",
     "status": "completed"
    },
    "tags": []
   },
   "outputs": [
    {
     "data": {
      "text/html": [
       "<div>\n",
       "<style scoped>\n",
       "    .dataframe tbody tr th:only-of-type {\n",
       "        vertical-align: middle;\n",
       "    }\n",
       "\n",
       "    .dataframe tbody tr th {\n",
       "        vertical-align: top;\n",
       "    }\n",
       "\n",
       "    .dataframe thead th {\n",
       "        text-align: right;\n",
       "    }\n",
       "</style>\n",
       "<table border=\"1\" class=\"dataframe\">\n",
       "  <thead>\n",
       "    <tr style=\"text-align: right;\">\n",
       "      <th></th>\n",
       "      <th>0</th>\n",
       "      <th>1</th>\n",
       "      <th>2</th>\n",
       "      <th>3</th>\n",
       "      <th>4</th>\n",
       "      <th>5</th>\n",
       "      <th>6</th>\n",
       "      <th>7</th>\n",
       "      <th>8</th>\n",
       "      <th>9</th>\n",
       "    </tr>\n",
       "  </thead>\n",
       "  <tbody>\n",
       "    <tr>\n",
       "      <th>0</th>\n",
       "      <td>0.021666</td>\n",
       "      <td>0.019385</td>\n",
       "      <td>0.019620</td>\n",
       "      <td>0.020121</td>\n",
       "      <td>0.000000</td>\n",
       "      <td>0.021698</td>\n",
       "      <td>0.021418</td>\n",
       "      <td>0.020995</td>\n",
       "      <td>0.021479</td>\n",
       "      <td>0.000000</td>\n",
       "    </tr>\n",
       "    <tr>\n",
       "      <th>1</th>\n",
       "      <td>0.021698</td>\n",
       "      <td>0.021418</td>\n",
       "      <td>0.020995</td>\n",
       "      <td>0.021479</td>\n",
       "      <td>0.000000</td>\n",
       "      <td>0.021211</td>\n",
       "      <td>0.020982</td>\n",
       "      <td>0.020093</td>\n",
       "      <td>0.021219</td>\n",
       "      <td>0.000000</td>\n",
       "    </tr>\n",
       "    <tr>\n",
       "      <th>2</th>\n",
       "      <td>0.021211</td>\n",
       "      <td>0.020982</td>\n",
       "      <td>0.020093</td>\n",
       "      <td>0.021219</td>\n",
       "      <td>0.000000</td>\n",
       "      <td>0.021137</td>\n",
       "      <td>0.019984</td>\n",
       "      <td>0.019138</td>\n",
       "      <td>0.020450</td>\n",
       "      <td>0.000000</td>\n",
       "    </tr>\n",
       "    <tr>\n",
       "      <th>3</th>\n",
       "      <td>0.021137</td>\n",
       "      <td>0.019984</td>\n",
       "      <td>0.019138</td>\n",
       "      <td>0.020450</td>\n",
       "      <td>0.000000</td>\n",
       "      <td>0.019904</td>\n",
       "      <td>0.020510</td>\n",
       "      <td>0.019287</td>\n",
       "      <td>0.019939</td>\n",
       "      <td>0.000000</td>\n",
       "    </tr>\n",
       "    <tr>\n",
       "      <th>4</th>\n",
       "      <td>0.019904</td>\n",
       "      <td>0.020510</td>\n",
       "      <td>0.019287</td>\n",
       "      <td>0.019939</td>\n",
       "      <td>0.000000</td>\n",
       "      <td>0.019587</td>\n",
       "      <td>0.018946</td>\n",
       "      <td>0.017622</td>\n",
       "      <td>0.019290</td>\n",
       "      <td>0.000000</td>\n",
       "    </tr>\n",
       "    <tr>\n",
       "      <th>...</th>\n",
       "      <td>...</td>\n",
       "      <td>...</td>\n",
       "      <td>...</td>\n",
       "      <td>...</td>\n",
       "      <td>...</td>\n",
       "      <td>...</td>\n",
       "      <td>...</td>\n",
       "      <td>...</td>\n",
       "      <td>...</td>\n",
       "      <td>...</td>\n",
       "    </tr>\n",
       "    <tr>\n",
       "      <th>4694</th>\n",
       "      <td>0.834262</td>\n",
       "      <td>0.817178</td>\n",
       "      <td>0.828454</td>\n",
       "      <td>0.821513</td>\n",
       "      <td>0.000792</td>\n",
       "      <td>0.819995</td>\n",
       "      <td>0.833928</td>\n",
       "      <td>0.834122</td>\n",
       "      <td>0.820270</td>\n",
       "      <td>0.000836</td>\n",
       "    </tr>\n",
       "    <tr>\n",
       "      <th>4695</th>\n",
       "      <td>0.819995</td>\n",
       "      <td>0.833928</td>\n",
       "      <td>0.834122</td>\n",
       "      <td>0.820270</td>\n",
       "      <td>0.000836</td>\n",
       "      <td>0.819312</td>\n",
       "      <td>0.804808</td>\n",
       "      <td>0.818337</td>\n",
       "      <td>0.812752</td>\n",
       "      <td>0.000773</td>\n",
       "    </tr>\n",
       "    <tr>\n",
       "      <th>4696</th>\n",
       "      <td>0.819312</td>\n",
       "      <td>0.804808</td>\n",
       "      <td>0.818337</td>\n",
       "      <td>0.812752</td>\n",
       "      <td>0.000773</td>\n",
       "      <td>0.827677</td>\n",
       "      <td>0.820433</td>\n",
       "      <td>0.822714</td>\n",
       "      <td>0.823210</td>\n",
       "      <td>0.000780</td>\n",
       "    </tr>\n",
       "    <tr>\n",
       "      <th>4697</th>\n",
       "      <td>0.827677</td>\n",
       "      <td>0.820433</td>\n",
       "      <td>0.822714</td>\n",
       "      <td>0.823210</td>\n",
       "      <td>0.000780</td>\n",
       "      <td>0.822347</td>\n",
       "      <td>0.814938</td>\n",
       "      <td>0.817093</td>\n",
       "      <td>0.816886</td>\n",
       "      <td>0.000575</td>\n",
       "    </tr>\n",
       "    <tr>\n",
       "      <th>4698</th>\n",
       "      <td>0.822347</td>\n",
       "      <td>0.814938</td>\n",
       "      <td>0.817093</td>\n",
       "      <td>0.816886</td>\n",
       "      <td>0.000575</td>\n",
       "      <td>NaN</td>\n",
       "      <td>NaN</td>\n",
       "      <td>NaN</td>\n",
       "      <td>NaN</td>\n",
       "      <td>NaN</td>\n",
       "    </tr>\n",
       "  </tbody>\n",
       "</table>\n",
       "<p>4699 rows × 10 columns</p>\n",
       "</div>"
      ],
      "text/plain": [
       "             0         1         2         3         4         5         6  \\\n",
       "0     0.021666  0.019385  0.019620  0.020121  0.000000  0.021698  0.021418   \n",
       "1     0.021698  0.021418  0.020995  0.021479  0.000000  0.021211  0.020982   \n",
       "2     0.021211  0.020982  0.020093  0.021219  0.000000  0.021137  0.019984   \n",
       "3     0.021137  0.019984  0.019138  0.020450  0.000000  0.019904  0.020510   \n",
       "4     0.019904  0.020510  0.019287  0.019939  0.000000  0.019587  0.018946   \n",
       "...        ...       ...       ...       ...       ...       ...       ...   \n",
       "4694  0.834262  0.817178  0.828454  0.821513  0.000792  0.819995  0.833928   \n",
       "4695  0.819995  0.833928  0.834122  0.820270  0.000836  0.819312  0.804808   \n",
       "4696  0.819312  0.804808  0.818337  0.812752  0.000773  0.827677  0.820433   \n",
       "4697  0.827677  0.820433  0.822714  0.823210  0.000780  0.822347  0.814938   \n",
       "4698  0.822347  0.814938  0.817093  0.816886  0.000575       NaN       NaN   \n",
       "\n",
       "             7         8         9  \n",
       "0     0.020995  0.021479  0.000000  \n",
       "1     0.020093  0.021219  0.000000  \n",
       "2     0.019138  0.020450  0.000000  \n",
       "3     0.019287  0.019939  0.000000  \n",
       "4     0.017622  0.019290  0.000000  \n",
       "...        ...       ...       ...  \n",
       "4694  0.834122  0.820270  0.000836  \n",
       "4695  0.818337  0.812752  0.000773  \n",
       "4696  0.822714  0.823210  0.000780  \n",
       "4697  0.817093  0.816886  0.000575  \n",
       "4698       NaN       NaN       NaN  \n",
       "\n",
       "[4699 rows x 10 columns]"
      ]
     },
     "execution_count": 35,
     "metadata": {},
     "output_type": "execute_result"
    }
   ],
   "source": [
    "w"
   ]
  },
  {
   "cell_type": "code",
   "execution_count": 36,
   "metadata": {
    "execution": {
     "iopub.execute_input": "2020-10-16T10:18:23.475817Z",
     "iopub.status.busy": "2020-10-16T10:18:23.474944Z",
     "iopub.status.idle": "2020-10-16T10:18:23.478980Z",
     "shell.execute_reply": "2020-10-16T10:18:23.478482Z"
    },
    "papermill": {
     "duration": 0.089818,
     "end_time": "2020-10-16T10:18:23.479089",
     "exception": false,
     "start_time": "2020-10-16T10:18:23.389271",
     "status": "completed"
    },
    "tags": []
   },
   "outputs": [],
   "source": [
    "w.fillna(method='ffill',inplace=True)"
   ]
  },
  {
   "cell_type": "code",
   "execution_count": 37,
   "metadata": {
    "execution": {
     "iopub.execute_input": "2020-10-16T10:18:23.653732Z",
     "iopub.status.busy": "2020-10-16T10:18:23.652830Z",
     "iopub.status.idle": "2020-10-16T10:18:23.656176Z",
     "shell.execute_reply": "2020-10-16T10:18:23.655702Z"
    },
    "papermill": {
     "duration": 0.093255,
     "end_time": "2020-10-16T10:18:23.656294",
     "exception": false,
     "start_time": "2020-10-16T10:18:23.563039",
     "status": "completed"
    },
    "tags": []
   },
   "outputs": [],
   "source": [
    "w.drop([6,7,8,9],axis=1,inplace=True)"
   ]
  },
  {
   "cell_type": "code",
   "execution_count": 38,
   "metadata": {
    "execution": {
     "iopub.execute_input": "2020-10-16T10:18:23.846318Z",
     "iopub.status.busy": "2020-10-16T10:18:23.845410Z",
     "iopub.status.idle": "2020-10-16T10:18:23.849702Z",
     "shell.execute_reply": "2020-10-16T10:18:23.850219Z"
    },
    "papermill": {
     "duration": 0.107648,
     "end_time": "2020-10-16T10:18:23.850373",
     "exception": false,
     "start_time": "2020-10-16T10:18:23.742725",
     "status": "completed"
    },
    "tags": []
   },
   "outputs": [
    {
     "data": {
      "text/html": [
       "<div>\n",
       "<style scoped>\n",
       "    .dataframe tbody tr th:only-of-type {\n",
       "        vertical-align: middle;\n",
       "    }\n",
       "\n",
       "    .dataframe tbody tr th {\n",
       "        vertical-align: top;\n",
       "    }\n",
       "\n",
       "    .dataframe thead th {\n",
       "        text-align: right;\n",
       "    }\n",
       "</style>\n",
       "<table border=\"1\" class=\"dataframe\">\n",
       "  <thead>\n",
       "    <tr style=\"text-align: right;\">\n",
       "      <th></th>\n",
       "      <th>0</th>\n",
       "      <th>1</th>\n",
       "      <th>2</th>\n",
       "      <th>3</th>\n",
       "      <th>4</th>\n",
       "      <th>5</th>\n",
       "    </tr>\n",
       "  </thead>\n",
       "  <tbody>\n",
       "    <tr>\n",
       "      <th>0</th>\n",
       "      <td>0.021666</td>\n",
       "      <td>0.019385</td>\n",
       "      <td>0.019620</td>\n",
       "      <td>0.020121</td>\n",
       "      <td>0.000000</td>\n",
       "      <td>0.021698</td>\n",
       "    </tr>\n",
       "    <tr>\n",
       "      <th>1</th>\n",
       "      <td>0.021698</td>\n",
       "      <td>0.021418</td>\n",
       "      <td>0.020995</td>\n",
       "      <td>0.021479</td>\n",
       "      <td>0.000000</td>\n",
       "      <td>0.021211</td>\n",
       "    </tr>\n",
       "    <tr>\n",
       "      <th>2</th>\n",
       "      <td>0.021211</td>\n",
       "      <td>0.020982</td>\n",
       "      <td>0.020093</td>\n",
       "      <td>0.021219</td>\n",
       "      <td>0.000000</td>\n",
       "      <td>0.021137</td>\n",
       "    </tr>\n",
       "    <tr>\n",
       "      <th>3</th>\n",
       "      <td>0.021137</td>\n",
       "      <td>0.019984</td>\n",
       "      <td>0.019138</td>\n",
       "      <td>0.020450</td>\n",
       "      <td>0.000000</td>\n",
       "      <td>0.019904</td>\n",
       "    </tr>\n",
       "    <tr>\n",
       "      <th>4</th>\n",
       "      <td>0.019904</td>\n",
       "      <td>0.020510</td>\n",
       "      <td>0.019287</td>\n",
       "      <td>0.019939</td>\n",
       "      <td>0.000000</td>\n",
       "      <td>0.019587</td>\n",
       "    </tr>\n",
       "    <tr>\n",
       "      <th>...</th>\n",
       "      <td>...</td>\n",
       "      <td>...</td>\n",
       "      <td>...</td>\n",
       "      <td>...</td>\n",
       "      <td>...</td>\n",
       "      <td>...</td>\n",
       "    </tr>\n",
       "    <tr>\n",
       "      <th>4694</th>\n",
       "      <td>0.834262</td>\n",
       "      <td>0.817178</td>\n",
       "      <td>0.828454</td>\n",
       "      <td>0.821513</td>\n",
       "      <td>0.000792</td>\n",
       "      <td>0.819995</td>\n",
       "    </tr>\n",
       "    <tr>\n",
       "      <th>4695</th>\n",
       "      <td>0.819995</td>\n",
       "      <td>0.833928</td>\n",
       "      <td>0.834122</td>\n",
       "      <td>0.820270</td>\n",
       "      <td>0.000836</td>\n",
       "      <td>0.819312</td>\n",
       "    </tr>\n",
       "    <tr>\n",
       "      <th>4696</th>\n",
       "      <td>0.819312</td>\n",
       "      <td>0.804808</td>\n",
       "      <td>0.818337</td>\n",
       "      <td>0.812752</td>\n",
       "      <td>0.000773</td>\n",
       "      <td>0.827677</td>\n",
       "    </tr>\n",
       "    <tr>\n",
       "      <th>4697</th>\n",
       "      <td>0.827677</td>\n",
       "      <td>0.820433</td>\n",
       "      <td>0.822714</td>\n",
       "      <td>0.823210</td>\n",
       "      <td>0.000780</td>\n",
       "      <td>0.822347</td>\n",
       "    </tr>\n",
       "    <tr>\n",
       "      <th>4698</th>\n",
       "      <td>0.822347</td>\n",
       "      <td>0.814938</td>\n",
       "      <td>0.817093</td>\n",
       "      <td>0.816886</td>\n",
       "      <td>0.000575</td>\n",
       "      <td>0.822347</td>\n",
       "    </tr>\n",
       "  </tbody>\n",
       "</table>\n",
       "<p>4699 rows × 6 columns</p>\n",
       "</div>"
      ],
      "text/plain": [
       "             0         1         2         3         4         5\n",
       "0     0.021666  0.019385  0.019620  0.020121  0.000000  0.021698\n",
       "1     0.021698  0.021418  0.020995  0.021479  0.000000  0.021211\n",
       "2     0.021211  0.020982  0.020093  0.021219  0.000000  0.021137\n",
       "3     0.021137  0.019984  0.019138  0.020450  0.000000  0.019904\n",
       "4     0.019904  0.020510  0.019287  0.019939  0.000000  0.019587\n",
       "...        ...       ...       ...       ...       ...       ...\n",
       "4694  0.834262  0.817178  0.828454  0.821513  0.000792  0.819995\n",
       "4695  0.819995  0.833928  0.834122  0.820270  0.000836  0.819312\n",
       "4696  0.819312  0.804808  0.818337  0.812752  0.000773  0.827677\n",
       "4697  0.827677  0.820433  0.822714  0.823210  0.000780  0.822347\n",
       "4698  0.822347  0.814938  0.817093  0.816886  0.000575  0.822347\n",
       "\n",
       "[4699 rows x 6 columns]"
      ]
     },
     "execution_count": 38,
     "metadata": {},
     "output_type": "execute_result"
    }
   ],
   "source": [
    "w"
   ]
  },
  {
   "cell_type": "code",
   "execution_count": 39,
   "metadata": {
    "execution": {
     "iopub.execute_input": "2020-10-16T10:18:24.052278Z",
     "iopub.status.busy": "2020-10-16T10:18:24.046520Z",
     "iopub.status.idle": "2020-10-16T10:18:24.057648Z",
     "shell.execute_reply": "2020-10-16T10:18:24.056908Z"
    },
    "papermill": {
     "duration": 0.109762,
     "end_time": "2020-10-16T10:18:24.057786",
     "exception": false,
     "start_time": "2020-10-16T10:18:23.948024",
     "status": "completed"
    },
    "tags": []
   },
   "outputs": [
    {
     "name": "stdout",
     "output_type": "stream",
     "text": [
      "<class 'pandas.core.frame.DataFrame'>\n",
      "RangeIndex: 4699 entries, 0 to 4698\n",
      "Data columns (total 6 columns):\n",
      " #   Column  Non-Null Count  Dtype  \n",
      "---  ------  --------------  -----  \n",
      " 0   0       4699 non-null   float64\n",
      " 1   1       4699 non-null   float64\n",
      " 2   2       4699 non-null   float64\n",
      " 3   3       4699 non-null   float64\n",
      " 4   4       4699 non-null   float64\n",
      " 5   5       4699 non-null   float64\n",
      "dtypes: float64(6)\n",
      "memory usage: 220.4 KB\n"
     ]
    }
   ],
   "source": [
    "w.info()"
   ]
  },
  {
   "cell_type": "code",
   "execution_count": 40,
   "metadata": {
    "execution": {
     "iopub.execute_input": "2020-10-16T10:18:24.243161Z",
     "iopub.status.busy": "2020-10-16T10:18:24.242446Z",
     "iopub.status.idle": "2020-10-16T10:18:24.247008Z",
     "shell.execute_reply": "2020-10-16T10:18:24.246487Z"
    },
    "papermill": {
     "duration": 0.098565,
     "end_time": "2020-10-16T10:18:24.247106",
     "exception": false,
     "start_time": "2020-10-16T10:18:24.148541",
     "status": "completed"
    },
    "tags": []
   },
   "outputs": [],
   "source": [
    "www=w.values"
   ]
  },
  {
   "cell_type": "code",
   "execution_count": 41,
   "metadata": {
    "execution": {
     "iopub.execute_input": "2020-10-16T10:18:24.422734Z",
     "iopub.status.busy": "2020-10-16T10:18:24.421769Z",
     "iopub.status.idle": "2020-10-16T10:18:24.424098Z",
     "shell.execute_reply": "2020-10-16T10:18:24.424674Z"
    },
    "papermill": {
     "duration": 0.091798,
     "end_time": "2020-10-16T10:18:24.424798",
     "exception": false,
     "start_time": "2020-10-16T10:18:24.333000",
     "status": "completed"
    },
    "tags": []
   },
   "outputs": [],
   "source": [
    "xtrain,xtest,ytrain,ytest=www[:3759,0:5],www[3759:,0:5],www[:3759,-1],www[3759:,-1]"
   ]
  },
  {
   "cell_type": "code",
   "execution_count": 42,
   "metadata": {
    "execution": {
     "iopub.execute_input": "2020-10-16T10:18:24.597748Z",
     "iopub.status.busy": "2020-10-16T10:18:24.596941Z",
     "iopub.status.idle": "2020-10-16T10:18:24.600112Z",
     "shell.execute_reply": "2020-10-16T10:18:24.599574Z"
    },
    "papermill": {
     "duration": 0.092228,
     "end_time": "2020-10-16T10:18:24.600224",
     "exception": false,
     "start_time": "2020-10-16T10:18:24.507996",
     "status": "completed"
    },
    "tags": []
   },
   "outputs": [],
   "source": [
    "xtes=xtest"
   ]
  },
  {
   "cell_type": "code",
   "execution_count": 43,
   "metadata": {
    "execution": {
     "iopub.execute_input": "2020-10-16T10:18:24.785740Z",
     "iopub.status.busy": "2020-10-16T10:18:24.784826Z",
     "iopub.status.idle": "2020-10-16T10:18:24.788439Z",
     "shell.execute_reply": "2020-10-16T10:18:24.789017Z"
    },
    "papermill": {
     "duration": 0.099597,
     "end_time": "2020-10-16T10:18:24.789161",
     "exception": false,
     "start_time": "2020-10-16T10:18:24.689564",
     "status": "completed"
    },
    "tags": []
   },
   "outputs": [
    {
     "data": {
      "text/plain": [
       "array([[6.56935240e-01, 6.49587260e-01, 6.52912946e-01, 6.56424774e-01,\n",
       "        3.26888804e-04],\n",
       "       [6.56206203e-01, 6.51777911e-01, 6.53332220e-01, 6.57023666e-01,\n",
       "        5.28051146e-04],\n",
       "       [6.58966609e-01, 6.52777653e-01, 6.54158929e-01, 6.58068655e-01,\n",
       "        3.77179390e-04],\n",
       "       ...,\n",
       "       [8.19311969e-01, 8.04808459e-01, 8.18337231e-01, 8.12751768e-01,\n",
       "        7.73217749e-04],\n",
       "       [8.27676568e-01, 8.20433415e-01, 8.22713688e-01, 8.23210415e-01,\n",
       "        7.79504072e-04],\n",
       "       [8.22346539e-01, 8.14938311e-01, 8.17093271e-01, 8.16885651e-01,\n",
       "        5.75198569e-04]])"
      ]
     },
     "execution_count": 43,
     "metadata": {},
     "output_type": "execute_result"
    }
   ],
   "source": [
    "xtes"
   ]
  },
  {
   "cell_type": "code",
   "execution_count": 44,
   "metadata": {
    "execution": {
     "iopub.execute_input": "2020-10-16T10:18:24.990610Z",
     "iopub.status.busy": "2020-10-16T10:18:24.989744Z",
     "iopub.status.idle": "2020-10-16T10:18:24.992946Z",
     "shell.execute_reply": "2020-10-16T10:18:24.992368Z"
    },
    "papermill": {
     "duration": 0.104611,
     "end_time": "2020-10-16T10:18:24.993045",
     "exception": false,
     "start_time": "2020-10-16T10:18:24.888434",
     "status": "completed"
    },
    "tags": []
   },
   "outputs": [],
   "source": [
    "xtrain = xtrain.reshape(xtrain.shape[0], xtrain.shape[1], 1)\n",
    "xtest = xtest.reshape(xtest.shape[0], xtest.shape[1], 1)"
   ]
  },
  {
   "cell_type": "code",
   "execution_count": 45,
   "metadata": {
    "execution": {
     "iopub.execute_input": "2020-10-16T10:18:25.184567Z",
     "iopub.status.busy": "2020-10-16T10:18:25.183911Z",
     "iopub.status.idle": "2020-10-16T10:18:29.819804Z",
     "shell.execute_reply": "2020-10-16T10:18:29.819154Z"
    },
    "papermill": {
     "duration": 4.732289,
     "end_time": "2020-10-16T10:18:29.819932",
     "exception": false,
     "start_time": "2020-10-16T10:18:25.087643",
     "status": "completed"
    },
    "tags": []
   },
   "outputs": [],
   "source": [
    "from tensorflow.keras.models import Sequential\n",
    "from tensorflow.keras.layers import Dense\n",
    "from tensorflow.keras.layers import LSTM,Dropout,SpatialDropout1D\n",
    "from keras.layers import Bidirectional"
   ]
  },
  {
   "cell_type": "code",
   "execution_count": 46,
   "metadata": {
    "execution": {
     "iopub.execute_input": "2020-10-16T10:18:30.002264Z",
     "iopub.status.busy": "2020-10-16T10:18:30.001325Z",
     "iopub.status.idle": "2020-10-16T10:18:32.848815Z",
     "shell.execute_reply": "2020-10-16T10:18:32.847988Z"
    },
    "papermill": {
     "duration": 2.942031,
     "end_time": "2020-10-16T10:18:32.848942",
     "exception": false,
     "start_time": "2020-10-16T10:18:29.906911",
     "status": "completed"
    },
    "tags": []
   },
   "outputs": [],
   "source": [
    "model=Sequential()\n",
    "model.add(Bidirectional(LSTM(100,activation=\"relu\",input_shape=(xtrain.shape[1],xtrain.shape[2]))))\n",
    "model.add(Dense(1))\n",
    "model.compile(optimizer='adam', loss='mse')"
   ]
  },
  {
   "cell_type": "code",
   "execution_count": 47,
   "metadata": {
    "execution": {
     "iopub.execute_input": "2020-10-16T10:18:33.030125Z",
     "iopub.status.busy": "2020-10-16T10:18:33.029236Z",
     "iopub.status.idle": "2020-10-16T10:20:43.986948Z",
     "shell.execute_reply": "2020-10-16T10:20:43.985850Z"
    },
    "papermill": {
     "duration": 131.049551,
     "end_time": "2020-10-16T10:20:43.987081",
     "exception": false,
     "start_time": "2020-10-16T10:18:32.937530",
     "status": "completed"
    },
    "tags": []
   },
   "outputs": [
    {
     "name": "stdout",
     "output_type": "stream",
     "text": [
      "Epoch 1/50\n",
      "118/118 - 3s - loss: 0.0125 - val_loss: 7.8872e-04\n",
      "Epoch 2/50\n",
      "118/118 - 3s - loss: 3.9125e-05 - val_loss: 5.8532e-04\n",
      "Epoch 3/50\n",
      "118/118 - 2s - loss: 3.7252e-05 - val_loss: 5.0056e-04\n",
      "Epoch 4/50\n",
      "118/118 - 3s - loss: 3.6069e-05 - val_loss: 5.2113e-04\n",
      "Epoch 5/50\n",
      "118/118 - 2s - loss: 3.7297e-05 - val_loss: 4.6091e-04\n",
      "Epoch 6/50\n",
      "118/118 - 3s - loss: 3.6720e-05 - val_loss: 4.9511e-04\n",
      "Epoch 7/50\n",
      "118/118 - 3s - loss: 3.6048e-05 - val_loss: 5.8911e-04\n",
      "Epoch 8/50\n",
      "118/118 - 2s - loss: 3.6012e-05 - val_loss: 5.5779e-04\n",
      "Epoch 9/50\n",
      "118/118 - 2s - loss: 3.6159e-05 - val_loss: 5.3553e-04\n",
      "Epoch 10/50\n",
      "118/118 - 2s - loss: 3.9725e-05 - val_loss: 5.0878e-04\n",
      "Epoch 11/50\n",
      "118/118 - 3s - loss: 3.6900e-05 - val_loss: 4.6261e-04\n",
      "Epoch 12/50\n",
      "118/118 - 3s - loss: 3.6880e-05 - val_loss: 4.3844e-04\n",
      "Epoch 13/50\n",
      "118/118 - 2s - loss: 3.6944e-05 - val_loss: 4.3052e-04\n",
      "Epoch 14/50\n",
      "118/118 - 2s - loss: 3.6662e-05 - val_loss: 4.6538e-04\n",
      "Epoch 15/50\n",
      "118/118 - 3s - loss: 4.0347e-05 - val_loss: 4.0088e-04\n",
      "Epoch 16/50\n",
      "118/118 - 2s - loss: 3.9699e-05 - val_loss: 4.6492e-04\n",
      "Epoch 17/50\n",
      "118/118 - 2s - loss: 3.9289e-05 - val_loss: 4.9399e-04\n",
      "Epoch 18/50\n",
      "118/118 - 2s - loss: 4.2150e-05 - val_loss: 4.5617e-04\n",
      "Epoch 19/50\n",
      "118/118 - 2s - loss: 3.9693e-05 - val_loss: 4.1741e-04\n",
      "Epoch 20/50\n",
      "118/118 - 3s - loss: 4.1675e-05 - val_loss: 5.0396e-04\n",
      "Epoch 21/50\n",
      "118/118 - 2s - loss: 3.9563e-05 - val_loss: 4.9484e-04\n",
      "Epoch 22/50\n",
      "118/118 - 2s - loss: 3.9953e-05 - val_loss: 4.4495e-04\n",
      "Epoch 23/50\n",
      "118/118 - 2s - loss: 3.7953e-05 - val_loss: 4.3560e-04\n",
      "Epoch 24/50\n",
      "118/118 - 3s - loss: 3.8046e-05 - val_loss: 4.7231e-04\n",
      "Epoch 25/50\n",
      "118/118 - 2s - loss: 3.7429e-05 - val_loss: 4.1363e-04\n",
      "Epoch 26/50\n",
      "118/118 - 2s - loss: 4.4126e-05 - val_loss: 6.8854e-04\n",
      "Epoch 27/50\n",
      "118/118 - 2s - loss: 4.4154e-05 - val_loss: 4.4193e-04\n",
      "Epoch 28/50\n",
      "118/118 - 4s - loss: 4.3802e-05 - val_loss: 4.2227e-04\n",
      "Epoch 29/50\n",
      "118/118 - 3s - loss: 3.9454e-05 - val_loss: 4.3924e-04\n",
      "Epoch 30/50\n",
      "118/118 - 2s - loss: 4.1253e-05 - val_loss: 5.4550e-04\n",
      "Epoch 31/50\n",
      "118/118 - 2s - loss: 4.1219e-05 - val_loss: 4.9820e-04\n",
      "Epoch 32/50\n",
      "118/118 - 2s - loss: 3.8370e-05 - val_loss: 5.9945e-04\n",
      "Epoch 33/50\n",
      "118/118 - 3s - loss: 3.9398e-05 - val_loss: 4.0733e-04\n",
      "Epoch 34/50\n",
      "118/118 - 2s - loss: 4.7097e-05 - val_loss: 4.1782e-04\n",
      "Epoch 35/50\n",
      "118/118 - 2s - loss: 4.0514e-05 - val_loss: 5.9679e-04\n",
      "Epoch 36/50\n",
      "118/118 - 2s - loss: 3.9635e-05 - val_loss: 4.5025e-04\n",
      "Epoch 37/50\n",
      "118/118 - 3s - loss: 3.9849e-05 - val_loss: 5.1610e-04\n",
      "Epoch 38/50\n",
      "118/118 - 2s - loss: 4.2493e-05 - val_loss: 5.5184e-04\n",
      "Epoch 39/50\n",
      "118/118 - 2s - loss: 4.1883e-05 - val_loss: 4.4331e-04\n",
      "Epoch 40/50\n",
      "118/118 - 2s - loss: 4.2375e-05 - val_loss: 5.3951e-04\n",
      "Epoch 41/50\n",
      "118/118 - 3s - loss: 4.1012e-05 - val_loss: 5.3203e-04\n",
      "Epoch 42/50\n",
      "118/118 - 2s - loss: 3.8680e-05 - val_loss: 9.3895e-04\n",
      "Epoch 43/50\n",
      "118/118 - 2s - loss: 4.1306e-05 - val_loss: 5.1996e-04\n",
      "Epoch 44/50\n",
      "118/118 - 2s - loss: 3.8927e-05 - val_loss: 4.4427e-04\n",
      "Epoch 45/50\n",
      "118/118 - 2s - loss: 4.8211e-05 - val_loss: 5.6257e-04\n",
      "Epoch 46/50\n",
      "118/118 - 2s - loss: 4.1292e-05 - val_loss: 5.1677e-04\n",
      "Epoch 47/50\n",
      "118/118 - 2s - loss: 3.9724e-05 - val_loss: 4.3040e-04\n",
      "Epoch 48/50\n",
      "118/118 - 3s - loss: 4.1414e-05 - val_loss: 5.1812e-04\n",
      "Epoch 49/50\n",
      "118/118 - 2s - loss: 4.1889e-05 - val_loss: 4.1690e-04\n",
      "Epoch 50/50\n",
      "118/118 - 3s - loss: 3.9253e-05 - val_loss: 4.4766e-04\n"
     ]
    },
    {
     "data": {
      "text/plain": [
       "<tensorflow.python.keras.callbacks.History at 0x7f66ec498490>"
      ]
     },
     "execution_count": 47,
     "metadata": {},
     "output_type": "execute_result"
    }
   ],
   "source": [
    "model.fit(xtrain,ytrain,validation_data=(xtest,ytest),epochs=50,batch_size=32,verbose=2)\n"
   ]
  },
  {
   "cell_type": "code",
   "execution_count": 48,
   "metadata": {
    "execution": {
     "iopub.execute_input": "2020-10-16T10:20:44.237025Z",
     "iopub.status.busy": "2020-10-16T10:20:44.236145Z",
     "iopub.status.idle": "2020-10-16T10:20:44.585960Z",
     "shell.execute_reply": "2020-10-16T10:20:44.586442Z"
    },
    "papermill": {
     "duration": 0.47934,
     "end_time": "2020-10-16T10:20:44.586637",
     "exception": false,
     "start_time": "2020-10-16T10:20:44.107297",
     "status": "completed"
    },
    "tags": []
   },
   "outputs": [],
   "source": [
    "y_pred=model.predict(xtest)"
   ]
  },
  {
   "cell_type": "code",
   "execution_count": 49,
   "metadata": {
    "execution": {
     "iopub.execute_input": "2020-10-16T10:20:44.826259Z",
     "iopub.status.busy": "2020-10-16T10:20:44.825201Z",
     "iopub.status.idle": "2020-10-16T10:20:44.830804Z",
     "shell.execute_reply": "2020-10-16T10:20:44.831357Z"
    },
    "papermill": {
     "duration": 0.128008,
     "end_time": "2020-10-16T10:20:44.831484",
     "exception": false,
     "start_time": "2020-10-16T10:20:44.703476",
     "status": "completed"
    },
    "tags": []
   },
   "outputs": [
    {
     "data": {
      "text/plain": [
       "array([[0.6535414 ],\n",
       "       [0.65416807],\n",
       "       [0.6556008 ],\n",
       "       [0.66351324],\n",
       "       [0.6676962 ]], dtype=float32)"
      ]
     },
     "execution_count": 49,
     "metadata": {},
     "output_type": "execute_result"
    }
   ],
   "source": [
    "y_pred[:5]"
   ]
  },
  {
   "cell_type": "code",
   "execution_count": 50,
   "metadata": {
    "execution": {
     "iopub.execute_input": "2020-10-16T10:20:45.085456Z",
     "iopub.status.busy": "2020-10-16T10:20:45.084493Z",
     "iopub.status.idle": "2020-10-16T10:20:45.086451Z",
     "shell.execute_reply": "2020-10-16T10:20:45.086955Z"
    },
    "papermill": {
     "duration": 0.132121,
     "end_time": "2020-10-16T10:20:45.087082",
     "exception": false,
     "start_time": "2020-10-16T10:20:44.954961",
     "status": "completed"
    },
    "tags": []
   },
   "outputs": [],
   "source": [
    "from numpy import concatenate"
   ]
  },
  {
   "cell_type": "code",
   "execution_count": 51,
   "metadata": {
    "execution": {
     "iopub.execute_input": "2020-10-16T10:20:45.332793Z",
     "iopub.status.busy": "2020-10-16T10:20:45.332040Z",
     "iopub.status.idle": "2020-10-16T10:20:45.336472Z",
     "shell.execute_reply": "2020-10-16T10:20:45.335963Z"
    },
    "papermill": {
     "duration": 0.126888,
     "end_time": "2020-10-16T10:20:45.336596",
     "exception": false,
     "start_time": "2020-10-16T10:20:45.209708",
     "status": "completed"
    },
    "tags": []
   },
   "outputs": [],
   "source": [
    "y_pred=concatenate((y_pred,xtes[:, 1:]), axis=1)"
   ]
  },
  {
   "cell_type": "code",
   "execution_count": 52,
   "metadata": {
    "execution": {
     "iopub.execute_input": "2020-10-16T10:20:45.586211Z",
     "iopub.status.busy": "2020-10-16T10:20:45.585465Z",
     "iopub.status.idle": "2020-10-16T10:20:45.588710Z",
     "shell.execute_reply": "2020-10-16T10:20:45.589197Z"
    },
    "papermill": {
     "duration": 0.128502,
     "end_time": "2020-10-16T10:20:45.589317",
     "exception": false,
     "start_time": "2020-10-16T10:20:45.460815",
     "status": "completed"
    },
    "tags": []
   },
   "outputs": [
    {
     "data": {
      "text/plain": [
       "array([[6.56935240e-01, 6.49587260e-01, 6.52912946e-01, 6.56424774e-01,\n",
       "        3.26888804e-04],\n",
       "       [6.56206203e-01, 6.51777911e-01, 6.53332220e-01, 6.57023666e-01,\n",
       "        5.28051146e-04],\n",
       "       [6.58966609e-01, 6.52777653e-01, 6.54158929e-01, 6.58068655e-01,\n",
       "        3.77179390e-04],\n",
       "       [6.70297783e-01, 6.56121374e-01, 6.65065884e-01, 6.63256185e-01,\n",
       "        5.72055408e-04],\n",
       "       [6.68985030e-01, 6.66322915e-01, 6.66440920e-01, 6.70390003e-01,\n",
       "        6.22345993e-04]])"
      ]
     },
     "execution_count": 52,
     "metadata": {},
     "output_type": "execute_result"
    }
   ],
   "source": [
    "xtes[:5]"
   ]
  },
  {
   "cell_type": "code",
   "execution_count": 53,
   "metadata": {
    "execution": {
     "iopub.execute_input": "2020-10-16T10:20:45.841876Z",
     "iopub.status.busy": "2020-10-16T10:20:45.840682Z",
     "iopub.status.idle": "2020-10-16T10:20:45.846957Z",
     "shell.execute_reply": "2020-10-16T10:20:45.846116Z"
    },
    "papermill": {
     "duration": 0.131263,
     "end_time": "2020-10-16T10:20:45.847161",
     "exception": false,
     "start_time": "2020-10-16T10:20:45.715898",
     "status": "completed"
    },
    "tags": []
   },
   "outputs": [
    {
     "data": {
      "text/plain": [
       "array([[6.53541386e-01, 6.49587260e-01, 6.52912946e-01, 6.56424774e-01,\n",
       "        3.26888804e-04],\n",
       "       [6.54168069e-01, 6.51777911e-01, 6.53332220e-01, 6.57023666e-01,\n",
       "        5.28051146e-04],\n",
       "       [6.55600786e-01, 6.52777653e-01, 6.54158929e-01, 6.58068655e-01,\n",
       "        3.77179390e-04],\n",
       "       [6.63513243e-01, 6.56121374e-01, 6.65065884e-01, 6.63256185e-01,\n",
       "        5.72055408e-04],\n",
       "       [6.67696178e-01, 6.66322915e-01, 6.66440920e-01, 6.70390003e-01,\n",
       "        6.22345993e-04]])"
      ]
     },
     "execution_count": 53,
     "metadata": {},
     "output_type": "execute_result"
    }
   ],
   "source": [
    "y_pred[:5]"
   ]
  },
  {
   "cell_type": "code",
   "execution_count": 54,
   "metadata": {
    "execution": {
     "iopub.execute_input": "2020-10-16T10:20:46.318327Z",
     "iopub.status.busy": "2020-10-16T10:20:46.317413Z",
     "iopub.status.idle": "2020-10-16T10:20:46.321684Z",
     "shell.execute_reply": "2020-10-16T10:20:46.322346Z"
    },
    "papermill": {
     "duration": 0.315833,
     "end_time": "2020-10-16T10:20:46.322558",
     "exception": false,
     "start_time": "2020-10-16T10:20:46.006725",
     "status": "completed"
    },
    "tags": []
   },
   "outputs": [],
   "source": [
    "y_pred = scale.inverse_transform(y_pred)"
   ]
  },
  {
   "cell_type": "code",
   "execution_count": 55,
   "metadata": {
    "execution": {
     "iopub.execute_input": "2020-10-16T10:20:46.732134Z",
     "iopub.status.busy": "2020-10-16T10:20:46.731122Z",
     "iopub.status.idle": "2020-10-16T10:20:46.739080Z",
     "shell.execute_reply": "2020-10-16T10:20:46.739911Z"
    },
    "papermill": {
     "duration": 0.216533,
     "end_time": "2020-10-16T10:20:46.740120",
     "exception": false,
     "start_time": "2020-10-16T10:20:46.523587",
     "status": "completed"
    },
    "tags": []
   },
   "outputs": [
    {
     "data": {
      "text/plain": [
       "array([[28318.61325856, 28372.25      , 28532.25      , 28363.099609  ,\n",
       "        10400.        ],\n",
       "       [28343.27481608, 28459.089844  , 28548.849609  , 28386.609375  ,\n",
       "        16800.        ],\n",
       "       [28399.65581837, 28498.720703  , 28581.580078  , 28427.630859  ,\n",
       "        12000.        ],\n",
       "       [28711.03085158, 28631.269531  , 29013.400391  , 28631.269531  ,\n",
       "        18200.        ],\n",
       "       [28875.63982853, 29035.669922  , 29067.839844  , 28911.310547  ,\n",
       "        19800.        ]])"
      ]
     },
     "execution_count": 55,
     "metadata": {},
     "output_type": "execute_result"
    }
   ],
   "source": [
    "ypred= y_pred[:,0]\n",
    "y_pred[:5]"
   ]
  },
  {
   "cell_type": "code",
   "execution_count": 56,
   "metadata": {
    "execution": {
     "iopub.execute_input": "2020-10-16T10:20:47.052922Z",
     "iopub.status.busy": "2020-10-16T10:20:47.051014Z",
     "iopub.status.idle": "2020-10-16T10:20:47.053589Z",
     "shell.execute_reply": "2020-10-16T10:20:47.054056Z"
    },
    "papermill": {
     "duration": 0.154755,
     "end_time": "2020-10-16T10:20:47.054174",
     "exception": false,
     "start_time": "2020-10-16T10:20:46.899419",
     "status": "completed"
    },
    "tags": []
   },
   "outputs": [],
   "source": [
    "ytest = ytest.reshape((len(ytest), 1))"
   ]
  },
  {
   "cell_type": "code",
   "execution_count": 57,
   "metadata": {
    "execution": {
     "iopub.execute_input": "2020-10-16T10:20:47.334303Z",
     "iopub.status.busy": "2020-10-16T10:20:47.332966Z",
     "iopub.status.idle": "2020-10-16T10:20:47.337200Z",
     "shell.execute_reply": "2020-10-16T10:20:47.337803Z"
    },
    "papermill": {
     "duration": 0.156254,
     "end_time": "2020-10-16T10:20:47.337941",
     "exception": false,
     "start_time": "2020-10-16T10:20:47.181687",
     "status": "completed"
    },
    "tags": []
   },
   "outputs": [
    {
     "data": {
      "text/plain": [
       "array([[0.6562062 ],\n",
       "       [0.65896661],\n",
       "       [0.67029778],\n",
       "       [0.66898503],\n",
       "       [0.67200694]])"
      ]
     },
     "execution_count": 57,
     "metadata": {},
     "output_type": "execute_result"
    }
   ],
   "source": [
    "ytest[:5]"
   ]
  },
  {
   "cell_type": "code",
   "execution_count": 58,
   "metadata": {
    "execution": {
     "iopub.execute_input": "2020-10-16T10:20:47.616720Z",
     "iopub.status.busy": "2020-10-16T10:20:47.615898Z",
     "iopub.status.idle": "2020-10-16T10:20:47.618429Z",
     "shell.execute_reply": "2020-10-16T10:20:47.618957Z"
    },
    "papermill": {
     "duration": 0.144756,
     "end_time": "2020-10-16T10:20:47.619094",
     "exception": false,
     "start_time": "2020-10-16T10:20:47.474338",
     "status": "completed"
    },
    "tags": []
   },
   "outputs": [],
   "source": [
    "ytest= concatenate((ytest,xtes[:, 1:]), axis=1)"
   ]
  },
  {
   "cell_type": "code",
   "execution_count": 59,
   "metadata": {
    "execution": {
     "iopub.execute_input": "2020-10-16T10:20:47.906102Z",
     "iopub.status.busy": "2020-10-16T10:20:47.905192Z",
     "iopub.status.idle": "2020-10-16T10:20:47.908656Z",
     "shell.execute_reply": "2020-10-16T10:20:47.909396Z"
    },
    "papermill": {
     "duration": 0.151364,
     "end_time": "2020-10-16T10:20:47.909572",
     "exception": false,
     "start_time": "2020-10-16T10:20:47.758208",
     "status": "completed"
    },
    "tags": []
   },
   "outputs": [],
   "source": [
    "y_test = scale.inverse_transform(ytest)"
   ]
  },
  {
   "cell_type": "code",
   "execution_count": 60,
   "metadata": {
    "execution": {
     "iopub.execute_input": "2020-10-16T10:20:48.181643Z",
     "iopub.status.busy": "2020-10-16T10:20:48.180646Z",
     "iopub.status.idle": "2020-10-16T10:20:48.184453Z",
     "shell.execute_reply": "2020-10-16T10:20:48.185191Z"
    },
    "papermill": {
     "duration": 0.136225,
     "end_time": "2020-10-16T10:20:48.185352",
     "exception": false,
     "start_time": "2020-10-16T10:20:48.049127",
     "status": "completed"
    },
    "tags": []
   },
   "outputs": [
    {
     "data": {
      "text/plain": [
       "array([28423.480469, 28532.109375, 28978.019531, 28926.359375,\n",
       "       29045.279297])"
      ]
     },
     "execution_count": 60,
     "metadata": {},
     "output_type": "execute_result"
    }
   ],
   "source": [
    "y_test=y_test[:,0]\n",
    "y_test[:5]"
   ]
  },
  {
   "cell_type": "code",
   "execution_count": 61,
   "metadata": {
    "execution": {
     "iopub.execute_input": "2020-10-16T10:20:48.487807Z",
     "iopub.status.busy": "2020-10-16T10:20:48.487021Z",
     "iopub.status.idle": "2020-10-16T10:20:48.527827Z",
     "shell.execute_reply": "2020-10-16T10:20:48.528394Z"
    },
    "papermill": {
     "duration": 0.19216,
     "end_time": "2020-10-16T10:20:48.528557",
     "exception": false,
     "start_time": "2020-10-16T10:20:48.336397",
     "status": "completed"
    },
    "tags": []
   },
   "outputs": [
    {
     "data": {
      "text/plain": [
       "832.6181775253636"
      ]
     },
     "execution_count": 61,
     "metadata": {},
     "output_type": "execute_result"
    }
   ],
   "source": [
    "from sklearn.metrics import mean_squared_error\n",
    "np.sqrt(mean_squared_error(y_test,ypred))"
   ]
  },
  {
   "cell_type": "code",
   "execution_count": 62,
   "metadata": {
    "execution": {
     "iopub.execute_input": "2020-10-16T10:20:48.809599Z",
     "iopub.status.busy": "2020-10-16T10:20:48.807570Z",
     "iopub.status.idle": "2020-10-16T10:20:48.813102Z",
     "shell.execute_reply": "2020-10-16T10:20:48.813662Z"
    },
    "papermill": {
     "duration": 0.14399,
     "end_time": "2020-10-16T10:20:48.813813",
     "exception": false,
     "start_time": "2020-10-16T10:20:48.669823",
     "status": "completed"
    },
    "tags": []
   },
   "outputs": [
    {
     "data": {
      "text/plain": [
       "array([28634.5     , 28523.199219, 28507.419922, 28773.130859,\n",
       "       28668.220703, 28294.279297, 28223.699219, 28292.810547,\n",
       "       27827.529297, 27865.960938])"
      ]
     },
     "execution_count": 62,
     "metadata": {},
     "output_type": "execute_result"
    }
   ],
   "source": [
    "y_test[10:20]"
   ]
  },
  {
   "cell_type": "code",
   "execution_count": 63,
   "metadata": {
    "execution": {
     "iopub.execute_input": "2020-10-16T10:20:49.105081Z",
     "iopub.status.busy": "2020-10-16T10:20:49.104123Z",
     "iopub.status.idle": "2020-10-16T10:20:49.107864Z",
     "shell.execute_reply": "2020-10-16T10:20:49.108429Z"
    },
    "papermill": {
     "duration": 0.154468,
     "end_time": "2020-10-16T10:20:49.108588",
     "exception": false,
     "start_time": "2020-10-16T10:20:48.954120",
     "status": "completed"
    },
    "tags": []
   },
   "outputs": [
    {
     "data": {
      "text/plain": [
       "array([28487.57565483, 28521.34749287, 28485.31450384, 28441.15169188,\n",
       "       28665.30822073, 28621.24861483, 28344.84167174, 28189.0099012 ,\n",
       "       28156.1716089 , 27999.10136563])"
      ]
     },
     "execution_count": 63,
     "metadata": {},
     "output_type": "execute_result"
    }
   ],
   "source": [
    "ypred[10:20]"
   ]
  },
  {
   "cell_type": "code",
   "execution_count": 64,
   "metadata": {
    "execution": {
     "iopub.execute_input": "2020-10-16T10:20:49.389058Z",
     "iopub.status.busy": "2020-10-16T10:20:49.388255Z",
     "iopub.status.idle": "2020-10-16T10:20:49.957897Z",
     "shell.execute_reply": "2020-10-16T10:20:49.956980Z"
    },
    "papermill": {
     "duration": 0.706299,
     "end_time": "2020-10-16T10:20:49.958019",
     "exception": false,
     "start_time": "2020-10-16T10:20:49.251720",
     "status": "completed"
    },
    "tags": []
   },
   "outputs": [],
   "source": [
    "import re\n",
    "from nltk.tokenize import TweetTokenizer\n",
    "from nltk.stem import WordNetLemmatizer\n",
    "from nltk.corpus import stopwords\n",
    "from nltk.stem import PorterStemmer\n",
    "from tensorflow.keras.preprocessing.text import one_hot\n",
    "from tensorflow.keras.layers import Embedding\n",
    "from tensorflow.keras.preprocessing.sequence import pad_sequences"
   ]
  },
  {
   "cell_type": "code",
   "execution_count": 65,
   "metadata": {
    "execution": {
     "iopub.execute_input": "2020-10-16T10:20:50.228367Z",
     "iopub.status.busy": "2020-10-16T10:20:50.227572Z",
     "iopub.status.idle": "2020-10-16T10:20:50.231468Z",
     "shell.execute_reply": "2020-10-16T10:20:50.230980Z"
    },
    "papermill": {
     "duration": 0.143442,
     "end_time": "2020-10-16T10:20:50.231587",
     "exception": false,
     "start_time": "2020-10-16T10:20:50.088145",
     "status": "completed"
    },
    "tags": []
   },
   "outputs": [
    {
     "data": {
      "text/plain": [
       "Headline    False\n",
       "Close       False\n",
       "dtype: bool"
      ]
     },
     "execution_count": 65,
     "metadata": {},
     "output_type": "execute_result"
    }
   ],
   "source": [
    "news.isnull().any()"
   ]
  },
  {
   "cell_type": "code",
   "execution_count": 66,
   "metadata": {
    "execution": {
     "iopub.execute_input": "2020-10-16T10:20:50.489763Z",
     "iopub.status.busy": "2020-10-16T10:20:50.488769Z",
     "iopub.status.idle": "2020-10-16T10:20:50.491703Z",
     "shell.execute_reply": "2020-10-16T10:20:50.492333Z"
    },
    "papermill": {
     "duration": 0.137412,
     "end_time": "2020-10-16T10:20:50.492546",
     "exception": false,
     "start_time": "2020-10-16T10:20:50.355134",
     "status": "completed"
    },
    "tags": []
   },
   "outputs": [],
   "source": [
    "tweettoken = TweetTokenizer(strip_handles=True, reduce_len=True)"
   ]
  },
  {
   "cell_type": "code",
   "execution_count": 67,
   "metadata": {
    "execution": {
     "iopub.execute_input": "2020-10-16T10:20:50.891268Z",
     "iopub.status.busy": "2020-10-16T10:20:50.889741Z",
     "iopub.status.idle": "2020-10-16T10:20:50.892954Z",
     "shell.execute_reply": "2020-10-16T10:20:50.894210Z"
    },
    "papermill": {
     "duration": 0.213782,
     "end_time": "2020-10-16T10:20:50.894414",
     "exception": false,
     "start_time": "2020-10-16T10:20:50.680632",
     "status": "completed"
    },
    "tags": []
   },
   "outputs": [],
   "source": [
    "lemmatizer=WordNetLemmatizer()"
   ]
  },
  {
   "cell_type": "code",
   "execution_count": 68,
   "metadata": {
    "execution": {
     "iopub.execute_input": "2020-10-16T10:20:51.276610Z",
     "iopub.status.busy": "2020-10-16T10:20:51.275745Z",
     "iopub.status.idle": "2020-10-16T10:20:51.277977Z",
     "shell.execute_reply": "2020-10-16T10:20:51.277318Z"
    },
    "papermill": {
     "duration": 0.191872,
     "end_time": "2020-10-16T10:20:51.278121",
     "exception": false,
     "start_time": "2020-10-16T10:20:51.086249",
     "status": "completed"
    },
    "tags": []
   },
   "outputs": [],
   "source": [
    "stemmer=PorterStemmer()"
   ]
  },
  {
   "cell_type": "code",
   "execution_count": 69,
   "metadata": {
    "execution": {
     "iopub.execute_input": "2020-10-16T10:20:51.537674Z",
     "iopub.status.busy": "2020-10-16T10:20:51.536715Z",
     "iopub.status.idle": "2020-10-16T10:20:51.539161Z",
     "shell.execute_reply": "2020-10-16T10:20:51.539652Z"
    },
    "papermill": {
     "duration": 0.13476,
     "end_time": "2020-10-16T10:20:51.539778",
     "exception": false,
     "start_time": "2020-10-16T10:20:51.405018",
     "status": "completed"
    },
    "tags": []
   },
   "outputs": [],
   "source": [
    "collect=[]\n",
    "def preprocess(t,kpc):\n",
    "    tee=re.sub('[^a-zA-Z]',\" \",t)\n",
    "    tee=tee.lower()\n",
    "    res=tweettoken.tokenize(tee)\n",
    "    for i in res:\n",
    "        if i in stopwords.words('english'):\n",
    "            res.remove(i)\n",
    "    rest=[]\n",
    "    for k in res:\n",
    "        rest.append(lemmatizer.lemmatize(k))\n",
    "    ret=\" \".join(rest)\n",
    "    if kpc==1:\n",
    "        collect.append(ret)\n",
    "    elif kpc==0:\n",
    "        collecttest.append(ret)\n"
   ]
  },
  {
   "cell_type": "code",
   "execution_count": 70,
   "metadata": {
    "execution": {
     "iopub.execute_input": "2020-10-16T10:20:51.793372Z",
     "iopub.status.busy": "2020-10-16T10:20:51.792477Z",
     "iopub.status.idle": "2020-10-16T10:20:51.795552Z",
     "shell.execute_reply": "2020-10-16T10:20:51.794999Z"
    },
    "papermill": {
     "duration": 0.132338,
     "end_time": "2020-10-16T10:20:51.795659",
     "exception": false,
     "start_time": "2020-10-16T10:20:51.663321",
     "status": "completed"
    },
    "tags": []
   },
   "outputs": [],
   "source": [
    "def splitpro(t,q,m):\n",
    "         for j in range(q):\n",
    "                 preprocess(t[\"Headline\"].iloc[j],m)"
   ]
  },
  {
   "cell_type": "code",
   "execution_count": 71,
   "metadata": {
    "execution": {
     "iopub.execute_input": "2020-10-16T10:20:52.064147Z",
     "iopub.status.busy": "2020-10-16T10:20:52.063222Z",
     "iopub.status.idle": "2020-10-16T10:20:52.066746Z",
     "shell.execute_reply": "2020-10-16T10:20:52.067326Z"
    },
    "papermill": {
     "duration": 0.14289,
     "end_time": "2020-10-16T10:20:52.067448",
     "exception": false,
     "start_time": "2020-10-16T10:20:51.924558",
     "status": "completed"
    },
    "tags": []
   },
   "outputs": [
    {
     "data": {
      "text/plain": [
       "4699"
      ]
     },
     "execution_count": 71,
     "metadata": {},
     "output_type": "execute_result"
    }
   ],
   "source": [
    "len(news)"
   ]
  },
  {
   "cell_type": "code",
   "execution_count": 72,
   "metadata": {
    "execution": {
     "iopub.execute_input": "2020-10-16T10:20:52.328249Z",
     "iopub.status.busy": "2020-10-16T10:20:52.327461Z",
     "iopub.status.idle": "2020-10-16T10:22:11.540282Z",
     "shell.execute_reply": "2020-10-16T10:22:11.539051Z"
    },
    "papermill": {
     "duration": 79.343977,
     "end_time": "2020-10-16T10:22:11.540414",
     "exception": false,
     "start_time": "2020-10-16T10:20:52.196437",
     "status": "completed"
    },
    "tags": []
   },
   "outputs": [],
   "source": [
    "splitpro(news,4699,1)"
   ]
  },
  {
   "cell_type": "code",
   "execution_count": 73,
   "metadata": {
    "execution": {
     "iopub.execute_input": "2020-10-16T10:22:11.793377Z",
     "iopub.status.busy": "2020-10-16T10:22:11.792771Z",
     "iopub.status.idle": "2020-10-16T10:22:11.799174Z",
     "shell.execute_reply": "2020-10-16T10:22:11.798636Z"
    },
    "papermill": {
     "duration": 0.134469,
     "end_time": "2020-10-16T10:22:11.799270",
     "exception": false,
     "start_time": "2020-10-16T10:22:11.664801",
     "status": "completed"
    },
    "tags": []
   },
   "outputs": [
    {
     "data": {
      "text/plain": [
       "['bharti cellular reduces airtime tariff magic ongc nod increasing production major fieldsrupee end barely changed dollaressar slash airtime tariff cash card',\n",
       " 'dupont expansion drive indiaessel sell lakh zee share u investormore bad news growth frontcontrols sugar industry go soon shantashourie denies favouring tatas air india biduti package likely today maharaja fly chennai hk directinvestor protection fund likely next weekhc issue contempt notice netware infosysbiocon transcorp technology battlegovt may amend act allow rbi lower slrinvestors urge centre intervene u scheme',\n",
       " 'r cr citigroup funding dakshfiis net buyer equity r croreuti offer limited exit announce nav janspice talk cellphone major mergernri industrialist optimistic indo pak summitindian language bridge digital gulfsmall uti investor heave sigh reliefentreprenuer vanguard growthgdp projected grow cmierbi governor say economy good shapeinflation rise active govt role needed tackle fakestextile policy envisages export target bfis seek r crore guarantee modisdpc lng carrier deployed spot marketmaruti invest r crorefiis stake mrl may purnendu chatterjee holdinglower manufacturing call vat internal competitiongovt amending t law tax e commerce firmssomebody errs others pay priceniit cut back spendingbanks need fund become technologically competentmp based company record growth cmie reportit company q be the turning point tisco seek acquisition opportunity in select fieldsdod may consider liberalising term ia selloffmarket cool agra talksntpc to buy enron equity centrej j irani stress achieving targetsgovt to get r cr th cellular slot',\n",
       " 'telco among top losersrupee gain u s losing game investorsblock deal limelight listless marketsc allows balco plea discriminationstrategic sale holding least priority uti chief',\n",
       " 'relief investor unit sooncoca cola close plant mumbai punesatellite based system airport soonpsu bank chief meet uti chief u assistancetyco make b lore plant global sourcing basehll eye organic tea segmentno increase bonus policy holder lichc stop govt finalising cellular bidssaga it aided designstates may fix margin pd shop govtinsurance claim be settled dayscar war global model indian pricesmoet hennessy market cognac champagne indiamf industry grew in auto car two wheeler sale in june']"
      ]
     },
     "execution_count": 73,
     "metadata": {},
     "output_type": "execute_result"
    }
   ],
   "source": [
    "collect[:5]"
   ]
  },
  {
   "cell_type": "code",
   "execution_count": 74,
   "metadata": {
    "execution": {
     "iopub.execute_input": "2020-10-16T10:22:12.066676Z",
     "iopub.status.busy": "2020-10-16T10:22:12.065626Z",
     "iopub.status.idle": "2020-10-16T10:22:12.071018Z",
     "shell.execute_reply": "2020-10-16T10:22:12.070317Z"
    },
    "papermill": {
     "duration": 0.144495,
     "end_time": "2020-10-16T10:22:12.071133",
     "exception": false,
     "start_time": "2020-10-16T10:22:11.926638",
     "status": "completed"
    },
    "tags": []
   },
   "outputs": [
    {
     "data": {
      "text/html": [
       "<div>\n",
       "<style scoped>\n",
       "    .dataframe tbody tr th:only-of-type {\n",
       "        vertical-align: middle;\n",
       "    }\n",
       "\n",
       "    .dataframe tbody tr th {\n",
       "        vertical-align: top;\n",
       "    }\n",
       "\n",
       "    .dataframe thead th {\n",
       "        text-align: right;\n",
       "    }\n",
       "</style>\n",
       "<table border=\"1\" class=\"dataframe\">\n",
       "  <thead>\n",
       "    <tr style=\"text-align: right;\">\n",
       "      <th></th>\n",
       "      <th>Headline</th>\n",
       "      <th>Close</th>\n",
       "    </tr>\n",
       "  </thead>\n",
       "  <tbody>\n",
       "    <tr>\n",
       "      <th>2001-07-12</th>\n",
       "      <td>Bharti Cellular reduces airtime tariff for 'Ma...</td>\n",
       "      <td>3452.750000</td>\n",
       "    </tr>\n",
       "    <tr>\n",
       "      <th>2001-07-13</th>\n",
       "      <td>Dupont on expansion drive in IndiaEssel sells ...</td>\n",
       "      <td>3453.989990</td>\n",
       "    </tr>\n",
       "    <tr>\n",
       "      <th>2001-07-16</th>\n",
       "      <td>Rs 28 cr Citigroup funding for DakshFIIs net b...</td>\n",
       "      <td>3434.830078</td>\n",
       "    </tr>\n",
       "    <tr>\n",
       "      <th>2001-07-17</th>\n",
       "      <td>TELCO among top 10 losersRupee gains against $...</td>\n",
       "      <td>3431.929932</td>\n",
       "    </tr>\n",
       "    <tr>\n",
       "      <th>2001-07-18</th>\n",
       "      <td>Relief for investors with 3;000+ units soonCoc...</td>\n",
       "      <td>3383.409912</td>\n",
       "    </tr>\n",
       "  </tbody>\n",
       "</table>\n",
       "</div>"
      ],
      "text/plain": [
       "                                                     Headline        Close\n",
       "2001-07-12  Bharti Cellular reduces airtime tariff for 'Ma...  3452.750000\n",
       "2001-07-13  Dupont on expansion drive in IndiaEssel sells ...  3453.989990\n",
       "2001-07-16  Rs 28 cr Citigroup funding for DakshFIIs net b...  3434.830078\n",
       "2001-07-17  TELCO among top 10 losersRupee gains against $...  3431.929932\n",
       "2001-07-18  Relief for investors with 3;000+ units soonCoc...  3383.409912"
      ]
     },
     "execution_count": 74,
     "metadata": {},
     "output_type": "execute_result"
    }
   ],
   "source": [
    "news.head()"
   ]
  },
  {
   "cell_type": "code",
   "execution_count": 75,
   "metadata": {
    "execution": {
     "iopub.execute_input": "2020-10-16T10:22:12.352983Z",
     "iopub.status.busy": "2020-10-16T10:22:12.352076Z",
     "iopub.status.idle": "2020-10-16T10:22:12.355187Z",
     "shell.execute_reply": "2020-10-16T10:22:12.354684Z"
    },
    "papermill": {
     "duration": 0.144166,
     "end_time": "2020-10-16T10:22:12.355284",
     "exception": false,
     "start_time": "2020-10-16T10:22:12.211118",
     "status": "completed"
    },
    "tags": []
   },
   "outputs": [],
   "source": [
    "val=news[\"Close\"].values"
   ]
  },
  {
   "cell_type": "code",
   "execution_count": 76,
   "metadata": {
    "execution": {
     "iopub.execute_input": "2020-10-16T10:22:12.609222Z",
     "iopub.status.busy": "2020-10-16T10:22:12.608311Z",
     "iopub.status.idle": "2020-10-16T10:22:12.612309Z",
     "shell.execute_reply": "2020-10-16T10:22:12.611707Z"
    },
    "papermill": {
     "duration": 0.13228,
     "end_time": "2020-10-16T10:22:12.612404",
     "exception": false,
     "start_time": "2020-10-16T10:22:12.480124",
     "status": "completed"
    },
    "tags": []
   },
   "outputs": [
    {
     "data": {
      "text/plain": [
       "array([ 3452.75    ,  3453.98999 ,  3434.830078, ..., 34842.101563,\n",
       "       35171.269531, 34961.519531])"
      ]
     },
     "execution_count": 76,
     "metadata": {},
     "output_type": "execute_result"
    }
   ],
   "source": [
    "val"
   ]
  },
  {
   "cell_type": "code",
   "execution_count": 77,
   "metadata": {
    "execution": {
     "iopub.execute_input": "2020-10-16T10:22:12.887917Z",
     "iopub.status.busy": "2020-10-16T10:22:12.887135Z",
     "iopub.status.idle": "2020-10-16T10:22:14.967052Z",
     "shell.execute_reply": "2020-10-16T10:22:14.966193Z"
    },
    "papermill": {
     "duration": 2.219771,
     "end_time": "2020-10-16T10:22:14.967182",
     "exception": false,
     "start_time": "2020-10-16T10:22:12.747411",
     "status": "completed"
    },
    "tags": []
   },
   "outputs": [],
   "source": [
    "from sklearn.feature_extraction.text import CountVectorizer\n",
    "from sklearn.feature_extraction.text import TfidfVectorizer\n",
    "from sklearn.model_selection import train_test_split\n",
    "from sklearn.feature_extraction.text import CountVectorizer\n",
    "from sklearn.feature_extraction.text import TfidfVectorizer\n",
    "from sklearn.model_selection import train_test_split\n",
    "from sklearn.ensemble import RandomForestClassifier\n",
    "from sklearn.model_selection import cross_val_score\n",
    "from sklearn.metrics import confusion_matrix\n",
    "from sklearn.model_selection import train_test_split\n",
    "import xgboost\n"
   ]
  },
  {
   "cell_type": "code",
   "execution_count": 78,
   "metadata": {
    "execution": {
     "iopub.execute_input": "2020-10-16T10:22:15.248987Z",
     "iopub.status.busy": "2020-10-16T10:22:15.247976Z",
     "iopub.status.idle": "2020-10-16T10:22:15.251408Z",
     "shell.execute_reply": "2020-10-16T10:22:15.250735Z"
    },
    "papermill": {
     "duration": 0.150119,
     "end_time": "2020-10-16T10:22:15.251556",
     "exception": false,
     "start_time": "2020-10-16T10:22:15.101437",
     "status": "completed"
    },
    "tags": []
   },
   "outputs": [],
   "source": [
    "def tfidf(xx):\n",
    "    cv=TfidfVectorizer(max_features=2000)\n",
    "    x=cv.fit_transform(xx).toarray()\n",
    "    return x"
   ]
  },
  {
   "cell_type": "code",
   "execution_count": 79,
   "metadata": {
    "execution": {
     "iopub.execute_input": "2020-10-16T10:22:15.535288Z",
     "iopub.status.busy": "2020-10-16T10:22:15.530041Z",
     "iopub.status.idle": "2020-10-16T10:22:16.471601Z",
     "shell.execute_reply": "2020-10-16T10:22:16.471024Z"
    },
    "papermill": {
     "duration": 1.08035,
     "end_time": "2020-10-16T10:22:16.471711",
     "exception": false,
     "start_time": "2020-10-16T10:22:15.391361",
     "status": "completed"
    },
    "tags": []
   },
   "outputs": [],
   "source": [
    "y=tfidf(collect)"
   ]
  },
  {
   "cell_type": "code",
   "execution_count": 80,
   "metadata": {
    "execution": {
     "iopub.execute_input": "2020-10-16T10:22:16.738777Z",
     "iopub.status.busy": "2020-10-16T10:22:16.737790Z",
     "iopub.status.idle": "2020-10-16T10:22:16.742937Z",
     "shell.execute_reply": "2020-10-16T10:22:16.742210Z"
    },
    "papermill": {
     "duration": 0.142703,
     "end_time": "2020-10-16T10:22:16.743307",
     "exception": false,
     "start_time": "2020-10-16T10:22:16.600604",
     "status": "completed"
    },
    "tags": []
   },
   "outputs": [
    {
     "data": {
      "text/plain": [
       "2000"
      ]
     },
     "execution_count": 80,
     "metadata": {},
     "output_type": "execute_result"
    }
   ],
   "source": [
    "len(y[0][:])"
   ]
  },
  {
   "cell_type": "code",
   "execution_count": 81,
   "metadata": {
    "execution": {
     "iopub.execute_input": "2020-10-16T10:22:17.008856Z",
     "iopub.status.busy": "2020-10-16T10:22:17.007955Z",
     "iopub.status.idle": "2020-10-16T10:22:17.011450Z",
     "shell.execute_reply": "2020-10-16T10:22:17.011992Z"
    },
    "papermill": {
     "duration": 0.138176,
     "end_time": "2020-10-16T10:22:17.012125",
     "exception": false,
     "start_time": "2020-10-16T10:22:16.873949",
     "status": "completed"
    },
    "tags": []
   },
   "outputs": [
    {
     "data": {
      "text/plain": [
       "array([[0., 0., 0., ..., 0., 0., 0.],\n",
       "       [0., 0., 0., ..., 0., 0., 0.]])"
      ]
     },
     "execution_count": 81,
     "metadata": {},
     "output_type": "execute_result"
    }
   ],
   "source": [
    "y[:2]"
   ]
  },
  {
   "cell_type": "code",
   "execution_count": 82,
   "metadata": {
    "execution": {
     "iopub.execute_input": "2020-10-16T10:22:17.317743Z",
     "iopub.status.busy": "2020-10-16T10:22:17.316728Z",
     "iopub.status.idle": "2020-10-16T10:22:17.320673Z",
     "shell.execute_reply": "2020-10-16T10:22:17.321228Z"
    },
    "papermill": {
     "duration": 0.163463,
     "end_time": "2020-10-16T10:22:17.321378",
     "exception": false,
     "start_time": "2020-10-16T10:22:17.157915",
     "status": "completed"
    },
    "tags": []
   },
   "outputs": [
    {
     "data": {
      "text/plain": [
       "array([ 3452.75    ,  3453.98999 ,  3434.830078, ..., 34842.101563,\n",
       "       35171.269531, 34961.519531])"
      ]
     },
     "execution_count": 82,
     "metadata": {},
     "output_type": "execute_result"
    }
   ],
   "source": [
    "val"
   ]
  },
  {
   "cell_type": "code",
   "execution_count": 83,
   "metadata": {
    "execution": {
     "iopub.execute_input": "2020-10-16T10:22:17.606285Z",
     "iopub.status.busy": "2020-10-16T10:22:17.605538Z",
     "iopub.status.idle": "2020-10-16T10:22:17.609419Z",
     "shell.execute_reply": "2020-10-16T10:22:17.608843Z"
    },
    "papermill": {
     "duration": 0.138842,
     "end_time": "2020-10-16T10:22:17.609578",
     "exception": false,
     "start_time": "2020-10-16T10:22:17.470736",
     "status": "completed"
    },
    "tags": []
   },
   "outputs": [],
   "source": [
    "x_traiN,x_tesT,y_traiN,y_tesT=y[:3759],y[3759:],val[:3759],val[3759:]"
   ]
  },
  {
   "cell_type": "code",
   "execution_count": 84,
   "metadata": {
    "execution": {
     "iopub.execute_input": "2020-10-16T10:22:17.883148Z",
     "iopub.status.busy": "2020-10-16T10:22:17.882002Z",
     "iopub.status.idle": "2020-10-16T10:22:21.153879Z",
     "shell.execute_reply": "2020-10-16T10:22:21.154407Z"
    },
    "papermill": {
     "duration": 3.412576,
     "end_time": "2020-10-16T10:22:21.154588",
     "exception": false,
     "start_time": "2020-10-16T10:22:17.742012",
     "status": "completed"
    },
    "tags": []
   },
   "outputs": [
    {
     "data": {
      "text/plain": [
       "LinearRegression()"
      ]
     },
     "execution_count": 84,
     "metadata": {},
     "output_type": "execute_result"
    }
   ],
   "source": [
    "from sklearn.linear_model import LinearRegression\n",
    "\n",
    "lin_reg = LinearRegression()\n",
    "lin_reg.fit(x_traiN, y_traiN)"
   ]
  },
  {
   "cell_type": "code",
   "execution_count": 85,
   "metadata": {
    "execution": {
     "iopub.execute_input": "2020-10-16T10:22:21.620628Z",
     "iopub.status.busy": "2020-10-16T10:22:21.619598Z",
     "iopub.status.idle": "2020-10-16T10:22:21.628458Z",
     "shell.execute_reply": "2020-10-16T10:22:21.629852Z"
    },
    "papermill": {
     "duration": 0.247795,
     "end_time": "2020-10-16T10:22:21.630051",
     "exception": false,
     "start_time": "2020-10-16T10:22:21.382256",
     "status": "completed"
    },
    "tags": []
   },
   "outputs": [
    {
     "data": {
      "text/plain": [
       "-3.710353690694991e+24"
      ]
     },
     "execution_count": 85,
     "metadata": {},
     "output_type": "execute_result"
    }
   ],
   "source": [
    "lin_reg.score(x_tesT,y_tesT)"
   ]
  },
  {
   "cell_type": "code",
   "execution_count": 86,
   "metadata": {
    "execution": {
     "iopub.execute_input": "2020-10-16T10:22:22.403023Z",
     "iopub.status.busy": "2020-10-16T10:22:22.397381Z",
     "iopub.status.idle": "2020-10-16T10:22:22.410841Z",
     "shell.execute_reply": "2020-10-16T10:22:22.411729Z"
    },
    "papermill": {
     "duration": 0.394234,
     "end_time": "2020-10-16T10:22:22.411917",
     "exception": false,
     "start_time": "2020-10-16T10:22:22.017683",
     "status": "completed"
    },
    "tags": []
   },
   "outputs": [],
   "source": [
    "y_preD=lin_reg.predict(x_tesT)"
   ]
  },
  {
   "cell_type": "code",
   "execution_count": 87,
   "metadata": {
    "execution": {
     "iopub.execute_input": "2020-10-16T10:22:22.772553Z",
     "iopub.status.busy": "2020-10-16T10:22:22.758610Z",
     "iopub.status.idle": "2020-10-16T10:22:22.777414Z",
     "shell.execute_reply": "2020-10-16T10:22:22.777912Z"
    },
    "papermill": {
     "duration": 0.15699,
     "end_time": "2020-10-16T10:22:22.778064",
     "exception": false,
     "start_time": "2020-10-16T10:22:22.621074",
     "status": "completed"
    },
    "tags": []
   },
   "outputs": [
    {
     "data": {
      "text/plain": [
       "array([28452.169922, 28423.480469, 28532.109375, 28978.019531,\n",
       "       28926.359375, 29045.279297, 28797.25    , 28353.539063,\n",
       "       28372.230469, 28412.890625, 28599.029297, 28634.5     ,\n",
       "       28523.199219, 28507.419922, 28773.130859, 28668.220703,\n",
       "       28294.279297, 28223.699219, 28292.810547, 27827.529297,\n",
       "       27865.960938, 28243.289063, 28334.550781, 28220.980469,\n",
       "       28106.210938, 28061.140625, 28082.339844, 27643.109375,\n",
       "       27673.599609, 27529.970703, 28050.880859, 27984.369141,\n",
       "       28129.839844, 28077.179688, 28179.080078, 28091.419922,\n",
       "       27836.509766, 27915.900391, 27941.509766, 27876.609375,\n",
       "       27527.220703, 27430.279297, 27274.150391, 27458.990234,\n",
       "       27591.140625, 27252.529297, 27517.679688, 26818.820313,\n",
       "       26304.630859, 26298.689453, 26227.619141, 26150.240234,\n",
       "       25765.140625, 25960.779297, 26051.810547, 25860.169922,\n",
       "       26316.339844, 26350.169922, 26394.009766, 26652.810547,\n",
       "       26559.919922, 26230.660156, 26349.099609, 26392.759766,\n",
       "       26236.869141, 26694.279297, 26747.179688, 26515.240234,\n",
       "       26697.820313, 26602.839844, 26519.070313, 26489.560547,\n",
       "       26374.699219, 26307.980469, 26242.380859, 25979.599609,\n",
       "       26040.699219, 25807.099609, 26213.439453, 26210.679688,\n",
       "       26366.150391, 26626.460938, 26595.449219, 26643.240234,\n",
       "       26633.130859, 26878.240234, 26759.230469, 26726.550781,\n",
       "       26899.560547, 27140.410156, 27247.160156, 27238.060547,\n",
       "       27288.169922, 27235.660156, 27257.640625, 27308.599609,\n",
       "       27034.5     , 27117.339844, 27375.580078, 27708.140625,\n",
       "       27882.460938, 27849.560547, 27655.960938, 28141.640625,\n",
       "       28226.609375, 28240.519531, 28439.279297, 28335.160156,\n",
       "       28289.919922, 28329.699219, 28334.25    , 28351.619141,\n",
       "       28339.310547, 28155.560547, 28301.269531, 28468.75    ,\n",
       "       28661.580078, 28761.589844, 28864.710938, 28892.970703,\n",
       "       28812.880859, 28743.320313, 28984.490234, 28839.789063,\n",
       "       28832.449219, 29048.189453, 28999.560547, 28901.939453,\n",
       "       28929.130859, 28946.230469, 29442.630859, 29398.109375,\n",
       "       29585.849609, 29648.990234, 29518.740234, 29485.449219,\n",
       "       29167.679688, 29332.160156, 29421.400391, 29237.150391,\n",
       "       29409.519531, 29531.429688, 29647.419922, 29620.5     ,\n",
       "       29910.220703, 29974.240234, 29927.339844, 29706.609375,\n",
       "       29575.740234, 29788.349609, 29643.480469, 29461.449219,\n",
       "       29413.660156, 29319.099609, 29336.570313, 29422.390625,\n",
       "       29365.300781, 29655.839844, 29943.240234, 30133.349609,\n",
       "       30029.740234, 29918.400391, 29921.179688, 29894.800781,\n",
       "       30126.210938, 29858.800781, 29926.150391, 29933.25    ,\n",
       "       30248.169922, 30250.980469, 30188.150391, 30322.119141,\n",
       "       30582.599609, 30658.769531, 30434.789063, 30464.919922,\n",
       "       30570.970703, 30365.25    , 30301.640625, 30750.029297,\n",
       "       31028.210938, 31109.279297, 31159.400391, 31145.800781,\n",
       "       31137.589844, 31273.289063, 31309.490234, 31190.560547,\n",
       "       31271.279297, 31213.359375, 31262.060547, 31095.699219,\n",
       "       31103.490234, 31155.910156, 31075.730469, 31056.400391,\n",
       "       31311.570313, 31297.529297, 31283.640625, 31290.740234,\n",
       "       31138.210938, 30958.25    , 30834.320313, 30857.519531,\n",
       "       30921.609375, 31221.619141, 31209.789063, 31245.560547,\n",
       "       31369.339844, 31360.630859, 31715.640625, 31747.089844,\n",
       "       31804.820313, 32037.380859, 32020.75    , 32074.779297,\n",
       "       31710.990234, 31955.349609, 31904.400391, 32028.890625,\n",
       "       32245.869141, 32228.269531, 32382.460938, 32383.300781,\n",
       "       32309.880859, 32514.939453, 32575.169922, 32476.740234,\n",
       "       32237.880859, 32325.410156, 32273.669922, 32014.189453,\n",
       "       31797.839844, 31531.330078, 31213.589844, 31449.029297,\n",
       "       31770.890625, 31795.460938, 31524.679688, 31258.849609,\n",
       "       31291.849609, 31568.009766, 31596.060547, 31750.820313,\n",
       "       31388.390625, 31646.460938, 31730.490234, 31892.230469,\n",
       "       31702.25    , 31809.550781, 31661.970703, 31662.740234,\n",
       "       31687.519531, 31882.160156, 32158.660156, 32186.410156,\n",
       "       32241.929688, 32272.609375, 32423.759766, 32402.369141,\n",
       "       32400.509766, 32370.039063, 31922.439453, 31626.630859,\n",
       "       31599.759766, 31159.810547, 31282.480469, 31283.720703,\n",
       "       31497.380859, 31671.710938, 31592.029297, 31814.220703,\n",
       "       31846.890625, 31924.410156, 31833.990234, 32182.220703,\n",
       "       32432.689453, 32633.640625, 32609.160156, 32584.349609,\n",
       "       32389.960938, 32506.720703, 32607.339844, 33042.5     ,\n",
       "       33147.128906, 33157.21875 , 33266.160156, 33213.128906,\n",
       "       33600.269531, 33573.21875 , 33685.558594, 33731.191406,\n",
       "       33370.761719, 33218.808594, 33250.929688, 33314.558594,\n",
       "       33033.558594, 32941.871094, 32760.439453, 33106.820313,\n",
       "       33342.800781, 33359.898438, 33478.351563, 33561.550781,\n",
       "       33588.078125, 33679.238281, 33724.441406, 33618.589844,\n",
       "       33602.761719, 33149.351563, 32832.941406, 32869.71875 ,\n",
       "       32802.441406, 32597.179688, 32949.210938, 33250.300781,\n",
       "       33455.789063, 33227.988281, 33053.039063, 33246.699219,\n",
       "       33462.96875 , 33601.679688, 33836.738281, 33777.378906,\n",
       "       33756.28125 , 33940.300781, 34010.609375, 33911.808594,\n",
       "       33848.03125 , 34056.828125, 33812.75    , 33812.261719,\n",
       "       33793.378906, 33969.640625, 34153.851563, 34352.789063,\n",
       "       34443.191406, 34433.070313, 34503.488281, 34592.390625,\n",
       "       34843.511719, 34771.050781, 35081.820313, 35260.289063,\n",
       "       35511.578125, 35798.011719, 36139.980469, 36161.640625,\n",
       "       36050.441406, 36283.25    , 36033.730469, 35965.019531,\n",
       "       35906.660156, 35066.75    , 34757.160156, 34195.941406,\n",
       "       34082.710938, 34413.160156, 34005.761719, 34300.46875 ,\n",
       "       34155.949219, 34297.46875 , 34010.761719, 33774.660156,\n",
       "       33703.589844, 33844.859375, 33819.5     , 34142.148438,\n",
       "       34445.75    , 34346.390625, 34184.039063, 34046.941406,\n",
       "       33746.78125 , 33317.199219, 33033.089844, 33351.570313,\n",
       "       33307.140625, 33917.941406, 33856.78125 , 33835.738281,\n",
       "       33685.539063, 33176.      , 32923.121094, 32996.761719,\n",
       "       33136.179688, 33006.269531, 32596.539063, 33066.410156,\n",
       "       33174.390625, 32968.679688, 33255.359375, 33370.628906,\n",
       "       33019.070313, 33596.800781, 33626.96875 , 33788.539063,\n",
       "       33880.25    , 33940.441406, 34101.128906, 34192.648438,\n",
       "       34305.429688, 34395.058594, 34331.679688, 34427.289063,\n",
       "       34415.578125, 34450.769531, 34616.640625, 34501.269531,\n",
       "       34713.601563, 34969.699219, 35160.359375, 35176.421875,\n",
       "       35103.140625, 34915.378906, 35208.140625, 35216.320313,\n",
       "       35319.351563, 35246.269531, 35535.789063, 35556.710938,\n",
       "       35543.941406, 35387.878906, 35149.121094, 34848.300781,\n",
       "       34616.128906, 34651.238281, 34344.910156, 34663.109375,\n",
       "       34924.871094, 35165.480469, 34949.238281, 34906.109375,\n",
       "       35322.378906, 35227.261719, 35011.890625, 34903.210938,\n",
       "       35178.878906, 35463.078125, 35443.671875, 35483.46875 ,\n",
       "       35692.519531, 35739.160156, 35599.820313, 35622.140625,\n",
       "       35548.261719, 35286.738281, 35547.328125, 35432.390625,\n",
       "       35689.601563, 35470.351563, 35490.039063, 35217.109375,\n",
       "       35037.640625, 35423.480469, 35264.410156, 35378.601563,\n",
       "       35645.398438, 35574.550781, 35657.859375, 35934.71875 ,\n",
       "       36239.621094, 36265.929688, 36548.410156, 36541.628906,\n",
       "       36323.769531, 36519.960938, 36373.441406, 36351.230469,\n",
       "       36496.371094, 36718.601563, 36825.101563, 36858.230469,\n",
       "       36984.640625, 37336.851563, 37494.398438, 37606.578125,\n",
       "       37521.621094, 37165.160156, 37556.160156, 37691.890625,\n",
       "       37665.800781, 37887.558594, 38024.371094, 37869.230469,\n",
       "       37644.898438, 37852.      , 37663.558594, 37947.878906,\n",
       "       38278.75    , 38285.75    , 38336.761719, 38251.800781,\n",
       "       38694.109375, 38896.628906, 38722.929688, 38690.101563,\n",
       "       38645.070313, 38312.519531, 38157.921875, 38018.308594,\n",
       "       38242.808594, 38389.820313, 37922.171875, 37413.128906,\n",
       "       37717.960938, 38090.640625, 37585.511719, 37290.671875,\n",
       "       37121.21875 , 36841.601563, 36305.019531, 36652.058594,\n",
       "       36542.269531, 36324.171875, 36227.140625, 36526.140625,\n",
       "       35975.628906, 35169.160156, 34376.988281, 34474.378906,\n",
       "       34299.46875 , 34760.890625, 34001.148438, 34733.578125,\n",
       "       34865.101563, 35162.480469, 34779.578125, 34315.628906,\n",
       "       34134.378906, 33847.230469, 34033.960938, 33690.089844,\n",
       "       33349.308594, 34067.398438, 33891.128906, 34442.050781,\n",
       "       34431.96875 , 35011.648438, 34950.921875, 34991.910156,\n",
       "       35237.679688, 35158.550781, 34812.988281, 35144.488281,\n",
       "       35141.988281, 35260.539063, 35457.160156, 35774.878906,\n",
       "       35474.511719, 35199.800781, 34981.019531, 35354.078125,\n",
       "       35513.140625, 35716.949219, 36170.410156, 36194.300781,\n",
       "       36241.      , 36134.308594, 35884.410156, 35312.128906,\n",
       "       35673.25    , 34959.71875 , 35150.011719, 35779.070313,\n",
       "       35929.640625, 35962.929688, 36270.070313, 36347.078125,\n",
       "       36484.328125, 36431.671875, 35742.070313, 35470.148438,\n",
       "       35649.941406, 35807.28125 , 36076.71875 , 36068.328125,\n",
       "       36068.328125, 35891.519531, 35513.710938, 35695.101563,\n",
       "       35850.160156, 35980.929688, 36212.910156, 36106.5     ,\n",
       "       36009.839844, 35853.558594, 36318.328125, 36321.289063,\n",
       "       36374.078125, 36386.609375, 36578.960938, 36444.640625,\n",
       "       36108.46875 , 36195.101563, 36025.539063, 35656.699219,\n",
       "       35592.5     , 35591.25    , 36256.691406, 36469.429688,\n",
       "       36582.738281, 36616.808594, 36975.230469, 36971.089844,\n",
       "       36546.480469, 36395.03125 , 36153.621094, 35876.21875 ,\n",
       "       35808.949219, 35498.441406, 35352.609375, 35756.261719,\n",
       "       35898.351563, 35871.480469, 36213.378906, 35973.710938,\n",
       "       35905.429688, 35867.441406, 36063.808594, 36442.539063,\n",
       "       36636.101563, 36725.421875, 36671.429688, 37054.101563,\n",
       "       37535.660156, 37752.171875, 37754.890625, 38024.320313,\n",
       "       38095.070313, 38363.46875 , 38386.75    , 38164.609375,\n",
       "       37808.910156, 38233.410156, 38132.878906, 38545.71875 ,\n",
       "       38871.871094, 39056.648438, 38877.121094, 38684.71875 ,\n",
       "       38862.230469, 38700.53125 , 38939.21875 , 38585.351563,\n",
       "       38607.011719, 38767.109375, 38905.839844, 39275.640625,\n",
       "       39140.28125 , 38645.179688, 38564.878906, 39054.679688,\n",
       "       38730.859375, 39067.328125, 39031.550781, 38981.429688,\n",
       "       38963.261719, 38600.339844, 38276.628906, 37789.128906,\n",
       "       37558.910156, 37462.988281, 37090.820313, 37318.53125 ,\n",
       "       37114.878906, 37393.480469, 37930.769531, 39352.671875,\n",
       "       38969.800781, 39110.210938, 38811.390625, 39434.71875 ,\n",
       "       39683.289063, 39749.730469, 39502.050781, 39831.96875 ,\n",
       "       39714.199219, 40267.621094, 40083.539063, 39529.71875 ,\n",
       "       39615.898438, 39784.519531, 39950.460938, 39756.808594,\n",
       "       39741.359375, 39452.070313, 38960.789063, 39046.339844,\n",
       "       39112.738281, 39601.628906, 39194.488281, 39122.960938,\n",
       "       39434.941406, 39592.078125, 39586.410156, 39394.640625,\n",
       "       39686.5     , 39816.480469, 39839.25    , 39908.058594,\n",
       "       39513.390625, 38720.570313, 38730.820313, 38557.039063,\n",
       "       38823.109375, 38736.230469, 38896.710938, 39131.039063,\n",
       "       39215.640625, 38897.460938, 38337.011719, 38031.128906,\n",
       "       37982.738281, 37847.648438, 37830.980469, 37882.789063,\n",
       "       37686.371094, 37397.238281, 37481.121094, 37018.320313,\n",
       "       37118.21875 , 36699.839844, 36976.851563, 36690.5     ,\n",
       "       37327.359375, 37581.910156, 36958.160156, 37311.53125 ,\n",
       "       37350.328125, 37402.488281, 37328.011719, 37060.371094,\n",
       "       36472.929688, 36701.160156, 37494.121094, 37641.269531,\n",
       "       37451.839844, 37068.929688, 37332.789063, 36562.910156,\n",
       "       36724.738281, 36644.421875, 36981.769531, 37145.449219,\n",
       "       37270.820313, 37104.28125 , 37384.988281, 37123.308594,\n",
       "       36481.089844, 36563.878906, 36093.46875 , 38014.621094,\n",
       "       39090.03125 , 39097.140625, 38593.519531, 38989.738281,\n",
       "       38822.570313, 38667.328125, 38305.410156, 38106.871094,\n",
       "       37673.308594, 37531.980469, 38177.949219, 37880.398438,\n",
       "       38127.078125, 38214.46875 , 38506.089844, 38598.988281,\n",
       "       39052.058594, 39298.378906, 38963.839844, 39058.828125,\n",
       "       39020.390625, 39058.058594, 39058.058594, 39831.839844,\n",
       "       40051.871094, 40129.050781, 40165.03125 , 40301.960938,\n",
       "       40248.230469, 40469.78125 , 40653.738281, 40323.609375,\n",
       "       40345.078125, 40116.058594, 40286.480469, 40356.691406,\n",
       "       40284.191406, 40469.699219, 40651.640625, 40575.171875,\n",
       "       40359.410156, 40889.230469, 40821.300781, 41020.609375,\n",
       "       41130.171875, 40793.808594, 40802.171875, 40675.449219,\n",
       "       40850.289063, 40779.589844, 40445.148438, 40487.429688,\n",
       "       40239.878906, 40412.570313, 40581.710938, 41009.710938,\n",
       "       40938.71875 , 41352.171875, 41558.570313, 41673.921875,\n",
       "       41681.539063, 41642.660156, 41461.261719, 41163.761719,\n",
       "       41575.140625, 41558.      , 41253.738281, 41253.738281,\n",
       "       41626.640625, 41464.609375, 40676.628906, 40869.46875 ,\n",
       "       40817.738281, 41452.351563, 41599.71875 , 41859.691406,\n",
       "       41952.628906, 41872.730469, 41932.558594, 41945.371094,\n",
       "       41528.910156, 41323.808594, 41115.378906, 41386.398438,\n",
       "       41613.191406, 41155.121094, 40966.859375, 41198.660156,\n",
       "       40913.820313, 40723.488281, 39872.308594, 40789.378906,\n",
       "       41142.660156, 41306.03125 , 41141.851563, 40979.621094,\n",
       "       41216.140625, 41565.898438, 41459.789063, 41257.738281,\n",
       "       41055.691406, 40894.378906, 41323.      , 41170.121094,\n",
       "       40363.230469, 40281.199219, 39888.960938, 39745.660156,\n",
       "       38297.289063, 38144.019531, 38623.699219, 38409.480469,\n",
       "       38470.609375, 37576.621094, 35634.949219, 35697.398438,\n",
       "       32778.140625, 34103.480469, 31390.070313, 30579.089844,\n",
       "       28869.509766, 28288.230469, 29915.960938, 25981.240234,\n",
       "       26674.029297, 28535.779297, 29946.769531, 29815.589844,\n",
       "       28440.320313, 29468.490234, 28265.310547, 27590.949219,\n",
       "       30067.210938, 29893.960938, 31159.619141, 30690.019531,\n",
       "       30379.810547, 30602.609375, 31588.720703, 31648.      ,\n",
       "       30636.710938, 31379.550781, 31863.080078, 31327.220703,\n",
       "       31743.080078, 32114.519531, 32720.160156, 33717.621094,\n",
       "       31715.349609, 31453.509766, 31685.75    , 31443.380859,\n",
       "       31642.699219, 31561.220703, 31371.119141, 32008.609375,\n",
       "       31122.890625, 31097.730469, 30028.980469, 30196.169922,\n",
       "       30818.609375, 30932.900391, 30672.589844, 30609.300781,\n",
       "       31605.220703, 32200.589844, 32424.099609, 33303.519531,\n",
       "       33825.53125 , 34109.539063, 33980.699219, 34287.238281,\n",
       "       34370.578125, 33956.691406, 34247.050781, 33538.371094,\n",
       "       33780.890625, 33228.800781, 33605.21875 , 33507.921875,\n",
       "       34208.050781, 34731.730469, 34911.320313, 35430.429688,\n",
       "       34868.980469, 34842.101563, 35171.269531, 34961.519531])"
      ]
     },
     "execution_count": 87,
     "metadata": {},
     "output_type": "execute_result"
    }
   ],
   "source": [
    "y_tesT"
   ]
  },
  {
   "cell_type": "code",
   "execution_count": 88,
   "metadata": {
    "execution": {
     "iopub.execute_input": "2020-10-16T10:22:23.055318Z",
     "iopub.status.busy": "2020-10-16T10:22:23.054466Z",
     "iopub.status.idle": "2020-10-16T10:22:23.058179Z",
     "shell.execute_reply": "2020-10-16T10:22:23.058663Z"
    },
    "papermill": {
     "duration": 0.151245,
     "end_time": "2020-10-16T10:22:23.058788",
     "exception": false,
     "start_time": "2020-10-16T10:22:22.907543",
     "status": "completed"
    },
    "tags": []
   },
   "outputs": [
    {
     "data": {
      "text/plain": [
       "array([25987.35081722, 27363.38189865, 24398.84539772, 18431.21582315,\n",
       "       21088.18296745])"
      ]
     },
     "execution_count": 88,
     "metadata": {},
     "output_type": "execute_result"
    }
   ],
   "source": [
    "y_preD[:5]"
   ]
  },
  {
   "cell_type": "code",
   "execution_count": 89,
   "metadata": {
    "execution": {
     "iopub.execute_input": "2020-10-16T10:22:23.338518Z",
     "iopub.status.busy": "2020-10-16T10:22:23.336587Z",
     "iopub.status.idle": "2020-10-16T10:22:23.340794Z",
     "shell.execute_reply": "2020-10-16T10:22:23.340272Z"
    },
    "papermill": {
     "duration": 0.140855,
     "end_time": "2020-10-16T10:22:23.340891",
     "exception": false,
     "start_time": "2020-10-16T10:22:23.200036",
     "status": "completed"
    },
    "tags": []
   },
   "outputs": [
    {
     "data": {
      "text/plain": [
       "7944646195914292.0"
      ]
     },
     "execution_count": 89,
     "metadata": {},
     "output_type": "execute_result"
    }
   ],
   "source": [
    "from sklearn.metrics import mean_squared_error\n",
    "np.sqrt(mean_squared_error(y_tesT,y_preD))"
   ]
  },
  {
   "cell_type": "code",
   "execution_count": 90,
   "metadata": {
    "execution": {
     "iopub.execute_input": "2020-10-16T10:22:23.618211Z",
     "iopub.status.busy": "2020-10-16T10:22:23.616933Z",
     "iopub.status.idle": "2020-10-16T10:22:25.037261Z",
     "shell.execute_reply": "2020-10-16T10:22:25.037819Z"
    },
    "papermill": {
     "duration": 1.556976,
     "end_time": "2020-10-16T10:22:25.037993",
     "exception": false,
     "start_time": "2020-10-16T10:22:23.481017",
     "status": "completed"
    },
    "tags": []
   },
   "outputs": [
    {
     "data": {
      "text/plain": [
       "20782.43934320662"
      ]
     },
     "execution_count": 90,
     "metadata": {},
     "output_type": "execute_result"
    }
   ],
   "source": [
    "from sklearn.tree import DecisionTreeRegressor\n",
    "tree_reg = DecisionTreeRegressor(random_state=42)\n",
    "tree_reg.fit(x_traiN,y_traiN)\n",
    "tree_pred=tree_reg.predict(x_tesT)\n",
    "np.sqrt(mean_squared_error(y_tesT,tree_pred))"
   ]
  },
  {
   "cell_type": "code",
   "execution_count": 91,
   "metadata": {
    "execution": {
     "iopub.execute_input": "2020-10-16T10:22:25.322574Z",
     "iopub.status.busy": "2020-10-16T10:22:25.320601Z",
     "iopub.status.idle": "2020-10-16T10:22:25.323205Z",
     "shell.execute_reply": "2020-10-16T10:22:25.323693Z"
    },
    "papermill": {
     "duration": 0.142495,
     "end_time": "2020-10-16T10:22:25.323814",
     "exception": false,
     "start_time": "2020-10-16T10:22:25.181319",
     "status": "completed"
    },
    "tags": []
   },
   "outputs": [],
   "source": [
    "xgb=xgboost.XGBRegressor(base_score=0.5, booster='gbtree', colsample_bylevel=1,\n",
    "             colsample_bynode=1, colsample_bytree=0.4, gamma=0.0, gpu_id=-1,\n",
    "             importance_type='gain', interaction_constraints='',\n",
    "             learning_rate=0.1, max_delta_step=0, max_depth=40,\n",
    "             min_child_weight=25, monotone_constraints='()',\n",
    "             n_estimators=100, n_jobs=0, num_parallel_tree=1, random_state=0,\n",
    "             reg_alpha=0, reg_lambda=1, scale_pos_weight=1, subsample=1,\n",
    "             tree_method='exact', validate_parameters=1, verbosity=None)"
   ]
  },
  {
   "cell_type": "code",
   "execution_count": 92,
   "metadata": {
    "execution": {
     "iopub.execute_input": "2020-10-16T10:22:25.589811Z",
     "iopub.status.busy": "2020-10-16T10:22:25.589085Z",
     "iopub.status.idle": "2020-10-16T10:23:25.596482Z",
     "shell.execute_reply": "2020-10-16T10:23:25.597075Z"
    },
    "papermill": {
     "duration": 60.142203,
     "end_time": "2020-10-16T10:23:25.597237",
     "exception": false,
     "start_time": "2020-10-16T10:22:25.455034",
     "status": "completed"
    },
    "tags": []
   },
   "outputs": [
    {
     "data": {
      "text/plain": [
       "XGBRegressor(base_score=0.5, booster='gbtree', colsample_bylevel=1,\n",
       "             colsample_bynode=1, colsample_bytree=0.4, gamma=0.0, gpu_id=-1,\n",
       "             importance_type='gain', interaction_constraints='',\n",
       "             learning_rate=0.1, max_delta_step=0, max_depth=40,\n",
       "             min_child_weight=25, missing=nan, monotone_constraints='()',\n",
       "             n_estimators=100, n_jobs=0, num_parallel_tree=1, random_state=0,\n",
       "             reg_alpha=0, reg_lambda=1, scale_pos_weight=1, subsample=1,\n",
       "             tree_method='exact', validate_parameters=1, verbosity=None)"
      ]
     },
     "execution_count": 92,
     "metadata": {},
     "output_type": "execute_result"
    }
   ],
   "source": [
    "xgb.fit(x_traiN,y_traiN)"
   ]
  },
  {
   "cell_type": "code",
   "execution_count": 93,
   "metadata": {
    "execution": {
     "iopub.execute_input": "2020-10-16T10:23:25.868975Z",
     "iopub.status.busy": "2020-10-16T10:23:25.867980Z",
     "iopub.status.idle": "2020-10-16T10:23:25.918812Z",
     "shell.execute_reply": "2020-10-16T10:23:25.919751Z"
    },
    "papermill": {
     "duration": 0.18771,
     "end_time": "2020-10-16T10:23:25.919910",
     "exception": false,
     "start_time": "2020-10-16T10:23:25.732200",
     "status": "completed"
    },
    "tags": []
   },
   "outputs": [
    {
     "data": {
      "text/plain": [
       "-18.421968216731788"
      ]
     },
     "execution_count": 93,
     "metadata": {},
     "output_type": "execute_result"
    }
   ],
   "source": [
    "xgb.score(x_tesT,y_tesT)"
   ]
  },
  {
   "cell_type": "code",
   "execution_count": 94,
   "metadata": {
    "execution": {
     "iopub.execute_input": "2020-10-16T10:23:26.232903Z",
     "iopub.status.busy": "2020-10-16T10:23:26.232012Z",
     "iopub.status.idle": "2020-10-16T10:23:26.235819Z",
     "shell.execute_reply": "2020-10-16T10:23:26.236331Z"
    },
    "papermill": {
     "duration": 0.150516,
     "end_time": "2020-10-16T10:23:26.236467",
     "exception": false,
     "start_time": "2020-10-16T10:23:26.085951",
     "status": "completed"
    },
    "tags": []
   },
   "outputs": [
    {
     "data": {
      "text/plain": [
       "3759"
      ]
     },
     "execution_count": 94,
     "metadata": {},
     "output_type": "execute_result"
    }
   ],
   "source": [
    "len(x_traiN)"
   ]
  },
  {
   "cell_type": "code",
   "execution_count": 95,
   "metadata": {
    "execution": {
     "iopub.execute_input": "2020-10-16T10:23:26.508746Z",
     "iopub.status.busy": "2020-10-16T10:23:26.508001Z",
     "iopub.status.idle": "2020-10-16T10:23:26.511577Z",
     "shell.execute_reply": "2020-10-16T10:23:26.512047Z"
    },
    "papermill": {
     "duration": 0.141024,
     "end_time": "2020-10-16T10:23:26.512166",
     "exception": false,
     "start_time": "2020-10-16T10:23:26.371142",
     "status": "completed"
    },
    "tags": []
   },
   "outputs": [
    {
     "data": {
      "text/plain": [
       "3759"
      ]
     },
     "execution_count": 95,
     "metadata": {},
     "output_type": "execute_result"
    }
   ],
   "source": [
    "len(xtrain)"
   ]
  },
  {
   "cell_type": "code",
   "execution_count": 96,
   "metadata": {
    "execution": {
     "iopub.execute_input": "2020-10-16T10:23:26.788706Z",
     "iopub.status.busy": "2020-10-16T10:23:26.781258Z",
     "iopub.status.idle": "2020-10-16T10:23:26.828079Z",
     "shell.execute_reply": "2020-10-16T10:23:26.829003Z"
    },
    "papermill": {
     "duration": 0.185005,
     "end_time": "2020-10-16T10:23:26.829175",
     "exception": false,
     "start_time": "2020-10-16T10:23:26.644170",
     "status": "completed"
    },
    "tags": []
   },
   "outputs": [],
   "source": [
    "y_prednlp=xgb.predict(x_tesT)"
   ]
  },
  {
   "cell_type": "code",
   "execution_count": 97,
   "metadata": {
    "execution": {
     "iopub.execute_input": "2020-10-16T10:23:27.140402Z",
     "iopub.status.busy": "2020-10-16T10:23:27.139635Z",
     "iopub.status.idle": "2020-10-16T10:23:27.143070Z",
     "shell.execute_reply": "2020-10-16T10:23:27.143604Z"
    },
    "papermill": {
     "duration": 0.148284,
     "end_time": "2020-10-16T10:23:27.143735",
     "exception": false,
     "start_time": "2020-10-16T10:23:26.995451",
     "status": "completed"
    },
    "tags": []
   },
   "outputs": [
    {
     "data": {
      "text/plain": [
       "18176.636632858375"
      ]
     },
     "execution_count": 97,
     "metadata": {},
     "output_type": "execute_result"
    }
   ],
   "source": [
    "from sklearn.metrics import mean_squared_error\n",
    "np.sqrt(mean_squared_error(y_tesT,y_prednlp))"
   ]
  },
  {
   "cell_type": "code",
   "execution_count": 98,
   "metadata": {
    "execution": {
     "iopub.execute_input": "2020-10-16T10:23:27.586654Z",
     "iopub.status.busy": "2020-10-16T10:23:27.585650Z",
     "iopub.status.idle": "2020-10-16T10:23:27.598688Z",
     "shell.execute_reply": "2020-10-16T10:23:27.599709Z"
    },
    "papermill": {
     "duration": 0.271228,
     "end_time": "2020-10-16T10:23:27.599921",
     "exception": false,
     "start_time": "2020-10-16T10:23:27.328693",
     "status": "completed"
    },
    "tags": []
   },
   "outputs": [
    {
     "data": {
      "text/plain": [
       "array([26813.123, 22742.367, 10868.667, 21863.344, 20029.938],\n",
       "      dtype=float32)"
      ]
     },
     "execution_count": 98,
     "metadata": {},
     "output_type": "execute_result"
    }
   ],
   "source": [
    "y_prednlp[:5]"
   ]
  },
  {
   "cell_type": "code",
   "execution_count": 99,
   "metadata": {
    "execution": {
     "iopub.execute_input": "2020-10-16T10:23:28.423080Z",
     "iopub.status.busy": "2020-10-16T10:23:28.421956Z",
     "iopub.status.idle": "2020-10-16T10:23:28.441657Z",
     "shell.execute_reply": "2020-10-16T10:23:28.442923Z"
    },
    "papermill": {
     "duration": 0.535087,
     "end_time": "2020-10-16T10:23:28.443103",
     "exception": false,
     "start_time": "2020-10-16T10:23:27.908016",
     "status": "completed"
    },
    "tags": []
   },
   "outputs": [
    {
     "data": {
      "text/plain": [
       "array([28318.61325856, 28343.27481608, 28399.65581837, 28711.03085158,\n",
       "       28875.63982853])"
      ]
     },
     "execution_count": 99,
     "metadata": {},
     "output_type": "execute_result"
    }
   ],
   "source": [
    "ypred[:5]"
   ]
  },
  {
   "cell_type": "code",
   "execution_count": 100,
   "metadata": {
    "execution": {
     "iopub.execute_input": "2020-10-16T10:23:28.834054Z",
     "iopub.status.busy": "2020-10-16T10:23:28.832132Z",
     "iopub.status.idle": "2020-10-16T10:23:28.834740Z",
     "shell.execute_reply": "2020-10-16T10:23:28.835258Z"
    },
    "papermill": {
     "duration": 0.167843,
     "end_time": "2020-10-16T10:23:28.835383",
     "exception": false,
     "start_time": "2020-10-16T10:23:28.667540",
     "status": "completed"
    },
    "tags": []
   },
   "outputs": [],
   "source": [
    "yp=[]\n",
    "for i in range(940):\n",
    "    a=y_prednlp[i]+ypred[i]\n",
    "    b=(a/2)\n",
    "    yp.append(b)"
   ]
  },
  {
   "cell_type": "code",
   "execution_count": 101,
   "metadata": {
    "execution": {
     "iopub.execute_input": "2020-10-16T10:23:29.143864Z",
     "iopub.status.busy": "2020-10-16T10:23:29.142260Z",
     "iopub.status.idle": "2020-10-16T10:23:29.148683Z",
     "shell.execute_reply": "2020-10-16T10:23:29.149272Z"
    },
    "papermill": {
     "duration": 0.174148,
     "end_time": "2020-10-16T10:23:29.149413",
     "exception": false,
     "start_time": "2020-10-16T10:23:28.975265",
     "status": "completed"
    },
    "tags": []
   },
   "outputs": [
    {
     "data": {
      "text/plain": [
       "[27565.86815271579,\n",
       " 25542.821001788234,\n",
       " 19634.161405278333,\n",
       " 25287.18730079136,\n",
       " 24452.788664265325,\n",
       " 26285.336250786815,\n",
       " 27020.178757787966,\n",
       " 25981.309909283562,\n",
       " 25203.397715748877,\n",
       " 25382.386862324813,\n",
       " 24065.791733663515,\n",
       " 27268.706949559404,\n",
       " 25198.66604098385,\n",
       " 25653.912760002095,\n",
       " 27661.700985367395,\n",
       " 26680.3879792914,\n",
       " 23950.3261093064,\n",
       " 26915.58209903956,\n",
       " 25833.83482788784,\n",
       " 25647.554589064348,\n",
       " 22650.90710928673,\n",
       " 25970.08944286885,\n",
       " 26008.890063055136,\n",
       " 23617.58613648402,\n",
       " 24389.293856227465,\n",
       " 22363.428844604863,\n",
       " 24571.22517528648,\n",
       " 23128.328441643553,\n",
       " 22518.732274034657,\n",
       " 23583.337968188345,\n",
       " 25388.709857758,\n",
       " 24838.20869556802,\n",
       " 26392.731736134127,\n",
       " 24828.210883447326,\n",
       " 22322.37552292404,\n",
       " 21688.933365864286,\n",
       " 24466.997514800394,\n",
       " 23898.691208582604,\n",
       " 22310.54359621248,\n",
       " 25679.850974039604,\n",
       " 24787.160429349482,\n",
       " 24074.1600384181,\n",
       " 22523.28832791458,\n",
       " 21954.85558106704,\n",
       " 23966.959421328473,\n",
       " 23936.353372256563,\n",
       " 22671.715681265847,\n",
       " 22870.279707034177,\n",
       " 24955.43436567454,\n",
       " 23671.971658024922,\n",
       " 24222.0555447026,\n",
       " 23954.53076301643,\n",
       " 25228.5322381198,\n",
       " 24270.84394606761,\n",
       " 22664.775488156374,\n",
       " 21573.392228897435,\n",
       " 23553.041779875733,\n",
       " 21850.16416896214,\n",
       " 24715.586485138225,\n",
       " 25832.245726793568,\n",
       " 20047.992922856858,\n",
       " 23501.534976456576,\n",
       " 24901.902577219884,\n",
       " 26747.481132788693,\n",
       " 20928.766685902792,\n",
       " 23431.556059151426,\n",
       " 24746.81156290396,\n",
       " 21229.396642894528,\n",
       " 23489.982868185114,\n",
       " 24037.435467290004,\n",
       " 23132.072942782375,\n",
       " 23644.50935958948,\n",
       " 24339.502147235624,\n",
       " 22216.520122852955,\n",
       " 25020.172434502358,\n",
       " 24007.205555980887,\n",
       " 25101.81315050296,\n",
       " 24974.686261859424,\n",
       " 25523.963690047676,\n",
       " 22803.620547170307,\n",
       " 24492.127281501227,\n",
       " 24648.876367185243,\n",
       " 22161.575719781194,\n",
       " 23783.247262188877,\n",
       " 23626.2457316778,\n",
       " 24797.204995468455,\n",
       " 23868.073879845026,\n",
       " 22231.116725356253,\n",
       " 25486.760458412165,\n",
       " 27635.525903925474,\n",
       " 23061.99729358824,\n",
       " 22342.860592981644,\n",
       " 27568.652344413327,\n",
       " 26264.602873015865,\n",
       " 25944.065987090376,\n",
       " 24822.244045125328,\n",
       " 25054.29129054168,\n",
       " 23163.366498136667,\n",
       " 24520.591973674003,\n",
       " 23230.148531114093,\n",
       " 23147.733082555347,\n",
       " 24194.262140628107,\n",
       " 23863.84884003458,\n",
       " 23305.604769193025,\n",
       " 24167.920352125235,\n",
       " 23316.563037857515,\n",
       " 24626.71093508586,\n",
       " 26333.81887252796,\n",
       " 24299.881166385356,\n",
       " 22052.693520535882,\n",
       " 23544.09550587315,\n",
       " 25288.97361490645,\n",
       " 24189.733202023148,\n",
       " 24230.136629385597,\n",
       " 24323.987457195584,\n",
       " 23940.7540602914,\n",
       " 24304.303643902014,\n",
       " 22170.54133156521,\n",
       " 25683.026798689774,\n",
       " 19908.66529400985,\n",
       " 24623.818527929718,\n",
       " 24740.65172346266,\n",
       " 24022.96068274237,\n",
       " 24710.87182769707,\n",
       " 26562.649039555592,\n",
       " 23737.9418652467,\n",
       " 24395.251431371682,\n",
       " 25633.490858481644,\n",
       " 22223.14000847972,\n",
       " 26295.14811100375,\n",
       " 24134.95644347809,\n",
       " 25418.735126110674,\n",
       " 24643.854223608752,\n",
       " 24886.834963121102,\n",
       " 27196.366781445213,\n",
       " 27047.775345914815,\n",
       " 23514.43886326084,\n",
       " 27074.117348375898,\n",
       " 25640.94221444489,\n",
       " 25435.326055008947,\n",
       " 22008.2104622908,\n",
       " 25846.933952951702,\n",
       " 20627.93471681085,\n",
       " 25982.03710067276,\n",
       " 27869.891717912622,\n",
       " 24514.61745039651,\n",
       " 25742.5337676298,\n",
       " 25444.874551376124,\n",
       " 25969.350487631797,\n",
       " 22851.961733271517,\n",
       " 23182.27937679833,\n",
       " 23787.61195013437,\n",
       " 25181.525318978427,\n",
       " 24638.638317601646,\n",
       " 24635.953093968543,\n",
       " 27085.558147501157,\n",
       " 24514.342261591028,\n",
       " 26327.18651682932,\n",
       " 23384.014346081043,\n",
       " 24994.863552659423,\n",
       " 22805.893096152362,\n",
       " 26157.407193293984,\n",
       " 28064.623197139506,\n",
       " 25632.142567327293,\n",
       " 23866.01475655137,\n",
       " 28092.602274947127,\n",
       " 26477.517485540033,\n",
       " 25045.09367346528,\n",
       " 24569.311538598395,\n",
       " 24363.419987140107,\n",
       " 26080.28678105663,\n",
       " 25302.871862301843,\n",
       " 27416.351576542118,\n",
       " 26694.29962193682,\n",
       " 25256.196533532726,\n",
       " 26243.69411061904,\n",
       " 24206.181676159933,\n",
       " 26589.95013789556,\n",
       " 25603.905292504736,\n",
       " 25230.936795960384,\n",
       " 27773.558102690196,\n",
       " 26199.42140962003,\n",
       " 26447.94088992681,\n",
       " 25423.736831909482,\n",
       " 25657.562819693627,\n",
       " 25603.877915531953,\n",
       " 25450.46829159692,\n",
       " 26936.43832758321,\n",
       " 26136.029982237924,\n",
       " 27202.40277160854,\n",
       " 24117.947359635473,\n",
       " 24400.375877131097,\n",
       " 23851.40112232558,\n",
       " 24806.890358365294,\n",
       " 23801.44127318258,\n",
       " 23851.7204918993,\n",
       " 24726.29611540778,\n",
       " 25480.826752560904,\n",
       " 25127.64052403247,\n",
       " 24708.255412695267,\n",
       " 23047.51733312269,\n",
       " 27467.61723866372,\n",
       " 23277.342650141356,\n",
       " 24288.529697240723,\n",
       " 26367.153082151613,\n",
       " 24542.77219458176,\n",
       " 26319.78242162041,\n",
       " 25803.182642948646,\n",
       " 24639.983672490787,\n",
       " 22971.57079311495,\n",
       " 26460.206893155046,\n",
       " 24487.586666405088,\n",
       " 24527.432439314332,\n",
       " 25074.319747601592,\n",
       " 23456.648859910554,\n",
       " 24369.607073586696,\n",
       " 22882.527431964925,\n",
       " 23785.711574637877,\n",
       " 23486.873712833447,\n",
       " 24864.06242191731,\n",
       " 25383.633306368803,\n",
       " 25896.212709538693,\n",
       " 24715.07459496148,\n",
       " 20594.508723328578,\n",
       " 23161.38950084763,\n",
       " 25921.609402707494,\n",
       " 23546.78511577746,\n",
       " 25536.30806387974,\n",
       " 24501.852450509814,\n",
       " 23630.51033409289,\n",
       " 23589.96307799997,\n",
       " 24378.96366879549,\n",
       " 21862.907767956523,\n",
       " 22107.963237601267,\n",
       " 23734.38698805844,\n",
       " 24042.90131799929,\n",
       " 25653.175206444346,\n",
       " 22389.13192854832,\n",
       " 21369.724878821016,\n",
       " 23276.973306719647,\n",
       " 20914.710021031882,\n",
       " 24670.387647100677,\n",
       " 23437.114033254726,\n",
       " 25575.33908094454,\n",
       " 24486.5800401013,\n",
       " 23805.598754524864,\n",
       " 24748.42355757893,\n",
       " 23175.83908582897,\n",
       " 25545.9004617426,\n",
       " 24319.32805096615,\n",
       " 25586.680905594236,\n",
       " 26071.613109797596,\n",
       " 25950.89273661322,\n",
       " 23665.154300161725,\n",
       " 23605.11572412718,\n",
       " 22821.63627401882,\n",
       " 24728.854375302988,\n",
       " 20739.672702507498,\n",
       " 23754.90115951256,\n",
       " 25877.64101600487,\n",
       " 21306.820857937848,\n",
       " 25761.49353469102,\n",
       " 24763.123110314176,\n",
       " 24020.87250284339,\n",
       " 24519.66055242429,\n",
       " 23452.633237635753,\n",
       " 25515.825510120587,\n",
       " 24128.463056652057,\n",
       " 23049.416002374943,\n",
       " 23580.51016138064,\n",
       " 23210.03935441612,\n",
       " 23450.652748576787,\n",
       " 24553.555611242602,\n",
       " 25689.62617831552,\n",
       " 21183.281948059543,\n",
       " 20569.708937276337,\n",
       " 22803.094965926568,\n",
       " 25200.124847942236,\n",
       " 26963.011185250456,\n",
       " 27573.246814415623,\n",
       " 23429.831526990885,\n",
       " 26089.6033778039,\n",
       " 26423.493121426407,\n",
       " 24819.171797190058,\n",
       " 24470.669914337548,\n",
       " 23618.73953408719,\n",
       " 24859.66464596504,\n",
       " 24127.574059988696,\n",
       " 21909.584410405103,\n",
       " 25110.116369971915,\n",
       " 25167.339218965666,\n",
       " 25857.617368585466,\n",
       " 24980.456211977315,\n",
       " 24222.048674317422,\n",
       " 23218.619494499235,\n",
       " 21184.215173199955,\n",
       " 26432.192719799485,\n",
       " 26866.549805594375,\n",
       " 24902.341844677965,\n",
       " 22226.77529236832,\n",
       " 29080.694947734268,\n",
       " 25552.931337688333,\n",
       " 27781.2728653344,\n",
       " 25656.896443407593,\n",
       " 24434.105779007263,\n",
       " 21637.520612903038,\n",
       " 26684.80945802482,\n",
       " 24974.41999151513,\n",
       " 25357.968837435375,\n",
       " 22679.263586665704,\n",
       " 26270.175835192655,\n",
       " 21619.342058706166,\n",
       " 25756.56801219865,\n",
       " 24721.552215669348,\n",
       " 25012.165155673127,\n",
       " 22382.4968534911,\n",
       " 21371.667702100942,\n",
       " 22624.303071431073,\n",
       " 24209.25234510234,\n",
       " 23144.123415404945,\n",
       " 25749.6065966713,\n",
       " 26202.55763972517,\n",
       " 24644.82542364161,\n",
       " 26857.146012696594,\n",
       " 24346.69129221692,\n",
       " 24554.53231553169,\n",
       " 23953.686117564896,\n",
       " 24946.549278576374,\n",
       " 25173.840674526884,\n",
       " 25552.056336428264,\n",
       " 26137.094569750654,\n",
       " 24803.603007309823,\n",
       " 24234.82303848097,\n",
       " 24250.21375078089,\n",
       " 24960.12944923479,\n",
       " 27942.910548499283,\n",
       " 26023.770624970926,\n",
       " 24125.659695454025,\n",
       " 27407.408010161314,\n",
       " 26229.472610949673,\n",
       " 25054.601212728805,\n",
       " 24934.071182698914,\n",
       " 25427.31850507202,\n",
       " 26088.353663901416,\n",
       " 25566.244203624356,\n",
       " 28695.188694620854,\n",
       " 25549.741678891605,\n",
       " 27807.434948453167,\n",
       " 30224.628044183297,\n",
       " 27362.64368523274,\n",
       " 27581.143876302893,\n",
       " 25466.210764694453,\n",
       " 25767.66256448929,\n",
       " 29380.879896823408,\n",
       " 27516.08095523332,\n",
       " 25637.413979240464,\n",
       " 25961.002955708147,\n",
       " 23046.39121110991,\n",
       " 23575.547150083312,\n",
       " 27951.242828600665,\n",
       " 25299.485025172416,\n",
       " 26611.673976408038,\n",
       " 28626.379693200135,\n",
       " 26929.827267413828,\n",
       " 24905.22508816001,\n",
       " 26439.759449705518,\n",
       " 21067.655971205935,\n",
       " 26098.479964551145,\n",
       " 27474.990593127448,\n",
       " 25593.26085013419,\n",
       " 19761.39671566736,\n",
       " 29432.55717858517,\n",
       " 27777.273511116564,\n",
       " 27168.796159356654,\n",
       " 27635.407331865725,\n",
       " 24671.79682894019,\n",
       " 26994.06559165418,\n",
       " 26540.681789191018,\n",
       " 27019.918705736807,\n",
       " 24232.57739630636,\n",
       " 26527.152700273116,\n",
       " 23808.131865104304,\n",
       " 25761.11844061706,\n",
       " 24316.91288014333,\n",
       " 25905.45657255591,\n",
       " 25750.178039401377,\n",
       " 26936.980806717787,\n",
       " 26797.956470254227,\n",
       " 24226.31845030238,\n",
       " 24304.62895502875,\n",
       " 24414.587737865706,\n",
       " 24893.777351493878,\n",
       " 23516.38150843757,\n",
       " 25935.422845767138,\n",
       " 26614.40461250544,\n",
       " 26380.365128646667,\n",
       " 24330.633611455258,\n",
       " 23827.901274298278,\n",
       " 25662.60082229008,\n",
       " 28457.202455410927,\n",
       " 24092.752221717456,\n",
       " 23424.512358454223,\n",
       " 26534.099399663548,\n",
       " 24840.70364265101,\n",
       " 25364.08523280797,\n",
       " 26515.94028180461,\n",
       " 25896.869753251543,\n",
       " 25387.50087375991,\n",
       " 24589.402838789512,\n",
       " 26376.915591532877,\n",
       " 28960.08773743441,\n",
       " 26391.775640228923,\n",
       " 26206.66756963889,\n",
       " 25365.595497945513,\n",
       " 26069.612321352008,\n",
       " 27178.246149353112,\n",
       " 26148.93594944607,\n",
       " 26132.45996559769,\n",
       " 26811.0641249131,\n",
       " 23750.691328144436,\n",
       " 24918.246361355636,\n",
       " 26962.712777907334,\n",
       " 25488.728294602635,\n",
       " 25301.540376735866,\n",
       " 28938.232414954637,\n",
       " 22731.293560650134,\n",
       " 28029.173900760565,\n",
       " 25979.81596624922,\n",
       " 23909.912602110173,\n",
       " 28919.610448478947,\n",
       " 26119.23238410789,\n",
       " 27403.277266904905,\n",
       " 29513.072857591313,\n",
       " 27905.887903882758,\n",
       " 27671.426285845795,\n",
       " 23225.352139673625,\n",
       " 25616.301592130752,\n",
       " 27287.30435161189,\n",
       " 27684.920756689582,\n",
       " 27433.499621403113,\n",
       " 26045.98090027932,\n",
       " 29423.008909422126,\n",
       " 26291.132737045627,\n",
       " 25513.27388193953,\n",
       " 24110.9564543253,\n",
       " 28185.034258458134,\n",
       " 25848.111081421095,\n",
       " 26245.716488620594,\n",
       " 24217.501021765904,\n",
       " 25683.888151894327,\n",
       " 25203.118292030857,\n",
       " 23211.55378663779,\n",
       " 23327.822453121593,\n",
       " 25094.401154888328,\n",
       " 24007.0219161152,\n",
       " 25414.681693087372,\n",
       " 24563.072447396746,\n",
       " 26109.62011319238,\n",
       " 26181.54820067633,\n",
       " 28424.65892055912,\n",
       " 26047.866196262003,\n",
       " 24415.149531069303,\n",
       " 25034.11694762788,\n",
       " 25504.689972087606,\n",
       " 26171.580073635818,\n",
       " 28320.472200744767,\n",
       " 25938.452067603826,\n",
       " 25648.150674206176,\n",
       " 27463.392309781368,\n",
       " 27690.414700514666,\n",
       " 26742.622090315384,\n",
       " 26192.449716077597,\n",
       " 27054.488624772344,\n",
       " 25441.973230965858,\n",
       " 28405.358829466135,\n",
       " 27210.01424233234,\n",
       " 26459.895238484354,\n",
       " 27164.016804815725,\n",
       " 26297.441717947404,\n",
       " 27782.0211193018,\n",
       " 27154.326048883562,\n",
       " 29275.33103490675,\n",
       " 28054.221288094253,\n",
       " 28019.203111219755,\n",
       " 29433.12099916129,\n",
       " 25293.541869195662,\n",
       " 28899.304986494666,\n",
       " 26587.56156715972,\n",
       " 31696.811229541177,\n",
       " 26898.588908115733,\n",
       " 29034.479076586016,\n",
       " 26816.8395444097,\n",
       " 27549.01323931447,\n",
       " 29754.063251050367,\n",
       " 26501.252851071516,\n",
       " 26723.594027285148,\n",
       " 28898.469379487102,\n",
       " 28693.220171121546,\n",
       " 28090.5117305084,\n",
       " 27940.740773565336,\n",
       " 29550.56318783038,\n",
       " 30831.135676903992,\n",
       " 29368.886717669284,\n",
       " 27667.536189795195,\n",
       " 26547.321516250056,\n",
       " 27646.04406984449,\n",
       " 29064.489809705377,\n",
       " 29669.04175440252,\n",
       " 30216.163739160696,\n",
       " 28745.795639581364,\n",
       " 28641.800972226058,\n",
       " 29755.714560193323,\n",
       " 29938.024850678907,\n",
       " 22407.4356855135,\n",
       " 27387.84963845325,\n",
       " 25436.91482229012,\n",
       " 29069.407372739133,\n",
       " 27520.285054837026,\n",
       " 27160.314035872892,\n",
       " 28256.932755281512,\n",
       " 24962.87325670673,\n",
       " 25539.31414041043,\n",
       " 25997.53315084949,\n",
       " 30072.19486021724,\n",
       " 26106.4340013482,\n",
       " 25778.24275518212,\n",
       " 29389.213602062326,\n",
       " 27220.2001602016,\n",
       " 26968.54234577544,\n",
       " 24243.437169215933,\n",
       " 25171.211500303703,\n",
       " 25267.721915204784,\n",
       " 26598.786749353516,\n",
       " 26176.52967363538,\n",
       " 25650.91771033178,\n",
       " 26574.029572585434,\n",
       " 28040.88342708082,\n",
       " 27036.456888528308,\n",
       " 25534.531436799476,\n",
       " 25306.50375012885,\n",
       " 26111.60459873333,\n",
       " 28271.036947530607,\n",
       " 26528.68420260507,\n",
       " 28427.15395247608,\n",
       " 29030.020277160547,\n",
       " 27015.559045170332,\n",
       " 26346.572633163207,\n",
       " 27295.476630801135,\n",
       " 27928.336027574525,\n",
       " 25854.94435427541,\n",
       " 25957.207866764107,\n",
       " 27605.312271720773,\n",
       " 29442.56379608905,\n",
       " 30446.94867308819,\n",
       " 28983.126012899716,\n",
       " 27808.069226145275,\n",
       " 27181.806894129848,\n",
       " 27169.36871903656,\n",
       " 28125.111907525246,\n",
       " 27708.68086188469,\n",
       " 24979.582162846335,\n",
       " 28366.141143414305,\n",
       " 29752.545845598434,\n",
       " 29959.61673995617,\n",
       " 28952.70195797639,\n",
       " 29280.297288453,\n",
       " 32572.933515892295,\n",
       " 31978.511115549598,\n",
       " 30914.213562555855,\n",
       " 32425.137823174035,\n",
       " 33618.616565741555,\n",
       " 28986.960238710588,\n",
       " 28029.841677038952,\n",
       " 31208.663433493628,\n",
       " 31652.614501114174,\n",
       " 31865.879197146587,\n",
       " 29553.214158084087,\n",
       " 28039.994716791432,\n",
       " 26629.39325382904,\n",
       " 28372.47640453586,\n",
       " 26613.496421414715,\n",
       " 28861.029332629492,\n",
       " 26775.368253575176,\n",
       " 29634.121389238608,\n",
       " 23857.254970790356,\n",
       " 23893.267454796543,\n",
       " 27776.542511153115,\n",
       " 28186.422315805732,\n",
       " 28947.856282483393,\n",
       " 25639.0058853823,\n",
       " 24914.97741956839,\n",
       " 24404.513030114762,\n",
       " 26267.469555917996,\n",
       " 25632.253490663268,\n",
       " 23506.250976890467,\n",
       " 21804.712793745395,\n",
       " 27031.17905011598,\n",
       " 24316.129537018416,\n",
       " 28683.381633443874,\n",
       " 32165.650566757795,\n",
       " 21636.364335773604,\n",
       " 28724.546610540834,\n",
       " 29182.269777331912,\n",
       " 26981.39809476244,\n",
       " 26884.809836515473,\n",
       " 23843.53800587194,\n",
       " 23715.986656369023,\n",
       " 28405.026411481,\n",
       " 25654.754955997567,\n",
       " 23024.34974843757,\n",
       " 25163.43598112671,\n",
       " 27429.949024243466,\n",
       " 25031.438997344412,\n",
       " 24849.91022517796,\n",
       " 23613.55122826832,\n",
       " 25342.901823557746,\n",
       " 25138.862666987898,\n",
       " 25622.38451424222,\n",
       " 25224.342217933816,\n",
       " 26719.02628475072,\n",
       " 25186.38830150574,\n",
       " 28127.41562069067,\n",
       " 27572.961695124563,\n",
       " 25154.610833467574,\n",
       " 26979.89624693948,\n",
       " 27533.54657650142,\n",
       " 27758.30421021295,\n",
       " 28024.24221586949,\n",
       " 24713.617435549433,\n",
       " 29037.6017076864,\n",
       " 27356.721421938,\n",
       " 27863.66923927883,\n",
       " 23941.08285257978,\n",
       " 27011.956702881056,\n",
       " 28901.81173059255,\n",
       " 28799.21743822754,\n",
       " 28212.558774382494,\n",
       " 28588.6587805508,\n",
       " 26156.03185506021,\n",
       " 25466.176467261776,\n",
       " 28420.544989038593,\n",
       " 24480.257624183178,\n",
       " 28775.966079801998,\n",
       " 23746.641500616195,\n",
       " 24967.624158084313,\n",
       " 23372.650480678753,\n",
       " 26736.143964771316,\n",
       " 23314.625665143572,\n",
       " 22746.34834721309,\n",
       " 30754.778896762116,\n",
       " 25831.43852669986,\n",
       " 30148.58812010696,\n",
       " 31795.813839750725,\n",
       " 29371.930354808428,\n",
       " 32335.25471563913,\n",
       " 29430.49256199272,\n",
       " 28937.5707235598,\n",
       " 30493.00254060225,\n",
       " 27793.711242490754,\n",
       " 27553.95919627701,\n",
       " 28675.339022427157,\n",
       " 29919.69660103837,\n",
       " 25867.82456568954,\n",
       " 25345.219317807354,\n",
       " 24200.03230853062,\n",
       " 28510.48405152111,\n",
       " 26571.837561211585,\n",
       " 30882.4001370584,\n",
       " 25908.456009635232,\n",
       " 27689.857880806372,\n",
       " 29518.563303106446,\n",
       " 30519.92192276102,\n",
       " 27379.077780709755,\n",
       " 30494.955427909354,\n",
       " 31359.61702199732,\n",
       " 30959.167213289504,\n",
       " 30852.07768384763,\n",
       " 32781.00796618807,\n",
       " 27697.015290196647,\n",
       " 28447.182645544246,\n",
       " 28224.461412757777,\n",
       " 29958.67058540934,\n",
       " 28792.866081580945,\n",
       " 29354.93808537556,\n",
       " 25509.576201628486,\n",
       " 28604.187093741206,\n",
       " 29925.261980748895,\n",
       " 32046.76914397643,\n",
       " 29393.293723008388,\n",
       " 26456.83907168353,\n",
       " 26176.7840543123,\n",
       " 28080.882375818328,\n",
       " 26503.20941999726,\n",
       " 31157.295632864774,\n",
       " 31223.622134818877,\n",
       " 25494.541580625722,\n",
       " 28273.477978729683,\n",
       " 30099.468810318558,\n",
       " 28881.68326774154,\n",
       " 27015.238862577527,\n",
       " 27670.892374798183,\n",
       " 32139.78646082848,\n",
       " 30476.503349961047,\n",
       " 30597.27195056695,\n",
       " 30458.141998946187,\n",
       " 31297.506836526776,\n",
       " 31869.664100493257,\n",
       " 31120.049106315233,\n",
       " 31652.222905269296,\n",
       " 29054.815051206715,\n",
       " 30215.369629287252,\n",
       " 31048.42079463404,\n",
       " 28687.25773088858,\n",
       " 28086.80339792209,\n",
       " 28270.669278221147,\n",
       " 30307.240471679583,\n",
       " 26126.758426989254,\n",
       " 27162.94023474927,\n",
       " 29313.092364123317,\n",
       " 28486.860794177504,\n",
       " 27588.460067890443,\n",
       " 29732.712722350414,\n",
       " 26272.756451679437,\n",
       " 25460.04594195747,\n",
       " 28757.502010391177,\n",
       " 29914.200221451356,\n",
       " 27977.706429749796,\n",
       " 29110.116516634702,\n",
       " 26142.677879358547,\n",
       " 27906.3572214944,\n",
       " 29374.56946493989,\n",
       " 29872.28874725626,\n",
       " 27250.81504410399,\n",
       " 27582.716827487166,\n",
       " 28910.33162095963,\n",
       " 30354.989939924155,\n",
       " 28917.175154486707,\n",
       " 28046.087561843025,\n",
       " 28408.63869885377,\n",
       " 26620.53487401656,\n",
       " 29336.444895793586,\n",
       " 22711.485836050782,\n",
       " 27743.70559862102,\n",
       " 24298.77592982216,\n",
       " 29319.26774969658,\n",
       " 24305.862994408286,\n",
       " 26701.96367308908,\n",
       " 29387.372543911526,\n",
       " 29423.741306168,\n",
       " 27179.846363610373,\n",
       " 26809.58104915254,\n",
       " 24420.01914740818,\n",
       " 27452.85648888781,\n",
       " 30736.603278108145,\n",
       " 28306.74752450033,\n",
       " 28085.33776518342,\n",
       " 29267.95549239543,\n",
       " 27009.839218513902,\n",
       " 25130.37845010279,\n",
       " 27824.845248166665,\n",
       " 29932.01658945646,\n",
       " 27970.43784672746,\n",
       " 28657.597060189455,\n",
       " 26871.654124753728,\n",
       " 30548.752275006816,\n",
       " 28745.464310771968,\n",
       " 30935.928937351826,\n",
       " 26176.80563018006,\n",
       " 30378.922931845478,\n",
       " 26821.7421409825,\n",
       " 25337.549070724435,\n",
       " 27756.808217432466,\n",
       " 29618.88702987793,\n",
       " 28135.842492933807,\n",
       " 22973.886682386932,\n",
       " 30818.685033985814,\n",
       " 32285.001043857545,\n",
       " 30100.526535389497,\n",
       " 32002.71268715569,\n",
       " 28060.275561757157,\n",
       " 26047.959727529742,\n",
       " 26593.19020946862,\n",
       " 29233.27977017158,\n",
       " 24658.26145428692,\n",
       " 28107.37032146733,\n",
       " 27672.73373670377,\n",
       " 30904.564121810443,\n",
       " 27687.587375217783,\n",
       " 23856.302665832412,\n",
       " 27985.24022839359,\n",
       " 28147.159351305592,\n",
       " 27818.730818458138,\n",
       " 26159.00249634631,\n",
       " 24254.658151572847,\n",
       " 25034.464561488963,\n",
       " 27673.10540547189,\n",
       " 28997.459683839163,\n",
       " 29139.669310301368,\n",
       " 31784.242293868116,\n",
       " 33679.78540665429,\n",
       " 28245.094448350403,\n",
       " 27162.096707199617,\n",
       " 27284.59779123142,\n",
       " 24209.999183333148,\n",
       " 27902.876243717372,\n",
       " 30023.080741516045,\n",
       " 29383.858399852237,\n",
       " 25655.743282643107,\n",
       " 23456.956017508277,\n",
       " 29654.639162055213,\n",
       " 27490.857451266984,\n",
       " 28228.047777812386,\n",
       " 28632.695430656135,\n",
       " 26515.08689139469,\n",
       " 31250.51941067489,\n",
       " 28478.955279396952,\n",
       " 27123.881450880515,\n",
       " 26899.274388812588,\n",
       " 24342.929231228234,\n",
       " 29104.99246365011,\n",
       " 30641.976843185585,\n",
       " 28044.03279427096,\n",
       " 25302.28270599726,\n",
       " 28753.10405423733,\n",
       " 30290.543216502905,\n",
       " 28958.18477793492,\n",
       " 28871.14935775857,\n",
       " 26339.519899442876,\n",
       " 28220.476086859657,\n",
       " 29040.403158283367,\n",
       " 30030.867371461336,\n",
       " 29343.202403299652,\n",
       " 27254.942943190996,\n",
       " 29605.31362591444,\n",
       " 25727.689659561358,\n",
       " 28187.200972306015,\n",
       " 31045.11255550533,\n",
       " 30435.237461158024,\n",
       " 27026.60840229104,\n",
       " 27105.52534932755,\n",
       " 24974.934581912046,\n",
       " 29042.289600135544,\n",
       " 28745.419225870242,\n",
       " 25457.82243235966,\n",
       " 27539.561345573416,\n",
       " 25893.941703266704,\n",
       " 26695.285947549462,\n",
       " 29097.221637414168,\n",
       " 25677.39360529564,\n",
       " 26177.96774162875,\n",
       " 28037.88151891946,\n",
       " 26006.249494914067,\n",
       " 25756.195063873078,\n",
       " 25704.423155699693,\n",
       " 28506.430266655247,\n",
       " 29823.60443553702,\n",
       " 24227.757178597152,\n",
       " 29062.408801895403,\n",
       " 27544.66480356319,\n",
       " 29727.0932311081,\n",
       " 27319.6783092908,\n",
       " 24652.468803976724,\n",
       " 26551.555248111155,\n",
       " 24058.32068755487,\n",
       " 28693.48153662321,\n",
       " 26024.894019910185,\n",
       " 25621.654860921113,\n",
       " 24135.257476959443,\n",
       " 24902.438072437206,\n",
       " 23566.951233986227,\n",
       " 21301.91014027394,\n",
       " 24452.570839732176,\n",
       " 23027.21462911242,\n",
       " 21709.94390065292,\n",
       " 23798.18952230458,\n",
       " 20000.657572381904,\n",
       " 20605.2097816999,\n",
       " 20951.160486851644,\n",
       " 23574.01017367607,\n",
       " 24422.280782391605,\n",
       " 22877.350905784762,\n",
       " 21946.093784286804,\n",
       " 22155.831827435493,\n",
       " 21471.061952432283,\n",
       " 22433.346755634695,\n",
       " 22993.917028981698,\n",
       " 23102.540568878583,\n",
       " 19205.589877713006,\n",
       " 19973.980645387343,\n",
       " 20230.770962264392,\n",
       " 22201.96210765347,\n",
       " 21569.96366181921,\n",
       " 23077.789129088447,\n",
       " 24354.54469780908,\n",
       " 24091.37468604794,\n",
       " 22214.261465442047,\n",
       " 22945.606199260103,\n",
       " 24356.91467584062,\n",
       " 23877.72027653572,\n",
       " 24242.41931181587,\n",
       " 25267.97631386289,\n",
       " 23102.29791737621,\n",
       " 22777.2335726975,\n",
       " 21231.736999599023,\n",
       " 21521.248783665276,\n",
       " 21314.20090111855,\n",
       " 20119.627291519864,\n",
       " 23088.128212666536,\n",
       " 21841.205098721643,\n",
       " 20303.747925810596,\n",
       " 21810.07681369646,\n",
       " 23525.729588994567,\n",
       " 19612.04901830269,\n",
       " 21726.34929556724,\n",
       " 24104.27603956354,\n",
       " 21893.891123622787,\n",
       " 21536.234748008676,\n",
       " 22595.592565974544,\n",
       " 20599.40550331187,\n",
       " 20223.439313973333,\n",
       " 23866.000721496202,\n",
       " 26636.229268799634,\n",
       " 22000.935633540255,\n",
       " 23080.482651736525,\n",
       " 24137.295416914712,\n",
       " 23010.705119219307,\n",
       " 21607.202746481835,\n",
       " 22099.64473306047,\n",
       " 22379.323410227084,\n",
       " 19857.529750226353,\n",
       " 23982.241171853875,\n",
       " 23591.212097451902,\n",
       " 21164.009873645595,\n",
       " 24529.904228615724,\n",
       " 20531.243921384437,\n",
       " 26906.914393193565,\n",
       " 23228.857187524074,\n",
       " 25134.663743573845,\n",
       " 21160.31658858249,\n",
       " 23473.39905891722]"
      ]
     },
     "execution_count": 101,
     "metadata": {},
     "output_type": "execute_result"
    }
   ],
   "source": [
    "yp"
   ]
  },
  {
   "cell_type": "code",
   "execution_count": 102,
   "metadata": {
    "execution": {
     "iopub.execute_input": "2020-10-16T10:23:29.440873Z",
     "iopub.status.busy": "2020-10-16T10:23:29.440137Z",
     "iopub.status.idle": "2020-10-16T10:23:29.446588Z",
     "shell.execute_reply": "2020-10-16T10:23:29.447162Z"
    },
    "papermill": {
     "duration": 0.15654,
     "end_time": "2020-10-16T10:23:29.447297",
     "exception": false,
     "start_time": "2020-10-16T10:23:29.290757",
     "status": "completed"
    },
    "tags": []
   },
   "outputs": [
    {
     "data": {
      "text/plain": [
       "8945.607732188615"
      ]
     },
     "execution_count": 102,
     "metadata": {},
     "output_type": "execute_result"
    }
   ],
   "source": [
    "from sklearn.metrics import mean_squared_error\n",
    "np.sqrt(mean_squared_error(yp,y_tesT))"
   ]
  }
 ],
 "metadata": {
  "kernelspec": {
   "display_name": "Python 3",
   "language": "python",
   "name": "python3"
  },
  "language_info": {
   "codemirror_mode": {
    "name": "ipython",
    "version": 3
   },
   "file_extension": ".py",
   "mimetype": "text/x-python",
   "name": "python",
   "nbconvert_exporter": "python",
   "pygments_lexer": "ipython3",
   "version": "3.7.4"
  },
  "papermill": {
   "duration": 321.119891,
   "end_time": "2020-10-16T10:23:31.804870",
   "environment_variables": {},
   "exception": null,
   "input_path": "__notebook__.ipynb",
   "output_path": "__notebook__.ipynb",
   "parameters": {},
   "start_time": "2020-10-16T10:18:10.684979",
   "version": "2.1.0"
  }
 },
 "nbformat": 4,
 "nbformat_minor": 4
}
